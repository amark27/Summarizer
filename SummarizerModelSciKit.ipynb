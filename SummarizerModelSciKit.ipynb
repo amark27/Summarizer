{
 "cells": [
  {
   "cell_type": "code",
   "execution_count": 12,
   "metadata": {},
   "outputs": [],
   "source": [
    "from sklearn.feature_extraction.text import TfidfVectorizer, CountVectorizer\n",
    "from sklearn.decomposition import TruncatedSVD\n",
    "from nltk.corpus import stopwords\n",
    "from nltk.tokenize import word_tokenize, sent_tokenize\n",
    "\n",
    "import nltk\n",
    "import string\n",
    "import pandas as pd\n",
    "import numpy as np\n",
    "\n",
    "#download assets from nltk\n",
    "#nltk.download('stopwords')\n",
    "#nltk.download('punkt')\n",
    "\n",
    "def tfidf(corpus):\n",
    "    '''\n",
    "    Computes the TF-IDF (term frequency - inverse document frequency) matrix\n",
    "\n",
    "    Args\n",
    "    - corpus: a list of documents\n",
    "\n",
    "    Returns\n",
    "    - tfidfVec: an m x n matrix of the corpus. m = number of different terms used in the documents, n = number of documents \n",
    "    - vocab: all the unique words used in the corpus, excluding stop words\n",
    "    '''\n",
    "\n",
    "    #vectorizer = TfidfVectorizer(stop_words = stopwords.words('english'))\n",
    "    vectorizer = CountVectorizer(stop_words='english')\n",
    "    tfidfVec = vectorizer.fit_transform(corpus)\n",
    "    vocab = vectorizer.get_feature_names()\n",
    "        \n",
    "    return tfidfVec, vocab\n",
    "\n",
    "def svd(tfidfVec):\n",
    "    '''\n",
    "    Gives the singular value decomposition of an m x n matrix.\n",
    "    A = U * sigma * V^t\n",
    "    \n",
    "    Args\n",
    "    - tfidfVec: an m x n matrix. m = number of documents or sentences, n = number of terms\n",
    "\n",
    "    Returns\n",
    "    - U: an m x r matrix of left singular values (document-topic table). r = number of topics\n",
    "    - sigma: an r x r diagonal matrix of singular values in decreasing order across the diagonal\n",
    "    - V^t: an n x r matrix of right singular values (term-topic table)\n",
    "    '''\n",
    "\n",
    "    lsa = TruncatedSVD(n_components = 10, n_iter=20)\n",
    "    u = lsa.fit_transform(tfidfVec)\n",
    "    sigma = lsa.singular_values_\n",
    "    vt = lsa.components_.T\n",
    "\n",
    "    return u, sigma, vt\n",
    "\n",
    "def getImportantSentences(u, sigma):\n",
    "    '''\n",
    "    Uses the LSA enhancement described by Josef Steinberg, et al.\n",
    "    Take all topics that have singular values > half of the largest singular value\n",
    "\n",
    "    Compute sk = sqrt(sum(v_ki^2 * sigma_i^2) from i = 1 to n)\n",
    "    sk is the length of the vector of the kth sentence\n",
    "    n is the number of topics \n",
    "    '''\n",
    "    #look for the sigma value range that we need to consider using binary search\n",
    "    #sigma array is sorted in descending order and will never be empty\n",
    "    l, r, target = 0, len(sigma), sigma[0]/2\n",
    "    while l < r:\n",
    "        mid = l + (r-l)//2\n",
    "\n",
    "        if sigma[mid] < target:\n",
    "            r = mid\n",
    "        else:\n",
    "            l = mid + 1\n",
    "    sigmaBound = l\n",
    "\n",
    "    uSlice = u[:, :sigmaBound]\n",
    "    sigmaSlice = sigma[:sigmaBound]\n",
    "    uSq = np.square(uSlice)\n",
    "    sigSq = np.square(np.diag(sigmaSlice))\n",
    "    prod = np.matmul(uSq, sigSq)\n",
    "    result = np.sqrt(np.sum(prod, axis = 1)).T\n",
    "\n",
    "    return (-result).argsort()\n",
    "\n",
    "def createWordToSentenceMap(corpus):\n",
    "    wordToSentence = {}\n",
    "    stopWords = set(stopwords.words('english'))\n",
    "\n",
    "    for i, doc in enumerate(corpus):\n",
    "        #remove punctuation while preserving contractions in text\n",
    "        sanitizeText = doc.translate(str.maketrans('', '', string.punctuation))\n",
    "        tokenized = word_tokenize(sanitizeText)\n",
    "        #remove duplicate words\n",
    "        tokenized = list(set([word.lower() for word in tokenized]))\n",
    "\n",
    "        for word in tokenized:\n",
    "            if word not in stopWords:\n",
    "                if word not in wordToSentence:\n",
    "                    wordToSentence[word] = [i]\n",
    "                else:\n",
    "                    wordToSentence[word].append(i)\n",
    "    \n",
    "    return wordToSentence\n",
    "\n",
    "def extractSummary(u, sigma, k, corpus):\n",
    "    '''\n",
    "    Summary will be taken from the top k sentences from getImportantSentences()\n",
    "    for each topic.\n",
    "    '''\n",
    "    return [corpus[i] for i in getImportantSentences(u, sigma)[:k]]\n"
   ]
  },
  {
   "cell_type": "code",
   "execution_count": 30,
   "metadata": {},
   "outputs": [],
   "source": [
    "def preProcess(blockText):\n",
    "    tokenized = sent_tokenize(blockText) \n",
    "    return [token.replace('\\n',' ') for token in tokenized]"
   ]
  },
  {
   "cell_type": "code",
   "execution_count": 31,
   "metadata": {},
   "outputs": [
    {
     "output_type": "display_data",
     "data": {
      "text/plain": "[' The list of businesses impacted by a lockdown beginning Monday in Toronto and Peel Region were not clearly communicated, the owner of a Toronto massage spa says.',\n 'While the Ontario government offered a partial list of what would remain open after the COVID-19 shutdown begins at 12:01 a.m., Kate Armstrong, owner and director of Bahn Thai Spa, told the Star she was unsure whether her business would be impacted.',\n 'The Ontario government’s late-afternoon announcement on Friday stated that personal services, such as nail and hair salons, would now be closed.',\n 'Missing, however, were details of all services included in the shutdown.',\n 'However, on Sunday, the Ministry of Health confirmed to the Star that “regulated health professionals including dentists, optometrists, chiropractic services, ophthalmologists, physical and occupational therapists and podiatrists will be able to operate.”  A spokesperson said that “under lockdown, regulated health professionals, including massage therapists, will be able to operate.',\n 'Regulated health professionals such as registered massage therapists were not impacted and therefore not referenced.”  Working “in partnership with the chief medical officer of health and our local medical officers of health, we continue to closely monitor the evolving situation to advise if and when public health measures need to be adjusted,” the spokesperson also said.',\n 'In Ontario’s first lockdown last spring, physiotherapy, chiropractic services and massage therapists were among those to close their doors, which left some confused about what is happening this time around.',\n '“We have to continue to communicate with clients that are calling and saying, ‘Are we seeing you on Monday or not?’ We’re having to say we’ll call you as soon as we know something more,” Armstrong said.',\n '“It’s not like a haircut,” she said, adding that people are often seeking massage to treat physical pain or for mental health care.',\n 'To Armstrong, massage has been as important as mental healthcare for Ontarians during the months-long pandemic.',\n '“I see the fatigue setting in on everyone’s faces ...',\n 'The stress is so high … right now, (with) people not being able to be with their families.',\n 'It’s so important to have human touch.”  The Ontario Physiotherapy Association shared the news that physiotherapy services would be able to continue operations, said Shafiq Bhanji, president of Athlete’s Care Sports Medicine Centres.',\n '“We received direction from our respective colleges and professional associations on Friday and over the weekend via email indicating that our services would not be impacted the upcoming lockdown,” Bhanji said in an email to the Star.',\n 'While Bhanji was able to confirm that Athlete’s Care could continue offering services and communicate that to clients via email, patients are still reaching out to verify whether they can keep their appointments.',\n '“It seems there was a fair bit of confusion in the general public about whether or not these services would be impacted,” Bhanji said.',\n '“... We are fortunate that our colleges and professional associations acted quickly to inform their members.”']"
     },
     "metadata": {}
    },
    {
     "output_type": "stream",
     "name": "stdout",
     "text": [
      "['01', '12', '19', 'able', 'acted', 'adding', 'adjusted', 'advise', 'afternoon', 'announcement', 'appointments', 'armstrong', 'association', 'associations', 'athlete', 'bahn', 'beginning', 'begins', 'bhanji', 'bit', 'business', 'businesses', 'calling', 'care', 'centres', 'chief', 'chiropractic', 'clearly', 'clients', 'close', 'closed', 'closely', 'colleges', 'communicate', 'communicated', 'confirm', 'confirmed', 'confused', 'confusion', 'continue', 'covid', 'dentists', 'details', 'direction', 'director', 'doors', 'email', 'evolving', 'faces', 'fair', 'families', 'fatigue', 'fortunate', 'friday', 'general', 'government', 'hair', 'haircut', 'happening', 'having', 'health', 'healthcare', 'high', 'human', 'impacted', 'important', 'included', 'including', 'indicating', 'inform', 'kate', 'know', 'late', 'left', 'like', 'list', 'll', 'local', 'lockdown', 'long', 'massage', 'measures', 'medical', 'medicine', 'members', 'mental', 'ministry', 'missing', 'monday', 'monitor', 'months', 'nail', 'need', 'news', 'occupational', 'offered', 'offering', 'officer', 'officers', 'ontarians', 'ontario', 'open', 'operate', 'operations', 'ophthalmologists', 'optometrists', 'owner', 'pain', 'pandemic', 'partial', 'partnership', 'patients', 'peel', 'people', 'personal', 'physical', 'physiotherapy', 'podiatrists', 'president', 'professional', 'professionals', 'public', 'quickly', 'reaching', 'received', 'referenced', 'region', 'registered', 'regulated', 'remain', 'respective', 'right', 'said', 'salons', 'say', 'saying', 'says', 'seeing', 'seeking', 'services', 'setting', 'shafiq', 'shared', 'shutdown', 'situation', 'soon', 'spa', 'spokesperson', 'sports', 'spring', 'star', 'stated', 'stress', 'sunday', 'thai', 'therapists', 'time', 'told', 'toronto', 'touch', 'treat', 'unsure', 'upcoming', 'verify', 'weekend', 'working']\n{'peel': [0], 'monday': [0, 7], 'massage': [0, 4, 5, 6, 8, 9], 'impacted': [0, 1, 5, 13, 15], 'list': [0, 1], 'region': [0], 'clearly': [0], 'toronto': [0], 'spa': [0, 1], 'owner': [0, 1], 'businesses': [0], 'beginning': [0], 'says': [0], 'communicated': [0], 'lockdown': [0, 4, 6, 13], 'partial': [1], 'government': [1, 2], 'star': [1, 4, 13], 'open': [1], 'shutdown': [1, 3], 'whether': [1, 14, 15], 'business': [1], 'thai': [1], 'covid19': [1], 'told': [1], 'bahn': [1], 'offered': [1], 'unsure': [1], 'remain': [1], 'begins': [1], 'kate': [1], 'director': [1], '1201': [1], 'would': [1, 2, 12, 13, 15], 'armstrong': [1, 7, 9], 'ontario': [1, 2, 6, 12], 'stated': [2], '’': [2, 6, 7, 8, 10, 12, 14], 'salons': [2], 'nail': [2], 'closed': [2], 'announcement': [2], 'services': [2, 3, 4, 6, 12, 13, 14, 15], 'hair': [2], 'friday': [2, 13], 'lateafternoon': [2], 'personal': [2], 'missing': [3], 'details': [3], 'included': [3], 'however': [3, 4], 'including': [4], 'dentists': [4], 'physical': [4, 8], 'ophthalmologists': [4], 'spokesperson': [4, 5], 'regulated': [4, 5], 'professionals': [4, 5], 'able': [4, 11, 12, 14], 'operate': [4], 'chiropractic': [4, 6], '“': [4, 5, 7, 8, 10, 13, 15, 16], 'ministry': [4], 'said': [4, 5, 7, 8, 12, 13, 15], 'occupational': [4], 'optometrists': [4], 'podiatrists': [4], 'sunday': [4], 'therapists': [4, 5, 6], 'health': [4, 5, 8], '”': [4, 5, 7, 8, 12, 13, 15, 16], 'confirmed': [4], 'therefore': [5], 'partnership': [5], 'monitor': [5], 'continue': [5, 7, 12, 14], 'closely': [5], 'need': [5], 'medical': [5], 'adjusted': [5], 'chief': [5], 'officers': [5], 'measures': [5], 'officer': [5], 'registered': [5], 'advise': [5], 'also': [5], 'working': [5], 'situation': [5], 'evolving': [5], 'referenced': [5], 'local': [5], 'public': [5, 15], 'last': [6], 'doors': [6], 'confused': [6], 'left': [6], 'around': [6], 'first': [6], 'time': [6], 'among': [6], 'happening': [6], 'spring': [6], 'physiotherapy': [6, 12], 'close': [6], '‘': [7], 'soon': [7], 'clients': [7, 14], 'say': [7], 'communicate': [7, 14], 'saying': [7], 'calling': [7], 'call': [7], 'seeing': [7], 'something': [7], 'know': [7], 'care': [8, 12, 14], 'adding': [8], 'often': [8], 'like': [8], 'seeking': [8], 'treat': [8], 'people': [8, 11], 'mental': [8, 9], 'haircut': [8], 'pain': [8], 'healthcare': [9], 'important': [9, 12], 'pandemic': [9], 'ontarians': [9], 'monthslong': [9], 'setting': [10], 'faces': [10], 'everyone': [10], 'fatigue': [10], 'see': [10], 'right': [11], 'high': [11], 'families': [11], '…': [11], 'stress': [11], 'news': [12], 'medicine': [12], 'sports': [12], 'human': [12], 'association': [12], 'bhanji': [12, 13, 14, 15], 'shared': [12], 'centres': [12], 'athlete': [12, 14], 'president': [12], 'operations': [12], 'shafiq': [12], 'touch': [12], 'professional': [13, 16], 'colleges': [13, 16], 'weekend': [13], 'via': [13, 14], 'direction': [13], 'upcoming': [13], 'associations': [13, 16], 'respective': [13], 'indicating': [13], 'email': [13, 14], 'received': [13], 'keep': [14], 'still': [14], 'confirm': [14], 'verify': [14], 'offering': [14], 'could': [14], 'appointments': [14], 'patients': [14], 'reaching': [14], 'confusion': [15], 'bit': [15], 'general': [15], 'seems': [15], 'fair': [15], 'quickly': [16], 'inform': [16], 'fortunate': [16], 'acted': [16], 'members': [16]}\n  (0, 75)\t1\n  (0, 21)\t1\n  (0, 64)\t1\n  (0, 78)\t1\n  (0, 16)\t1\n  (0, 88)\t1\n  (0, 158)\t2\n  (0, 112)\t1\n  (0, 126)\t1\n  (0, 27)\t1\n  (0, 34)\t1\n  (0, 106)\t1\n  (0, 80)\t1\n  (0, 146)\t1\n  (0, 136)\t1\n  (1, 75)\t1\n  (1, 64)\t1\n  (1, 106)\t1\n  (1, 146)\t1\n  (1, 100)\t1\n  (1, 55)\t1\n  (1, 95)\t1\n  (1, 109)\t1\n  (1, 129)\t1\n  (1, 101)\t1\n  :\t:\n  (14, 14)\t1\n  (14, 46)\t1\n  (14, 35)\t1\n  (14, 96)\t1\n  (14, 111)\t1\n  (14, 123)\t1\n  (14, 163)\t1\n  (14, 10)\t1\n  (15, 64)\t1\n  (15, 139)\t1\n  (15, 132)\t1\n  (15, 121)\t1\n  (15, 18)\t1\n  (15, 49)\t1\n  (15, 19)\t1\n  (15, 38)\t1\n  (15, 54)\t1\n  (16, 32)\t1\n  (16, 119)\t1\n  (16, 13)\t1\n  (16, 52)\t1\n  (16, 4)\t1\n  (16, 122)\t1\n  (16, 69)\t1\n  (16, 84)\t1\n----------------------------------------------------------\n"
     ]
    },
    {
     "output_type": "display_data",
     "data": {
      "text/plain": "                                            Documents        topic1  \\\n0    The list of businesses impacted by a lockdown...  5.733549e-01   \n1   While the Ontario government offered a partial...  4.181120e-01   \n2   The Ontario government’s late-afternoon announ...  2.451232e-01   \n3   Missing, however, were details of all services...  1.654312e-01   \n4   However, on Sunday, the Ministry of Health con...  6.068741e+00   \n5   Regulated health professionals such as registe...  5.373233e+00   \n6   In Ontario’s first lockdown last spring, physi...  1.005183e+00   \n7   “We have to continue to communicate with clien...  4.329970e-01   \n8   “It’s not like a haircut,” she said, adding th...  1.280971e+00   \n9   To Armstrong, massage has been as important as...  2.770382e-01   \n10  “I see the fatigue setting in on everyone’s fa...  3.417855e-22   \n11  The stress is so high … right now, (with) peop...  2.294191e-01   \n12  It’s so important to have human touch.”  The O...  1.097862e+00   \n13  “We received direction from our respective col...  9.593559e-01   \n14  While Bhanji was able to confirm that Athlete’...  6.899503e-01   \n15  “It seems there was a fair bit of confusion in...  6.461476e-01   \n16  “... We are fortunate that our colleges and pr...  4.477280e-02   \n\n          topic2        topic3        topic4        topic5        topic6  \\\n0   8.396878e-01  1.675249e+00  9.779961e-01  6.480998e-01  3.351836e+00   \n1   1.884095e+00  3.571864e+00  2.109817e+00 -1.259232e+00 -1.414688e+00   \n2   1.041237e+00  1.966595e-01  7.512446e-02  4.942955e-02 -7.973867e-01   \n3   4.533973e-01  1.429418e-02  4.687537e-02  4.012813e-02 -2.055919e-01   \n4   1.083800e-01 -2.187905e+00  2.620222e+00 -1.279322e-01 -2.063247e-01   \n5  -2.193546e+00  2.210515e+00 -2.441951e+00  6.425418e-03 -2.558828e-01   \n6   1.226459e+00 -3.430399e-01  3.456052e-01 -3.179000e-01  8.269286e-01   \n7   7.554828e-01  3.575215e-01 -7.246776e-01 -1.043790e-01  5.975294e-01   \n8   1.328839e-01  1.316760e-02 -3.708873e-01 -1.904938e-01  7.271533e-01   \n9   2.568594e-01  2.427280e-01  3.078552e-03 -3.491427e-01  5.982232e-01   \n10  1.575532e-21  4.493521e-18 -1.737373e-17  6.075590e-17 -2.824603e-17   \n11  2.044457e-01 -2.797267e-01  8.439570e-02 -1.680269e-01  3.191124e-02   \n12  3.240765e+00 -9.237537e-01 -2.095252e+00 -2.059623e+00  2.161305e-01   \n13  2.280241e+00  3.293425e-01 -3.612565e-01  3.383614e+00 -7.289808e-01   \n14  1.899750e+00 -6.082448e-01 -1.150834e+00  2.715315e-01 -1.911302e-01   \n15  9.479434e-01  2.805905e-01 -5.948363e-01  6.338714e-01 -9.743525e-02   \n16  2.752377e-01  5.180281e-02 -6.287675e-02  8.984504e-01 -2.531472e-01   \n\n          topic7        topic8        topic9       topic10  \n0  -2.314502e-01 -1.803172e-01 -8.540333e-01 -7.734972e-01  \n1   4.204671e-01 -4.004819e-01  9.520558e-02  1.491290e-01  \n2  -1.289564e+00  2.378686e+00  3.045175e-01 -1.614288e+00  \n3  -1.677731e-01  2.454340e-01 -4.758368e-02 -9.171092e-02  \n4   4.429118e-01 -1.341970e-01 -2.737936e-01 -5.990454e-02  \n5  -4.330012e-01  1.085281e-01 -3.447424e-01  6.541710e-02  \n6  -1.777434e+00  1.303354e+00  3.604810e-01  1.688418e+00  \n7   2.552526e+00  1.660226e+00  1.657622e-01  1.295077e+00  \n8   4.299136e-01 -4.808293e-01  2.842603e+00 -9.264928e-01  \n9   1.811334e-01  8.735893e-02  1.398263e+00  3.558566e-01  \n10 -6.512481e-16 -1.032809e-15  1.945402e-16 -4.590607e-19  \n11  2.350753e-01 -2.131967e-01  1.825456e-01 -4.288239e-01  \n12 -6.950995e-01 -1.084763e+00 -3.357546e-01  1.524126e-01  \n13 -2.928368e-01 -5.944852e-01  3.371734e-01  4.701649e-01  \n14  1.562456e+00  4.361683e-01 -8.243594e-01 -1.192815e+00  \n15 -9.674692e-02 -4.966524e-02 -6.885449e-03 -1.311038e-01  \n16 -1.205621e-01 -3.914115e-01  2.398624e-01  4.921289e-01  ",
      "text/html": "<div>\n<style scoped>\n    .dataframe tbody tr th:only-of-type {\n        vertical-align: middle;\n    }\n\n    .dataframe tbody tr th {\n        vertical-align: top;\n    }\n\n    .dataframe thead th {\n        text-align: right;\n    }\n</style>\n<table border=\"1\" class=\"dataframe\">\n  <thead>\n    <tr style=\"text-align: right;\">\n      <th></th>\n      <th>Documents</th>\n      <th>topic1</th>\n      <th>topic2</th>\n      <th>topic3</th>\n      <th>topic4</th>\n      <th>topic5</th>\n      <th>topic6</th>\n      <th>topic7</th>\n      <th>topic8</th>\n      <th>topic9</th>\n      <th>topic10</th>\n    </tr>\n  </thead>\n  <tbody>\n    <tr>\n      <td>0</td>\n      <td>The list of businesses impacted by a lockdown...</td>\n      <td>5.733549e-01</td>\n      <td>8.396878e-01</td>\n      <td>1.675249e+00</td>\n      <td>9.779961e-01</td>\n      <td>6.480998e-01</td>\n      <td>3.351836e+00</td>\n      <td>-2.314502e-01</td>\n      <td>-1.803172e-01</td>\n      <td>-8.540333e-01</td>\n      <td>-7.734972e-01</td>\n    </tr>\n    <tr>\n      <td>1</td>\n      <td>While the Ontario government offered a partial...</td>\n      <td>4.181120e-01</td>\n      <td>1.884095e+00</td>\n      <td>3.571864e+00</td>\n      <td>2.109817e+00</td>\n      <td>-1.259232e+00</td>\n      <td>-1.414688e+00</td>\n      <td>4.204671e-01</td>\n      <td>-4.004819e-01</td>\n      <td>9.520558e-02</td>\n      <td>1.491290e-01</td>\n    </tr>\n    <tr>\n      <td>2</td>\n      <td>The Ontario government’s late-afternoon announ...</td>\n      <td>2.451232e-01</td>\n      <td>1.041237e+00</td>\n      <td>1.966595e-01</td>\n      <td>7.512446e-02</td>\n      <td>4.942955e-02</td>\n      <td>-7.973867e-01</td>\n      <td>-1.289564e+00</td>\n      <td>2.378686e+00</td>\n      <td>3.045175e-01</td>\n      <td>-1.614288e+00</td>\n    </tr>\n    <tr>\n      <td>3</td>\n      <td>Missing, however, were details of all services...</td>\n      <td>1.654312e-01</td>\n      <td>4.533973e-01</td>\n      <td>1.429418e-02</td>\n      <td>4.687537e-02</td>\n      <td>4.012813e-02</td>\n      <td>-2.055919e-01</td>\n      <td>-1.677731e-01</td>\n      <td>2.454340e-01</td>\n      <td>-4.758368e-02</td>\n      <td>-9.171092e-02</td>\n    </tr>\n    <tr>\n      <td>4</td>\n      <td>However, on Sunday, the Ministry of Health con...</td>\n      <td>6.068741e+00</td>\n      <td>1.083800e-01</td>\n      <td>-2.187905e+00</td>\n      <td>2.620222e+00</td>\n      <td>-1.279322e-01</td>\n      <td>-2.063247e-01</td>\n      <td>4.429118e-01</td>\n      <td>-1.341970e-01</td>\n      <td>-2.737936e-01</td>\n      <td>-5.990454e-02</td>\n    </tr>\n    <tr>\n      <td>5</td>\n      <td>Regulated health professionals such as registe...</td>\n      <td>5.373233e+00</td>\n      <td>-2.193546e+00</td>\n      <td>2.210515e+00</td>\n      <td>-2.441951e+00</td>\n      <td>6.425418e-03</td>\n      <td>-2.558828e-01</td>\n      <td>-4.330012e-01</td>\n      <td>1.085281e-01</td>\n      <td>-3.447424e-01</td>\n      <td>6.541710e-02</td>\n    </tr>\n    <tr>\n      <td>6</td>\n      <td>In Ontario’s first lockdown last spring, physi...</td>\n      <td>1.005183e+00</td>\n      <td>1.226459e+00</td>\n      <td>-3.430399e-01</td>\n      <td>3.456052e-01</td>\n      <td>-3.179000e-01</td>\n      <td>8.269286e-01</td>\n      <td>-1.777434e+00</td>\n      <td>1.303354e+00</td>\n      <td>3.604810e-01</td>\n      <td>1.688418e+00</td>\n    </tr>\n    <tr>\n      <td>7</td>\n      <td>“We have to continue to communicate with clien...</td>\n      <td>4.329970e-01</td>\n      <td>7.554828e-01</td>\n      <td>3.575215e-01</td>\n      <td>-7.246776e-01</td>\n      <td>-1.043790e-01</td>\n      <td>5.975294e-01</td>\n      <td>2.552526e+00</td>\n      <td>1.660226e+00</td>\n      <td>1.657622e-01</td>\n      <td>1.295077e+00</td>\n    </tr>\n    <tr>\n      <td>8</td>\n      <td>“It’s not like a haircut,” she said, adding th...</td>\n      <td>1.280971e+00</td>\n      <td>1.328839e-01</td>\n      <td>1.316760e-02</td>\n      <td>-3.708873e-01</td>\n      <td>-1.904938e-01</td>\n      <td>7.271533e-01</td>\n      <td>4.299136e-01</td>\n      <td>-4.808293e-01</td>\n      <td>2.842603e+00</td>\n      <td>-9.264928e-01</td>\n    </tr>\n    <tr>\n      <td>9</td>\n      <td>To Armstrong, massage has been as important as...</td>\n      <td>2.770382e-01</td>\n      <td>2.568594e-01</td>\n      <td>2.427280e-01</td>\n      <td>3.078552e-03</td>\n      <td>-3.491427e-01</td>\n      <td>5.982232e-01</td>\n      <td>1.811334e-01</td>\n      <td>8.735893e-02</td>\n      <td>1.398263e+00</td>\n      <td>3.558566e-01</td>\n    </tr>\n    <tr>\n      <td>10</td>\n      <td>“I see the fatigue setting in on everyone’s fa...</td>\n      <td>3.417855e-22</td>\n      <td>1.575532e-21</td>\n      <td>4.493521e-18</td>\n      <td>-1.737373e-17</td>\n      <td>6.075590e-17</td>\n      <td>-2.824603e-17</td>\n      <td>-6.512481e-16</td>\n      <td>-1.032809e-15</td>\n      <td>1.945402e-16</td>\n      <td>-4.590607e-19</td>\n    </tr>\n    <tr>\n      <td>11</td>\n      <td>The stress is so high … right now, (with) peop...</td>\n      <td>2.294191e-01</td>\n      <td>2.044457e-01</td>\n      <td>-2.797267e-01</td>\n      <td>8.439570e-02</td>\n      <td>-1.680269e-01</td>\n      <td>3.191124e-02</td>\n      <td>2.350753e-01</td>\n      <td>-2.131967e-01</td>\n      <td>1.825456e-01</td>\n      <td>-4.288239e-01</td>\n    </tr>\n    <tr>\n      <td>12</td>\n      <td>It’s so important to have human touch.”  The O...</td>\n      <td>1.097862e+00</td>\n      <td>3.240765e+00</td>\n      <td>-9.237537e-01</td>\n      <td>-2.095252e+00</td>\n      <td>-2.059623e+00</td>\n      <td>2.161305e-01</td>\n      <td>-6.950995e-01</td>\n      <td>-1.084763e+00</td>\n      <td>-3.357546e-01</td>\n      <td>1.524126e-01</td>\n    </tr>\n    <tr>\n      <td>13</td>\n      <td>“We received direction from our respective col...</td>\n      <td>9.593559e-01</td>\n      <td>2.280241e+00</td>\n      <td>3.293425e-01</td>\n      <td>-3.612565e-01</td>\n      <td>3.383614e+00</td>\n      <td>-7.289808e-01</td>\n      <td>-2.928368e-01</td>\n      <td>-5.944852e-01</td>\n      <td>3.371734e-01</td>\n      <td>4.701649e-01</td>\n    </tr>\n    <tr>\n      <td>14</td>\n      <td>While Bhanji was able to confirm that Athlete’...</td>\n      <td>6.899503e-01</td>\n      <td>1.899750e+00</td>\n      <td>-6.082448e-01</td>\n      <td>-1.150834e+00</td>\n      <td>2.715315e-01</td>\n      <td>-1.911302e-01</td>\n      <td>1.562456e+00</td>\n      <td>4.361683e-01</td>\n      <td>-8.243594e-01</td>\n      <td>-1.192815e+00</td>\n    </tr>\n    <tr>\n      <td>15</td>\n      <td>“It seems there was a fair bit of confusion in...</td>\n      <td>6.461476e-01</td>\n      <td>9.479434e-01</td>\n      <td>2.805905e-01</td>\n      <td>-5.948363e-01</td>\n      <td>6.338714e-01</td>\n      <td>-9.743525e-02</td>\n      <td>-9.674692e-02</td>\n      <td>-4.966524e-02</td>\n      <td>-6.885449e-03</td>\n      <td>-1.311038e-01</td>\n    </tr>\n    <tr>\n      <td>16</td>\n      <td>“... We are fortunate that our colleges and pr...</td>\n      <td>4.477280e-02</td>\n      <td>2.752377e-01</td>\n      <td>5.180281e-02</td>\n      <td>-6.287675e-02</td>\n      <td>8.984504e-01</td>\n      <td>-2.531472e-01</td>\n      <td>-1.205621e-01</td>\n      <td>-3.914115e-01</td>\n      <td>2.398624e-01</td>\n      <td>4.921289e-01</td>\n    </tr>\n  </tbody>\n</table>\n</div>"
     },
     "metadata": {}
    },
    {
     "output_type": "stream",
     "name": "stdout",
     "text": [
      "----------------------------------------------------------\n[8.50185931 5.73182996 5.20315806 5.02358551 4.39296778 4.07909479\n 3.90983219 3.54351125 3.49529473 3.29637809]\n----------------------------------------------------------\n"
     ]
    },
    {
     "output_type": "display_data",
     "data": {
      "text/plain": "        Terms    topic1    topic2    topic3    topic4    topic5    topic6  \\\n0          01  0.005784  0.057348  0.131935  0.083602 -0.065251 -0.085022   \n1          12  0.005784  0.057348  0.131935  0.083602 -0.065251 -0.085022   \n2          19  0.005784  0.057348  0.131935  0.083602 -0.065251 -0.085022   \n3        able  0.195827  0.169287 -0.228551  0.082371 -0.114621 -0.021380   \n4       acted  0.000619  0.008378  0.001913 -0.002492  0.046556 -0.015214   \n..        ...       ...       ...       ...       ...       ...       ...   \n161    unsure  0.005784  0.057348  0.131935  0.083602 -0.065251 -0.085022   \n162  upcoming  0.013272  0.069406  0.012165 -0.014315  0.175333 -0.043812   \n163    verify  0.009545  0.057824 -0.022467 -0.045602  0.014070 -0.011487   \n164   weekend  0.013272  0.069406  0.012165 -0.014315  0.175333 -0.043812   \n165   working  0.074337 -0.066767  0.081651 -0.096763  0.000333 -0.015378   \n\n       topic7    topic8    topic9   topic10  \n0    0.027505 -0.031894  0.007793  0.013724  \n1    0.027505 -0.031894  0.007793  0.013724  \n2    0.027505 -0.031894  0.007793  0.013724  \n3    0.130064 -0.090008 -0.124838 -0.146238  \n4   -0.007887 -0.031172  0.019633  0.045290  \n..        ...       ...       ...       ...  \n161  0.027505 -0.031894  0.007793  0.013724  \n162 -0.019156 -0.047345  0.027599  0.043269  \n163  0.102210  0.034737 -0.067476 -0.109774  \n164 -0.019156 -0.047345  0.027599  0.043269  \n165 -0.028325  0.008643 -0.028218  0.006020  \n\n[166 rows x 11 columns]",
      "text/html": "<div>\n<style scoped>\n    .dataframe tbody tr th:only-of-type {\n        vertical-align: middle;\n    }\n\n    .dataframe tbody tr th {\n        vertical-align: top;\n    }\n\n    .dataframe thead th {\n        text-align: right;\n    }\n</style>\n<table border=\"1\" class=\"dataframe\">\n  <thead>\n    <tr style=\"text-align: right;\">\n      <th></th>\n      <th>Terms</th>\n      <th>topic1</th>\n      <th>topic2</th>\n      <th>topic3</th>\n      <th>topic4</th>\n      <th>topic5</th>\n      <th>topic6</th>\n      <th>topic7</th>\n      <th>topic8</th>\n      <th>topic9</th>\n      <th>topic10</th>\n    </tr>\n  </thead>\n  <tbody>\n    <tr>\n      <td>0</td>\n      <td>01</td>\n      <td>0.005784</td>\n      <td>0.057348</td>\n      <td>0.131935</td>\n      <td>0.083602</td>\n      <td>-0.065251</td>\n      <td>-0.085022</td>\n      <td>0.027505</td>\n      <td>-0.031894</td>\n      <td>0.007793</td>\n      <td>0.013724</td>\n    </tr>\n    <tr>\n      <td>1</td>\n      <td>12</td>\n      <td>0.005784</td>\n      <td>0.057348</td>\n      <td>0.131935</td>\n      <td>0.083602</td>\n      <td>-0.065251</td>\n      <td>-0.085022</td>\n      <td>0.027505</td>\n      <td>-0.031894</td>\n      <td>0.007793</td>\n      <td>0.013724</td>\n    </tr>\n    <tr>\n      <td>2</td>\n      <td>19</td>\n      <td>0.005784</td>\n      <td>0.057348</td>\n      <td>0.131935</td>\n      <td>0.083602</td>\n      <td>-0.065251</td>\n      <td>-0.085022</td>\n      <td>0.027505</td>\n      <td>-0.031894</td>\n      <td>0.007793</td>\n      <td>0.013724</td>\n    </tr>\n    <tr>\n      <td>3</td>\n      <td>able</td>\n      <td>0.195827</td>\n      <td>0.169287</td>\n      <td>-0.228551</td>\n      <td>0.082371</td>\n      <td>-0.114621</td>\n      <td>-0.021380</td>\n      <td>0.130064</td>\n      <td>-0.090008</td>\n      <td>-0.124838</td>\n      <td>-0.146238</td>\n    </tr>\n    <tr>\n      <td>4</td>\n      <td>acted</td>\n      <td>0.000619</td>\n      <td>0.008378</td>\n      <td>0.001913</td>\n      <td>-0.002492</td>\n      <td>0.046556</td>\n      <td>-0.015214</td>\n      <td>-0.007887</td>\n      <td>-0.031172</td>\n      <td>0.019633</td>\n      <td>0.045290</td>\n    </tr>\n    <tr>\n      <td>...</td>\n      <td>...</td>\n      <td>...</td>\n      <td>...</td>\n      <td>...</td>\n      <td>...</td>\n      <td>...</td>\n      <td>...</td>\n      <td>...</td>\n      <td>...</td>\n      <td>...</td>\n      <td>...</td>\n    </tr>\n    <tr>\n      <td>161</td>\n      <td>unsure</td>\n      <td>0.005784</td>\n      <td>0.057348</td>\n      <td>0.131935</td>\n      <td>0.083602</td>\n      <td>-0.065251</td>\n      <td>-0.085022</td>\n      <td>0.027505</td>\n      <td>-0.031894</td>\n      <td>0.007793</td>\n      <td>0.013724</td>\n    </tr>\n    <tr>\n      <td>162</td>\n      <td>upcoming</td>\n      <td>0.013272</td>\n      <td>0.069406</td>\n      <td>0.012165</td>\n      <td>-0.014315</td>\n      <td>0.175333</td>\n      <td>-0.043812</td>\n      <td>-0.019156</td>\n      <td>-0.047345</td>\n      <td>0.027599</td>\n      <td>0.043269</td>\n    </tr>\n    <tr>\n      <td>163</td>\n      <td>verify</td>\n      <td>0.009545</td>\n      <td>0.057824</td>\n      <td>-0.022467</td>\n      <td>-0.045602</td>\n      <td>0.014070</td>\n      <td>-0.011487</td>\n      <td>0.102210</td>\n      <td>0.034737</td>\n      <td>-0.067476</td>\n      <td>-0.109774</td>\n    </tr>\n    <tr>\n      <td>164</td>\n      <td>weekend</td>\n      <td>0.013272</td>\n      <td>0.069406</td>\n      <td>0.012165</td>\n      <td>-0.014315</td>\n      <td>0.175333</td>\n      <td>-0.043812</td>\n      <td>-0.019156</td>\n      <td>-0.047345</td>\n      <td>0.027599</td>\n      <td>0.043269</td>\n    </tr>\n    <tr>\n      <td>165</td>\n      <td>working</td>\n      <td>0.074337</td>\n      <td>-0.066767</td>\n      <td>0.081651</td>\n      <td>-0.096763</td>\n      <td>0.000333</td>\n      <td>-0.015378</td>\n      <td>-0.028325</td>\n      <td>0.008643</td>\n      <td>-0.028218</td>\n      <td>0.006020</td>\n    </tr>\n  </tbody>\n</table>\n<p>166 rows × 11 columns</p>\n</div>"
     },
     "metadata": {}
    },
    {
     "output_type": "display_data",
     "data": {
      "text/plain": "             Terms        topic1\n60          health  5.669509e-01\n155     therapists  2.561633e-01\n120  professionals  2.422568e-01\n128      regulated  2.422568e-01\n132           said  2.194100e-01\n..             ...           ...\n52       fortunate  6.194217e-04\n4            acted  6.194217e-04\n140        setting  7.953368e-23\n51         fatigue  7.953368e-23\n48           faces  7.953368e-23\n\n[166 rows x 2 columns]",
      "text/html": "<div>\n<style scoped>\n    .dataframe tbody tr th:only-of-type {\n        vertical-align: middle;\n    }\n\n    .dataframe tbody tr th {\n        vertical-align: top;\n    }\n\n    .dataframe thead th {\n        text-align: right;\n    }\n</style>\n<table border=\"1\" class=\"dataframe\">\n  <thead>\n    <tr style=\"text-align: right;\">\n      <th></th>\n      <th>Terms</th>\n      <th>topic1</th>\n    </tr>\n  </thead>\n  <tbody>\n    <tr>\n      <td>60</td>\n      <td>health</td>\n      <td>5.669509e-01</td>\n    </tr>\n    <tr>\n      <td>155</td>\n      <td>therapists</td>\n      <td>2.561633e-01</td>\n    </tr>\n    <tr>\n      <td>120</td>\n      <td>professionals</td>\n      <td>2.422568e-01</td>\n    </tr>\n    <tr>\n      <td>128</td>\n      <td>regulated</td>\n      <td>2.422568e-01</td>\n    </tr>\n    <tr>\n      <td>132</td>\n      <td>said</td>\n      <td>2.194100e-01</td>\n    </tr>\n    <tr>\n      <td>...</td>\n      <td>...</td>\n      <td>...</td>\n    </tr>\n    <tr>\n      <td>52</td>\n      <td>fortunate</td>\n      <td>6.194217e-04</td>\n    </tr>\n    <tr>\n      <td>4</td>\n      <td>acted</td>\n      <td>6.194217e-04</td>\n    </tr>\n    <tr>\n      <td>140</td>\n      <td>setting</td>\n      <td>7.953368e-23</td>\n    </tr>\n    <tr>\n      <td>51</td>\n      <td>fatigue</td>\n      <td>7.953368e-23</td>\n    </tr>\n    <tr>\n      <td>48</td>\n      <td>faces</td>\n      <td>7.953368e-23</td>\n    </tr>\n  </tbody>\n</table>\n<p>166 rows × 2 columns</p>\n</div>"
     },
     "metadata": {}
    },
    {
     "output_type": "display_data",
     "data": {
      "text/plain": "             Terms    topic2\n139       services  0.340848\n18          bhanji  0.254725\n116  physiotherapy  0.234614\n100        ontario  0.225013\n46           email  0.196635\n..             ...       ...\n31         closely -0.066767\n127     registered -0.066767\n165        working -0.066767\n82         medical -0.133534\n60          health -0.253126\n\n[166 rows x 2 columns]",
      "text/html": "<div>\n<style scoped>\n    .dataframe tbody tr th:only-of-type {\n        vertical-align: middle;\n    }\n\n    .dataframe tbody tr th {\n        vertical-align: top;\n    }\n\n    .dataframe thead th {\n        text-align: right;\n    }\n</style>\n<table border=\"1\" class=\"dataframe\">\n  <thead>\n    <tr style=\"text-align: right;\">\n      <th></th>\n      <th>Terms</th>\n      <th>topic2</th>\n    </tr>\n  </thead>\n  <tbody>\n    <tr>\n      <td>139</td>\n      <td>services</td>\n      <td>0.340848</td>\n    </tr>\n    <tr>\n      <td>18</td>\n      <td>bhanji</td>\n      <td>0.254725</td>\n    </tr>\n    <tr>\n      <td>116</td>\n      <td>physiotherapy</td>\n      <td>0.234614</td>\n    </tr>\n    <tr>\n      <td>100</td>\n      <td>ontario</td>\n      <td>0.225013</td>\n    </tr>\n    <tr>\n      <td>46</td>\n      <td>email</td>\n      <td>0.196635</td>\n    </tr>\n    <tr>\n      <td>...</td>\n      <td>...</td>\n      <td>...</td>\n    </tr>\n    <tr>\n      <td>31</td>\n      <td>closely</td>\n      <td>-0.066767</td>\n    </tr>\n    <tr>\n      <td>127</td>\n      <td>registered</td>\n      <td>-0.066767</td>\n    </tr>\n    <tr>\n      <td>165</td>\n      <td>working</td>\n      <td>-0.066767</td>\n    </tr>\n    <tr>\n      <td>82</td>\n      <td>medical</td>\n      <td>-0.133534</td>\n    </tr>\n    <tr>\n      <td>60</td>\n      <td>health</td>\n      <td>-0.253126</td>\n    </tr>\n  </tbody>\n</table>\n<p>166 rows × 2 columns</p>\n</div>"
     },
     "metadata": {}
    },
    {
     "output_type": "display_data",
     "data": {
      "text/plain": "            Terms    topic3\n64       impacted  0.297994\n106         owner  0.193815\n75           list  0.193815\n146           spa  0.193815\n82        medical  0.163301\n..            ...       ...\n26   chiropractic -0.093486\n139      services -0.119753\n102       operate -0.161631\n67      including -0.161631\n3            able -0.228551\n\n[166 rows x 2 columns]",
      "text/html": "<div>\n<style scoped>\n    .dataframe tbody tr th:only-of-type {\n        vertical-align: middle;\n    }\n\n    .dataframe tbody tr th {\n        vertical-align: top;\n    }\n\n    .dataframe thead th {\n        text-align: right;\n    }\n</style>\n<table border=\"1\" class=\"dataframe\">\n  <thead>\n    <tr style=\"text-align: right;\">\n      <th></th>\n      <th>Terms</th>\n      <th>topic3</th>\n    </tr>\n  </thead>\n  <tbody>\n    <tr>\n      <td>64</td>\n      <td>impacted</td>\n      <td>0.297994</td>\n    </tr>\n    <tr>\n      <td>106</td>\n      <td>owner</td>\n      <td>0.193815</td>\n    </tr>\n    <tr>\n      <td>75</td>\n      <td>list</td>\n      <td>0.193815</td>\n    </tr>\n    <tr>\n      <td>146</td>\n      <td>spa</td>\n      <td>0.193815</td>\n    </tr>\n    <tr>\n      <td>82</td>\n      <td>medical</td>\n      <td>0.163301</td>\n    </tr>\n    <tr>\n      <td>...</td>\n      <td>...</td>\n      <td>...</td>\n    </tr>\n    <tr>\n      <td>26</td>\n      <td>chiropractic</td>\n      <td>-0.093486</td>\n    </tr>\n    <tr>\n      <td>139</td>\n      <td>services</td>\n      <td>-0.119753</td>\n    </tr>\n    <tr>\n      <td>102</td>\n      <td>operate</td>\n      <td>-0.161631</td>\n    </tr>\n    <tr>\n      <td>67</td>\n      <td>including</td>\n      <td>-0.161631</td>\n    </tr>\n    <tr>\n      <td>3</td>\n      <td>able</td>\n      <td>-0.228551</td>\n    </tr>\n  </tbody>\n</table>\n<p>166 rows × 2 columns</p>\n</div>"
     },
     "metadata": {}
    },
    {
     "output_type": "display_data",
     "data": {
      "text/plain": "             Terms    topic4\n67       including  0.207654\n102        operate  0.207654\n150           star  0.173114\n78        lockdown  0.141960\n155     therapists  0.124586\n..             ...       ...\n116  physiotherapy -0.152355\n132           said -0.157258\n18          bhanji -0.166513\n82         medical -0.193526\n39        continue -0.254106\n\n[166 rows x 2 columns]",
      "text/html": "<div>\n<style scoped>\n    .dataframe tbody tr th:only-of-type {\n        vertical-align: middle;\n    }\n\n    .dataframe tbody tr th {\n        vertical-align: top;\n    }\n\n    .dataframe thead th {\n        text-align: right;\n    }\n</style>\n<table border=\"1\" class=\"dataframe\">\n  <thead>\n    <tr style=\"text-align: right;\">\n      <th></th>\n      <th>Terms</th>\n      <th>topic4</th>\n    </tr>\n  </thead>\n  <tbody>\n    <tr>\n      <td>67</td>\n      <td>including</td>\n      <td>0.207654</td>\n    </tr>\n    <tr>\n      <td>102</td>\n      <td>operate</td>\n      <td>0.207654</td>\n    </tr>\n    <tr>\n      <td>150</td>\n      <td>star</td>\n      <td>0.173114</td>\n    </tr>\n    <tr>\n      <td>78</td>\n      <td>lockdown</td>\n      <td>0.141960</td>\n    </tr>\n    <tr>\n      <td>155</td>\n      <td>therapists</td>\n      <td>0.124586</td>\n    </tr>\n    <tr>\n      <td>...</td>\n      <td>...</td>\n      <td>...</td>\n    </tr>\n    <tr>\n      <td>116</td>\n      <td>physiotherapy</td>\n      <td>-0.152355</td>\n    </tr>\n    <tr>\n      <td>132</td>\n      <td>said</td>\n      <td>-0.157258</td>\n    </tr>\n    <tr>\n      <td>18</td>\n      <td>bhanji</td>\n      <td>-0.166513</td>\n    </tr>\n    <tr>\n      <td>82</td>\n      <td>medical</td>\n      <td>-0.193526</td>\n    </tr>\n    <tr>\n      <td>39</td>\n      <td>continue</td>\n      <td>-0.254106</td>\n    </tr>\n  </tbody>\n</table>\n<p>166 rows × 2 columns</p>\n</div>"
     },
     "metadata": {}
    },
    {
     "output_type": "display_data",
     "data": {
      "text/plain": "             Terms    topic5\n46           email  0.364737\n32        colleges  0.221890\n119   professional  0.221890\n13    associations  0.221890\n78        lockdown  0.185815\n..             ...       ...\n83        medicine -0.106726\n3             able -0.114621\n65       important -0.124818\n100        ontario -0.185889\n116  physiotherapy -0.229926\n\n[166 rows x 2 columns]",
      "text/html": "<div>\n<style scoped>\n    .dataframe tbody tr th:only-of-type {\n        vertical-align: middle;\n    }\n\n    .dataframe tbody tr th {\n        vertical-align: top;\n    }\n\n    .dataframe thead th {\n        text-align: right;\n    }\n</style>\n<table border=\"1\" class=\"dataframe\">\n  <thead>\n    <tr style=\"text-align: right;\">\n      <th></th>\n      <th>Terms</th>\n      <th>topic5</th>\n    </tr>\n  </thead>\n  <tbody>\n    <tr>\n      <td>46</td>\n      <td>email</td>\n      <td>0.364737</td>\n    </tr>\n    <tr>\n      <td>32</td>\n      <td>colleges</td>\n      <td>0.221890</td>\n    </tr>\n    <tr>\n      <td>119</td>\n      <td>professional</td>\n      <td>0.221890</td>\n    </tr>\n    <tr>\n      <td>13</td>\n      <td>associations</td>\n      <td>0.221890</td>\n    </tr>\n    <tr>\n      <td>78</td>\n      <td>lockdown</td>\n      <td>0.185815</td>\n    </tr>\n    <tr>\n      <td>...</td>\n      <td>...</td>\n      <td>...</td>\n    </tr>\n    <tr>\n      <td>83</td>\n      <td>medicine</td>\n      <td>-0.106726</td>\n    </tr>\n    <tr>\n      <td>3</td>\n      <td>able</td>\n      <td>-0.114621</td>\n    </tr>\n    <tr>\n      <td>65</td>\n      <td>important</td>\n      <td>-0.124818</td>\n    </tr>\n    <tr>\n      <td>100</td>\n      <td>ontario</td>\n      <td>-0.185889</td>\n    </tr>\n    <tr>\n      <td>116</td>\n      <td>physiotherapy</td>\n      <td>-0.229926</td>\n    </tr>\n  </tbody>\n</table>\n<p>166 rows × 2 columns</p>\n</div>"
     },
     "metadata": {}
    },
    {
     "output_type": "display_data",
     "data": {
      "text/plain": "            Terms    topic6\n158       toronto  0.402889\n80        massage  0.303019\n88         monday  0.237356\n34   communicated  0.201444\n112          peel  0.201444\n..            ...       ...\n53         friday -0.091734\n143      shutdown -0.097378\n46          email -0.099110\n55     government -0.132945\n150          star -0.141234\n\n[166 rows x 2 columns]",
      "text/html": "<div>\n<style scoped>\n    .dataframe tbody tr th:only-of-type {\n        vertical-align: middle;\n    }\n\n    .dataframe tbody tr th {\n        vertical-align: top;\n    }\n\n    .dataframe thead th {\n        text-align: right;\n    }\n</style>\n<table border=\"1\" class=\"dataframe\">\n  <thead>\n    <tr style=\"text-align: right;\">\n      <th></th>\n      <th>Terms</th>\n      <th>topic6</th>\n    </tr>\n  </thead>\n  <tbody>\n    <tr>\n      <td>158</td>\n      <td>toronto</td>\n      <td>0.402889</td>\n    </tr>\n    <tr>\n      <td>80</td>\n      <td>massage</td>\n      <td>0.303019</td>\n    </tr>\n    <tr>\n      <td>88</td>\n      <td>monday</td>\n      <td>0.237356</td>\n    </tr>\n    <tr>\n      <td>34</td>\n      <td>communicated</td>\n      <td>0.201444</td>\n    </tr>\n    <tr>\n      <td>112</td>\n      <td>peel</td>\n      <td>0.201444</td>\n    </tr>\n    <tr>\n      <td>...</td>\n      <td>...</td>\n      <td>...</td>\n    </tr>\n    <tr>\n      <td>53</td>\n      <td>friday</td>\n      <td>-0.091734</td>\n    </tr>\n    <tr>\n      <td>143</td>\n      <td>shutdown</td>\n      <td>-0.097378</td>\n    </tr>\n    <tr>\n      <td>46</td>\n      <td>email</td>\n      <td>-0.099110</td>\n    </tr>\n    <tr>\n      <td>55</td>\n      <td>government</td>\n      <td>-0.132945</td>\n    </tr>\n    <tr>\n      <td>150</td>\n      <td>star</td>\n      <td>-0.141234</td>\n    </tr>\n  </tbody>\n</table>\n<p>166 rows × 2 columns</p>\n</div>"
     },
     "metadata": {}
    },
    {
     "output_type": "display_data",
     "data": {
      "text/plain": "             Terms    topic7\n33     communicate  0.269186\n28         clients  0.269186\n11       armstrong  0.206330\n39        continue  0.195390\n22         calling  0.166976\n..             ...       ...\n156           time -0.116273\n78        lockdown -0.121596\n139       services -0.151378\n116  physiotherapy -0.207214\n100        ontario -0.218596\n\n[166 rows x 2 columns]",
      "text/html": "<div>\n<style scoped>\n    .dataframe tbody tr th:only-of-type {\n        vertical-align: middle;\n    }\n\n    .dataframe tbody tr th {\n        vertical-align: top;\n    }\n\n    .dataframe thead th {\n        text-align: right;\n    }\n</style>\n<table border=\"1\" class=\"dataframe\">\n  <thead>\n    <tr style=\"text-align: right;\">\n      <th></th>\n      <th>Terms</th>\n      <th>topic7</th>\n    </tr>\n  </thead>\n  <tbody>\n    <tr>\n      <td>33</td>\n      <td>communicate</td>\n      <td>0.269186</td>\n    </tr>\n    <tr>\n      <td>28</td>\n      <td>clients</td>\n      <td>0.269186</td>\n    </tr>\n    <tr>\n      <td>11</td>\n      <td>armstrong</td>\n      <td>0.206330</td>\n    </tr>\n    <tr>\n      <td>39</td>\n      <td>continue</td>\n      <td>0.195390</td>\n    </tr>\n    <tr>\n      <td>22</td>\n      <td>calling</td>\n      <td>0.166976</td>\n    </tr>\n    <tr>\n      <td>...</td>\n      <td>...</td>\n      <td>...</td>\n    </tr>\n    <tr>\n      <td>156</td>\n      <td>time</td>\n      <td>-0.116273</td>\n    </tr>\n    <tr>\n      <td>78</td>\n      <td>lockdown</td>\n      <td>-0.121596</td>\n    </tr>\n    <tr>\n      <td>139</td>\n      <td>services</td>\n      <td>-0.151378</td>\n    </tr>\n    <tr>\n      <td>116</td>\n      <td>physiotherapy</td>\n      <td>-0.207214</td>\n    </tr>\n    <tr>\n      <td>100</td>\n      <td>ontario</td>\n      <td>-0.218596</td>\n    </tr>\n  </tbody>\n</table>\n<p>166 rows × 2 columns</p>\n</div>"
     },
     "metadata": {}
    },
    {
     "output_type": "display_data",
     "data": {
      "text/plain": "            Terms    topic8\n139      services  0.199143\n8       afternoon  0.189439\n9    announcement  0.189439\n151        stated  0.189439\n133        salons  0.189439\n..            ...       ...\n64       impacted -0.088912\n150          star -0.089927\n23           care -0.089948\n3            able -0.090008\n18         bhanji -0.102955\n\n[166 rows x 2 columns]",
      "text/html": "<div>\n<style scoped>\n    .dataframe tbody tr th:only-of-type {\n        vertical-align: middle;\n    }\n\n    .dataframe tbody tr th {\n        vertical-align: top;\n    }\n\n    .dataframe thead th {\n        text-align: right;\n    }\n</style>\n<table border=\"1\" class=\"dataframe\">\n  <thead>\n    <tr style=\"text-align: right;\">\n      <th></th>\n      <th>Terms</th>\n      <th>topic8</th>\n    </tr>\n  </thead>\n  <tbody>\n    <tr>\n      <td>139</td>\n      <td>services</td>\n      <td>0.199143</td>\n    </tr>\n    <tr>\n      <td>8</td>\n      <td>afternoon</td>\n      <td>0.189439</td>\n    </tr>\n    <tr>\n      <td>9</td>\n      <td>announcement</td>\n      <td>0.189439</td>\n    </tr>\n    <tr>\n      <td>151</td>\n      <td>stated</td>\n      <td>0.189439</td>\n    </tr>\n    <tr>\n      <td>133</td>\n      <td>salons</td>\n      <td>0.189439</td>\n    </tr>\n    <tr>\n      <td>...</td>\n      <td>...</td>\n      <td>...</td>\n    </tr>\n    <tr>\n      <td>64</td>\n      <td>impacted</td>\n      <td>-0.088912</td>\n    </tr>\n    <tr>\n      <td>150</td>\n      <td>star</td>\n      <td>-0.089927</td>\n    </tr>\n    <tr>\n      <td>23</td>\n      <td>care</td>\n      <td>-0.089948</td>\n    </tr>\n    <tr>\n      <td>3</td>\n      <td>able</td>\n      <td>-0.090008</td>\n    </tr>\n    <tr>\n      <td>18</td>\n      <td>bhanji</td>\n      <td>-0.102955</td>\n    </tr>\n  </tbody>\n</table>\n<p>166 rows × 2 columns</p>\n</div>"
     },
     "metadata": {}
    },
    {
     "output_type": "display_data",
     "data": {
      "text/plain": "         Terms    topic9\n85      mental  0.347126\n80     massage  0.256099\n113     people  0.247616\n5       adding  0.232674\n107       pain  0.232674\n..         ...       ...\n128  regulated -0.073039\n14     athlete -0.094958\n39    continue -0.109608\n3         able -0.124838\n158    toronto -0.139810\n\n[166 rows x 2 columns]",
      "text/html": "<div>\n<style scoped>\n    .dataframe tbody tr th:only-of-type {\n        vertical-align: middle;\n    }\n\n    .dataframe tbody tr th {\n        vertical-align: top;\n    }\n\n    .dataframe thead th {\n        text-align: right;\n    }\n</style>\n<table border=\"1\" class=\"dataframe\">\n  <thead>\n    <tr style=\"text-align: right;\">\n      <th></th>\n      <th>Terms</th>\n      <th>topic9</th>\n    </tr>\n  </thead>\n  <tbody>\n    <tr>\n      <td>85</td>\n      <td>mental</td>\n      <td>0.347126</td>\n    </tr>\n    <tr>\n      <td>80</td>\n      <td>massage</td>\n      <td>0.256099</td>\n    </tr>\n    <tr>\n      <td>113</td>\n      <td>people</td>\n      <td>0.247616</td>\n    </tr>\n    <tr>\n      <td>5</td>\n      <td>adding</td>\n      <td>0.232674</td>\n    </tr>\n    <tr>\n      <td>107</td>\n      <td>pain</td>\n      <td>0.232674</td>\n    </tr>\n    <tr>\n      <td>...</td>\n      <td>...</td>\n      <td>...</td>\n    </tr>\n    <tr>\n      <td>128</td>\n      <td>regulated</td>\n      <td>-0.073039</td>\n    </tr>\n    <tr>\n      <td>14</td>\n      <td>athlete</td>\n      <td>-0.094958</td>\n    </tr>\n    <tr>\n      <td>39</td>\n      <td>continue</td>\n      <td>-0.109608</td>\n    </tr>\n    <tr>\n      <td>3</td>\n      <td>able</td>\n      <td>-0.124838</td>\n    </tr>\n    <tr>\n      <td>158</td>\n      <td>toronto</td>\n      <td>-0.139810</td>\n    </tr>\n  </tbody>\n</table>\n<p>166 rows × 2 columns</p>\n</div>"
     },
     "metadata": {}
    },
    {
     "output_type": "display_data",
     "data": {
      "text/plain": "             Terms   topic10\n116  physiotherapy  0.183437\n11       armstrong  0.165658\n58       happening  0.155384\n73            left  0.155384\n37        confused  0.155384\n..             ...       ...\n30          closed -0.148562\n133         salons -0.148562\n72            late -0.148562\n9     announcement -0.148562\n23            care -0.181012\n\n[166 rows x 2 columns]",
      "text/html": "<div>\n<style scoped>\n    .dataframe tbody tr th:only-of-type {\n        vertical-align: middle;\n    }\n\n    .dataframe tbody tr th {\n        vertical-align: top;\n    }\n\n    .dataframe thead th {\n        text-align: right;\n    }\n</style>\n<table border=\"1\" class=\"dataframe\">\n  <thead>\n    <tr style=\"text-align: right;\">\n      <th></th>\n      <th>Terms</th>\n      <th>topic10</th>\n    </tr>\n  </thead>\n  <tbody>\n    <tr>\n      <td>116</td>\n      <td>physiotherapy</td>\n      <td>0.183437</td>\n    </tr>\n    <tr>\n      <td>11</td>\n      <td>armstrong</td>\n      <td>0.165658</td>\n    </tr>\n    <tr>\n      <td>58</td>\n      <td>happening</td>\n      <td>0.155384</td>\n    </tr>\n    <tr>\n      <td>73</td>\n      <td>left</td>\n      <td>0.155384</td>\n    </tr>\n    <tr>\n      <td>37</td>\n      <td>confused</td>\n      <td>0.155384</td>\n    </tr>\n    <tr>\n      <td>...</td>\n      <td>...</td>\n      <td>...</td>\n    </tr>\n    <tr>\n      <td>30</td>\n      <td>closed</td>\n      <td>-0.148562</td>\n    </tr>\n    <tr>\n      <td>133</td>\n      <td>salons</td>\n      <td>-0.148562</td>\n    </tr>\n    <tr>\n      <td>72</td>\n      <td>late</td>\n      <td>-0.148562</td>\n    </tr>\n    <tr>\n      <td>9</td>\n      <td>announcement</td>\n      <td>-0.148562</td>\n    </tr>\n    <tr>\n      <td>23</td>\n      <td>care</td>\n      <td>-0.181012</td>\n    </tr>\n  </tbody>\n</table>\n<p>166 rows × 2 columns</p>\n</div>"
     },
     "metadata": {}
    },
    {
     "output_type": "stream",
     "name": "stdout",
     "text": [
      "----------------------------------------------------------\n"
     ]
    }
   ],
   "source": [
    "text = u'''\n",
    "The list of businesses impacted by a lockdown beginning Monday in Toronto and Peel Region were not clearly communicated, the owner of a Toronto massage spa says.\n",
    "\n",
    "While the Ontario government offered a partial list of what would remain open after the COVID-19 shutdown begins at 12:01 a.m., Kate Armstrong, owner and director of Bahn Thai Spa, told the Star she was unsure whether her business would be impacted.\n",
    "\n",
    "The Ontario government’s late-afternoon announcement on Friday stated that personal services, such as nail and hair salons, would now be closed. Missing, however, were details of all services included in the shutdown.\n",
    "\n",
    "However, on Sunday, the Ministry of Health confirmed to the Star that “regulated health professionals including dentists, optometrists, chiropractic services, ophthalmologists, physical and occupational therapists and podiatrists will be able to operate.”\n",
    "\n",
    "A spokesperson said that “under lockdown, regulated health professionals, including massage therapists, will be able to operate. Regulated health professionals such as registered massage therapists were not impacted and therefore not referenced.”\n",
    "\n",
    "Working “in partnership with the chief medical officer of health and our local medical officers of health, we continue to closely monitor the evolving situation to advise if and when public health measures need to be adjusted,” the spokesperson also said.\n",
    "\n",
    "In Ontario’s first lockdown last spring, physiotherapy, chiropractic services and massage therapists were among those to close their doors, which left some confused about what is happening this time around.\n",
    "\n",
    "“We have to continue to communicate with clients that are calling and saying, ‘Are we seeing you on Monday or not?’ We’re having to say we’ll call you as soon as we know something more,” Armstrong said.\n",
    "\n",
    "“It’s not like a haircut,” she said, adding that people are often seeking massage to treat physical pain or for mental health care.\n",
    "\n",
    "To Armstrong, massage has been as important as mental healthcare for Ontarians during the months-long pandemic. “I see the fatigue setting in on everyone’s faces ... The stress is so high … right now, (with) people not being able to be with their families. It’s so important to have human touch.”\n",
    "\n",
    "The Ontario Physiotherapy Association shared the news that physiotherapy services would be able to continue operations, said Shafiq Bhanji, president of Athlete’s Care Sports Medicine Centres.\n",
    "\n",
    "“We received direction from our respective colleges and professional associations on Friday and over the weekend via email indicating that our services would not be impacted the upcoming lockdown,” Bhanji said in an email to the Star.\n",
    "\n",
    "While Bhanji was able to confirm that Athlete’s Care could continue offering services and communicate that to clients via email, patients are still reaching out to verify whether they can keep their appointments.\n",
    "\n",
    "“It seems there was a fair bit of confusion in the general public about whether or not these services would be impacted,” Bhanji said. “... We are fortunate that our colleges and professional associations acted quickly to inform their members.”\n",
    "'''\n",
    "\n",
    "corpus = preProcess(text)\n",
    "display(corpus)\n",
    "tfidfVec, vocab = tfidf(corpus)\n",
    "wordToSentence = createWordToSentenceMap(corpus)\n",
    "print(vocab)\n",
    "print(wordToSentence)\n",
    "print(tfidfVec)\n",
    "print('----------------------------------------------------------')\n",
    "\n",
    "u, sigma, vt = svd(tfidfVec)\n",
    "numTopics = u.shape[1] + 1\n",
    "\n",
    "dfSVD = pd.DataFrame(u, columns=[f'topic{str(i)}' for i in range(1, numTopics)])\n",
    "docCol = pd.DataFrame({'Documents': corpus})\n",
    "dfSVD = pd.concat([docCol, dfSVD], axis = 1)\n",
    "\n",
    "display(dfSVD)\n",
    "print('----------------------------------------------------------')\n",
    "print(sigma)\n",
    "\n",
    "print('----------------------------------------------------------')\n",
    "\n",
    "dfVt = pd.DataFrame(vt, columns=[f'topic{str(i)}' for i in range(1, numTopics)])\n",
    "vocabCol = pd.DataFrame({'Terms': vocab})\n",
    "dfVt = pd.concat([vocabCol, dfVt], axis = 1)\n",
    "\n",
    "display(dfVt)\n",
    "\n",
    "for i in range(1, numTopics):\n",
    "    dfVtSort = dfVt.sort_values(by=f'topic{i}', ascending=False)\n",
    "    display(dfVtSort[['Terms', f'topic{i}']])\n",
    "print('----------------------------------------------------------')\n",
    "\n",
    "\n",
    "#df = pd.DataFrame()\n",
    "#print(df)"
   ]
  },
  {
   "cell_type": "code",
   "execution_count": 33,
   "metadata": {},
   "outputs": [
    {
     "output_type": "stream",
     "name": "stdout",
     "text": [
      "However, on Sunday, the Ministry of Health confirmed to the Star that “regulated health professionals including dentists, optometrists, chiropractic services, ophthalmologists, physical and occupational therapists and podiatrists will be able to operate.”  A spokesperson said that “under lockdown, regulated health professionals, including massage therapists, will be able to operate.\n\nRegulated health professionals such as registered massage therapists were not impacted and therefore not referenced.”  Working “in partnership with the chief medical officer of health and our local medical officers of health, we continue to closely monitor the evolving situation to advise if and when public health measures need to be adjusted,” the spokesperson also said.\n\nIt’s so important to have human touch.”  The Ontario Physiotherapy Association shared the news that physiotherapy services would be able to continue operations, said Shafiq Bhanji, president of Athlete’s Care Sports Medicine Centres.\n\nWhile the Ontario government offered a partial list of what would remain open after the COVID-19 shutdown begins at 12:01 a.m., Kate Armstrong, owner and director of Bahn Thai Spa, told the Star she was unsure whether her business would be impacted.\n\n“We received direction from our respective colleges and professional associations on Friday and over the weekend via email indicating that our services would not be impacted the upcoming lockdown,” Bhanji said in an email to the Star.\n"
     ]
    }
   ],
   "source": [
    "sentences = extractSummary(u, sigma, 5, corpus)\n",
    "summary = '\\n\\n'.join(sentences)\n",
    "print(summary)\n"
   ]
  },
  {
   "cell_type": "code",
   "execution_count": null,
   "metadata": {},
   "outputs": [],
   "source": []
  }
 ],
 "metadata": {
  "kernelspec": {
   "display_name": "summarizerEnv",
   "language": "python",
   "name": "summarizerenv"
  },
  "language_info": {
   "codemirror_mode": {
    "name": "ipython",
    "version": 3
   },
   "file_extension": ".py",
   "mimetype": "text/x-python",
   "name": "python",
   "nbconvert_exporter": "python",
   "pygments_lexer": "ipython3",
   "version": "3.7.4-final"
  }
 },
 "nbformat": 4,
 "nbformat_minor": 2
}