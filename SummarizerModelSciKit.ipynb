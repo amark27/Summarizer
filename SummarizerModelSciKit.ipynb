{
 "cells": [
  {
   "cell_type": "code",
   "execution_count": 1,
   "metadata": {},
   "outputs": [],
   "source": [
    "from sklearn.feature_extraction.text import TfidfVectorizer, CountVectorizer\n",
    "from sklearn.decomposition import TruncatedSVD\n",
    "from nltk.corpus import stopwords\n",
    "from nltk.tokenize import word_tokenize, sent_tokenize\n",
    "\n",
    "import nltk\n",
    "import string\n",
    "import pandas as pd\n",
    "import numpy as np\n",
    "\n",
    "#download assets from nltk\n",
    "#nltk.download('stopwords')\n",
    "#nltk.download('punkt')\n",
    "\n",
    "def tfidf(corpus):\n",
    "    '''\n",
    "    Computes the TF-IDF (term frequency - inverse document frequency) matrix\n",
    "\n",
    "    Args\n",
    "    - corpus: a list of sentences (documents) that need to be summarized\n",
    "\n",
    "    Returns\n",
    "    - tfidfVec: an m x n matrix of the corpus. m = number of different terms used in the documents, n = number of documents \n",
    "    - vocab: all the unique words used in the corpus, excluding stop words\n",
    "    '''\n",
    "\n",
    "    vectorizer = TfidfVectorizer(stop_words = stopwords.words('english'))\n",
    "    #vectorizer = CountVectorizer(stop_words='english')\n",
    "    tfidfVec = vectorizer.fit_transform(corpus)\n",
    "    vocab = vectorizer.get_feature_names()\n",
    "        \n",
    "    return tfidfVec, vocab\n",
    "\n",
    "def svd(tfidfVec):\n",
    "    '''\n",
    "    Gives the singular value decomposition of an m x n matrix.\n",
    "    A = U * sigma * V^t\n",
    "    \n",
    "    Args\n",
    "    - tfidfVec: an m x n matrix. m = number of documents or sentences, n = number of terms\n",
    "\n",
    "    Returns\n",
    "    - U: an m x r matrix of left singular values (document-topic table). r = number of topics\n",
    "    - sigma: an r x r diagonal matrix of singular values in decreasing order across the diagonal\n",
    "    - V^t: an n x r matrix of right singular values (term-topic table)\n",
    "    '''\n",
    "\n",
    "    lsa = TruncatedSVD(n_components = 10, n_iter=20)\n",
    "    u = lsa.fit_transform(tfidfVec)\n",
    "    sigma = lsa.singular_values_\n",
    "    vt = lsa.components_.T\n",
    "\n",
    "    return u, sigma, vt\n",
    "\n",
    "def getImportantSentences(u, sigma):\n",
    "    '''\n",
    "    Uses the LSA enhancement described by Josef Steinberg, et al.\n",
    "    Take all topics that have singular values > half of the largest singular value\n",
    "\n",
    "    Compute sk = sqrt(sum(v_ki^2 * sigma_i^2) from i = 1 to n)\n",
    "    sk is the length of the vector of the kth sentence\n",
    "    n is the number of topics \n",
    "\n",
    "    Args\n",
    "    - U, sigma matrices from SVD\n",
    "\n",
    "    Returns\n",
    "    - Vector of indices corresponding to the sentences in corpus sorted in descending order\n",
    "      of importance\n",
    "    '''\n",
    "\n",
    "    #look for the sigma value range that we need to consider using binary search\n",
    "    #sigma array is sorted in descending order and will never be empty\n",
    "    l, r, target = 0, len(sigma), sigma[0]/2\n",
    "    while l < r:\n",
    "        mid = l + (r-l)//2\n",
    "\n",
    "        if sigma[mid] < target:\n",
    "            r = mid\n",
    "        else:\n",
    "            l = mid + 1\n",
    "    sigmaBound = l\n",
    "\n",
    "    uSlice = u[:, :sigmaBound]\n",
    "    sigmaSlice = sigma[:sigmaBound]\n",
    "    uSq = np.square(uSlice)\n",
    "    sigSq = np.square(np.diag(sigmaSlice))\n",
    "    prod = np.matmul(uSq, sigSq)\n",
    "    result = np.sqrt(np.sum(prod, axis = 1)).T\n",
    "\n",
    "    return (-result).argsort()\n",
    "\n",
    "def createWordToSentenceMap(corpus):\n",
    "    '''\n",
    "    Creates a dictionary that maps a word from the vocab to all sentences with that word in the corpus.\n",
    "\n",
    "    Args\n",
    "    - corpus of sentences used in this summary\n",
    "\n",
    "    Returns\n",
    "    - the dictionary described\n",
    "    '''\n",
    "    \n",
    "    wordToSentence = {}\n",
    "    stopWords = set(stopwords.words('english'))\n",
    "\n",
    "    for i, doc in enumerate(corpus):\n",
    "        #remove punctuation while preserving contractions in text\n",
    "        sanitizeText = doc.translate(str.maketrans('', '', string.punctuation))\n",
    "        tokenized = word_tokenize(sanitizeText)\n",
    "        #remove duplicate words\n",
    "        tokenized = list(set([word.lower() for word in tokenized]))\n",
    "\n",
    "        for word in tokenized:\n",
    "            if word not in stopWords:\n",
    "                if word not in wordToSentence:\n",
    "                    wordToSentence[word] = [i]\n",
    "                else:\n",
    "                    wordToSentence[word].append(i)\n",
    "    \n",
    "    return wordToSentence\n",
    "\n",
    "def extractSummary(u, sigma, k, corpus):\n",
    "    '''\n",
    "    Helper method to get the text summary.\n",
    "\n",
    "    Summary will be taken from the top k sentences from getImportantSentences()\n",
    "    for each topic.\n",
    "\n",
    "    Args\n",
    "    - U, sigma from SVD\n",
    "    - k: number of sentences to include in summary\n",
    "    - corpus: the list of sentences\n",
    "    '''\n",
    "\n",
    "    return [corpus[i] for i in getImportantSentences(u, sigma)[:k]]\n"
   ]
  },
  {
   "cell_type": "code",
   "execution_count": 2,
   "metadata": {},
   "outputs": [],
   "source": [
    "def preProcess(blockText):\n",
    "    '''\n",
    "    Preprocesses the original text to be summarized by tokenizing the sentences and removing\n",
    "    unnecessary characters.\n",
    "\n",
    "    Args\n",
    "    - blockText: text to be summarized\n",
    "\n",
    "    Returns\n",
    "    - list of sentences that can be used to create a summary\n",
    "    '''\n",
    "\n",
    "    tokenized = sent_tokenize(blockText) \n",
    "    return [token.replace('\\n',' ') for token in tokenized]"
   ]
  },
  {
   "cell_type": "code",
   "execution_count": 3,
   "metadata": {},
   "outputs": [
    {
     "output_type": "display_data",
     "data": {
      "text/plain": "[' The list of businesses impacted by a lockdown beginning Monday in Toronto and Peel Region were not clearly communicated, the owner of a Toronto massage spa says.',\n 'While the Ontario government offered a partial list of what would remain open after the COVID-19 shutdown begins at 12:01 a.m., Kate Armstrong, owner and director of Bahn Thai Spa, told the Star she was unsure whether her business would be impacted.',\n 'The Ontario government’s late-afternoon announcement on Friday stated that personal services, such as nail and hair salons, would now be closed.',\n 'Missing, however, were details of all services included in the shutdown.',\n 'However, on Sunday, the Ministry of Health confirmed to the Star that “regulated health professionals including dentists, optometrists, chiropractic services, ophthalmologists, physical and occupational therapists and podiatrists will be able to operate.”  A spokesperson said that “under lockdown, regulated health professionals, including massage therapists, will be able to operate.',\n 'Regulated health professionals such as registered massage therapists were not impacted and therefore not referenced.”  Working “in partnership with the chief medical officer of health and our local medical officers of health, we continue to closely monitor the evolving situation to advise if and when public health measures need to be adjusted,” the spokesperson also said.',\n 'In Ontario’s first lockdown last spring, physiotherapy, chiropractic services and massage therapists were among those to close their doors, which left some confused about what is happening this time around.',\n '“We have to continue to communicate with clients that are calling and saying, ‘Are we seeing you on Monday or not?’ We’re having to say we’ll call you as soon as we know something more,” Armstrong said.',\n '“It’s not like a haircut,” she said, adding that people are often seeking massage to treat physical pain or for mental health care.',\n 'To Armstrong, massage has been as important as mental healthcare for Ontarians during the months-long pandemic.',\n '“I see the fatigue setting in on everyone’s faces ...',\n 'The stress is so high … right now, (with) people not being able to be with their families.',\n 'It’s so important to have human touch.”  The Ontario Physiotherapy Association shared the news that physiotherapy services would be able to continue operations, said Shafiq Bhanji, president of Athlete’s Care Sports Medicine Centres.',\n '“We received direction from our respective colleges and professional associations on Friday and over the weekend via email indicating that our services would not be impacted the upcoming lockdown,” Bhanji said in an email to the Star.',\n 'While Bhanji was able to confirm that Athlete’s Care could continue offering services and communicate that to clients via email, patients are still reaching out to verify whether they can keep their appointments.',\n '“It seems there was a fair bit of confusion in the general public about whether or not these services would be impacted,” Bhanji said.',\n '“... We are fortunate that our colleges and professional associations acted quickly to inform their members.”']"
     },
     "metadata": {}
    },
    {
     "output_type": "stream",
     "name": "stdout",
     "text": [
      "['01', '12', '19', 'able', 'acted', 'adding', 'adjusted', 'advise', 'afternoon', 'also', 'among', 'announcement', 'appointments', 'armstrong', 'around', 'association', 'associations', 'athlete', 'bahn', 'beginning', 'begins', 'bhanji', 'bit', 'business', 'businesses', 'call', 'calling', 'care', 'centres', 'chief', 'chiropractic', 'clearly', 'clients', 'close', 'closed', 'closely', 'colleges', 'communicate', 'communicated', 'confirm', 'confirmed', 'confused', 'confusion', 'continue', 'could', 'covid', 'dentists', 'details', 'direction', 'director', 'doors', 'email', 'everyone', 'evolving', 'faces', 'fair', 'families', 'fatigue', 'first', 'fortunate', 'friday', 'general', 'government', 'hair', 'haircut', 'happening', 'health', 'healthcare', 'high', 'however', 'human', 'impacted', 'important', 'included', 'including', 'indicating', 'inform', 'kate', 'keep', 'know', 'last', 'late', 'left', 'like', 'list', 'local', 'lockdown', 'long', 'massage', 'measures', 'medical', 'medicine', 'members', 'mental', 'ministry', 'missing', 'monday', 'monitor', 'months', 'nail', 'need', 'news', 'occupational', 'offered', 'offering', 'officer', 'officers', 'often', 'ontarians', 'ontario', 'open', 'operate', 'operations', 'ophthalmologists', 'optometrists', 'owner', 'pain', 'pandemic', 'partial', 'partnership', 'patients', 'peel', 'people', 'personal', 'physical', 'physiotherapy', 'podiatrists', 'president', 'professional', 'professionals', 'public', 'quickly', 'reaching', 'received', 'referenced', 'region', 'registered', 'regulated', 'remain', 'respective', 'right', 'said', 'salons', 'say', 'saying', 'says', 'see', 'seeing', 'seeking', 'seems', 'services', 'setting', 'shafiq', 'shared', 'shutdown', 'situation', 'something', 'soon', 'spa', 'spokesperson', 'sports', 'spring', 'star', 'stated', 'still', 'stress', 'sunday', 'thai', 'therapists', 'therefore', 'time', 'told', 'toronto', 'touch', 'treat', 'unsure', 'upcoming', 'verify', 'via', 'weekend', 'whether', 'working', 'would']\n{'communicated': [0], 'clearly': [0], 'peel': [0], 'impacted': [0, 1, 5, 13, 15], 'list': [0, 1], 'lockdown': [0, 4, 6, 13], 'businesses': [0], 'owner': [0, 1], 'spa': [0, 1], 'beginning': [0], 'monday': [0, 7], 'massage': [0, 4, 5, 6, 8, 9], 'says': [0], 'region': [0], 'toronto': [0], 'whether': [1, 14, 15], 'offered': [1], 'director': [1], 'told': [1], 'remain': [1], 'star': [1, 4, 13], 'business': [1], 'would': [1, 2, 12, 13, 15], 'covid19': [1], 'partial': [1], 'government': [1, 2], 'kate': [1], 'bahn': [1], 'shutdown': [1, 3], '1201': [1], 'thai': [1], 'begins': [1], 'ontario': [1, 2, 6, 12], 'open': [1], 'armstrong': [1, 7, 9], 'unsure': [1], 'nail': [2], 'announcement': [2], 'hair': [2], 'friday': [2, 13], 'personal': [2], 'stated': [2], 'lateafternoon': [2], 'services': [2, 3, 4, 6, 12, 13, 14, 15], 'salons': [2], 'closed': [2], '’': [2, 6, 7, 8, 10, 12, 14], 'missing': [3], 'details': [3], 'included': [3], 'however': [3, 4], 'health': [4, 5, 8], 'confirmed': [4], 'ophthalmologists': [4], 'podiatrists': [4], 'chiropractic': [4, 6], 'optometrists': [4], 'including': [4], 'ministry': [4], 'spokesperson': [4, 5], 'able': [4, 11, 12, 14], '“': [4, 5, 7, 8, 10, 13, 15, 16], 'operate': [4], 'dentists': [4], '”': [4, 5, 7, 8, 12, 13, 15, 16], 'professionals': [4, 5], 'physical': [4, 8], 'sunday': [4], 'occupational': [4], 'said': [4, 5, 7, 8, 12, 13, 15], 'regulated': [4, 5], 'therapists': [4, 5, 6], 'registered': [5], 'partnership': [5], 'situation': [5], 'medical': [5], 'evolving': [5], 'closely': [5], 'public': [5, 15], 'working': [5], 'referenced': [5], 'monitor': [5], 'officers': [5], 'advise': [5], 'therefore': [5], 'chief': [5], 'officer': [5], 'adjusted': [5], 'local': [5], 'continue': [5, 7, 12, 14], 'measures': [5], 'also': [5], 'need': [5], 'last': [6], 'confused': [6], 'spring': [6], 'among': [6], 'doors': [6], 'close': [6], 'around': [6], 'left': [6], 'first': [6], 'physiotherapy': [6, 12], 'happening': [6], 'time': [6], 'know': [7], 'soon': [7], 'say': [7], 'something': [7], 'call': [7], 'saying': [7], 'clients': [7, 14], 'calling': [7], 'communicate': [7, 14], '‘': [7], 'seeing': [7], 'treat': [8], 'people': [8, 11], 'pain': [8], 'seeking': [8], 'care': [8, 12, 14], 'haircut': [8], 'adding': [8], 'often': [8], 'mental': [8, 9], 'like': [8], 'healthcare': [9], 'pandemic': [9], 'important': [9, 12], 'monthslong': [9], 'ontarians': [9], 'setting': [10], 'everyone': [10], 'fatigue': [10], 'faces': [10], 'see': [10], 'high': [11], 'families': [11], 'right': [11], '…': [11], 'stress': [11], 'news': [12], 'association': [12], 'shafiq': [12], 'centres': [12], 'operations': [12], 'shared': [12], 'touch': [12], 'bhanji': [12, 13, 14, 15], 'president': [12], 'medicine': [12], 'sports': [12], 'human': [12], 'athlete': [12, 14], 'received': [13], 'associations': [13, 16], 'upcoming': [13], 'direction': [13], 'indicating': [13], 'professional': [13, 16], 'respective': [13], 'colleges': [13, 16], 'weekend': [13], 'email': [13, 14], 'via': [13, 14], 'patients': [14], 'reaching': [14], 'still': [14], 'keep': [14], 'offering': [14], 'appointments': [14], 'verify': [14], 'could': [14], 'confirm': [14], 'seems': [15], 'fair': [15], 'confusion': [15], 'general': [15], 'bit': [15], 'quickly': [16], 'members': [16], 'fortunate': [16], 'acted': [16], 'inform': [16]}\n  (0, 145)\t0.25515968366764336\n  (0, 158)\t0.22280088427127975\n  (0, 88)\t0.1551809067566584\n  (0, 115)\t0.22280088427127975\n  (0, 38)\t0.25515968366764336\n  (0, 31)\t0.25515968366764336\n  (0, 135)\t0.25515968366764336\n  (0, 121)\t0.25515968366764336\n  (0, 172)\t0.5103193673352867\n  (0, 96)\t0.22280088427127975\n  (0, 19)\t0.25515968366764336\n  (0, 86)\t0.18203361834526466\n  (0, 71)\t0.1674831513286196\n  (0, 24)\t0.25515968366764336\n  (0, 84)\t0.22280088427127975\n  (1, 23)\t0.20279502351997633\n  (1, 180)\t0.15882976697188197\n  (1, 175)\t0.20279502351997633\n  (1, 162)\t0.15882976697188197\n  (1, 171)\t0.20279502351997633\n  (1, 167)\t0.20279502351997633\n  (1, 18)\t0.20279502351997633\n  (1, 49)\t0.20279502351997633\n  (1, 13)\t0.15882976697188197\n  (1, 77)\t0.20279502351997633\n  :\t:\n  (14, 37)\t0.21935126305425118\n  (14, 43)\t0.17921519581471618\n  (14, 3)\t0.17921519581471618\n  (14, 150)\t0.13303222454736113\n  (14, 180)\t0.19674780217378668\n  (15, 61)\t0.3461108527161377\n  (15, 42)\t0.3461108527161377\n  (15, 22)\t0.3461108527161377\n  (15, 55)\t0.3461108527161377\n  (15, 149)\t0.3461108527161377\n  (15, 21)\t0.24691914476014454\n  (15, 130)\t0.30221782270856806\n  (15, 141)\t0.19603959189700074\n  (15, 150)\t0.18328916229143\n  (15, 180)\t0.2710752223065692\n  (15, 182)\t0.2271821922989996\n  (15, 71)\t0.2271821922989996\n  (16, 92)\t0.3704379277225841\n  (16, 76)\t0.3704379277225841\n  (16, 131)\t0.3704379277225841\n  (16, 4)\t0.3704379277225841\n  (16, 59)\t0.3704379277225841\n  (16, 16)\t0.3234597906608011\n  (16, 128)\t0.3234597906608011\n  (16, 36)\t0.3234597906608011\n----------------------------------------------------------\n"
     ]
    },
    {
     "output_type": "display_data",
     "data": {
      "text/plain": "                                            Documents        topic1  \\\n0    The list of businesses impacted by a lockdown...  2.122050e-01   \n1   While the Ontario government offered a partial...  3.251265e-01   \n2   The Ontario government’s late-afternoon announ...  2.498981e-01   \n3   Missing, however, were details of all services...  1.778134e-01   \n4   However, on Sunday, the Ministry of Health con...  4.933340e-01   \n5   Regulated health professionals such as registe...  4.245538e-01   \n6   In Ontario’s first lockdown last spring, physi...  3.080669e-01   \n7   “We have to continue to communicate with clien...  2.297365e-01   \n8   “It’s not like a haircut,” she said, adding th...  3.455652e-01   \n9   To Armstrong, massage has been as important as...  1.741465e-01   \n10  “I see the fatigue setting in on everyone’s fa... -2.408005e-20   \n11  The stress is so high … right now, (with) peop...  1.460880e-01   \n12  It’s so important to have human touch.”  The O...  4.468655e-01   \n13  “We received direction from our respective col...  4.724253e-01   \n14  While Bhanji was able to confirm that Athlete’...  4.325320e-01   \n15  “It seems there was a fair bit of confusion in...  4.318511e-01   \n16  “... We are fortunate that our colleges and pr...  1.253625e-01   \n\n          topic2        topic3        topic4        topic5        topic6  \\\n0  -5.689006e-02 -3.586889e-01 -2.520224e-01  4.926658e-01 -4.060439e-02   \n1  -3.045537e-01 -4.457429e-01 -2.780163e-01  1.583704e-01 -6.354932e-02   \n2  -2.845500e-01 -3.005991e-01 -6.441886e-02 -2.800185e-01  1.884545e-01   \n3  -6.339399e-02 -2.418580e-01 -1.358887e-02 -2.859783e-01 -1.154145e-01   \n4   5.457239e-01 -1.516730e-01  2.101868e-01 -9.260668e-02 -1.139804e-01   \n5   5.480899e-01 -1.479920e-01  2.085594e-01  6.538647e-02 -2.952794e-01   \n6   7.774877e-02 -2.027386e-01 -9.654630e-02 -2.934623e-01  3.960914e-01   \n7  -7.188601e-02  3.553376e-01 -3.225288e-01  3.313360e-01 -3.115954e-01   \n8   4.270226e-01  1.673223e-01 -7.361580e-02  1.607353e-01  2.307038e-01   \n9   1.298045e-01  8.735880e-02 -4.016126e-01  3.514651e-01  4.545098e-01   \n10 -2.497499e-16 -3.937456e-16  1.305046e-15 -6.925000e-16  5.258455e-15   \n11  1.582472e-01  2.995789e-01 -3.534955e-02 -1.389999e-01  2.360434e-01   \n12 -1.511840e-01  2.571218e-01 -2.247812e-01 -3.399490e-01  2.099890e-01   \n13 -3.991765e-01  4.285165e-02  4.389394e-01  1.627614e-01  8.028421e-02   \n14 -2.498533e-01  5.194131e-01 -3.369556e-02 -9.301581e-02 -2.478586e-01   \n15 -2.713311e-01 -6.055332e-02  8.914884e-03 -6.946513e-02 -2.968779e-01   \n16 -2.216463e-01  5.733316e-02  6.248737e-01  3.653997e-01  3.521908e-01   \n\n          topic7        topic8        topic9       topic10  \n0   1.124230e-02  2.172241e-14 -4.564118e-01  2.536252e-01  \n1   2.703197e-01 -2.948216e-14  8.511480e-03 -1.706644e-02  \n2   1.320410e-01 -1.666623e-14  9.251740e-02 -3.320697e-01  \n3   1.217411e-01 -5.700460e-14  5.442687e-01  6.684633e-01  \n4  -5.998296e-02  6.331458e-15 -2.324718e-02  9.459912e-02  \n5  -8.397827e-02  1.158690e-14  3.125534e-02 -1.955789e-01  \n6  -5.022268e-01  6.734486e-14 -3.051934e-01  1.896720e-01  \n7  -2.421170e-01  2.020956e-14  6.209495e-02  1.830396e-01  \n8   2.743913e-01 -3.647758e-14  1.467646e-01 -1.413578e-01  \n9  -7.794496e-02 -1.689133e-14  4.568746e-01 -1.138566e-01  \n10  1.108404e-13  1.000000e+00  5.754303e-14  1.845049e-14  \n11  6.713884e-01 -5.848331e-14 -3.486939e-01  2.538147e-01  \n12 -1.765357e-01  2.379454e-14 -7.280127e-02 -7.200567e-02  \n13 -4.543278e-03  3.353029e-16 -7.742386e-03 -1.451648e-02  \n14 -5.069439e-02  7.888788e-15 -5.133434e-02  1.008949e-01  \n15  1.426296e-01 -8.653071e-15  4.599467e-02 -3.247026e-01  \n16 -5.816720e-02 -4.239803e-15  9.039412e-02  1.511365e-01  ",
      "text/html": "<div>\n<style scoped>\n    .dataframe tbody tr th:only-of-type {\n        vertical-align: middle;\n    }\n\n    .dataframe tbody tr th {\n        vertical-align: top;\n    }\n\n    .dataframe thead th {\n        text-align: right;\n    }\n</style>\n<table border=\"1\" class=\"dataframe\">\n  <thead>\n    <tr style=\"text-align: right;\">\n      <th></th>\n      <th>Documents</th>\n      <th>topic1</th>\n      <th>topic2</th>\n      <th>topic3</th>\n      <th>topic4</th>\n      <th>topic5</th>\n      <th>topic6</th>\n      <th>topic7</th>\n      <th>topic8</th>\n      <th>topic9</th>\n      <th>topic10</th>\n    </tr>\n  </thead>\n  <tbody>\n    <tr>\n      <td>0</td>\n      <td>The list of businesses impacted by a lockdown...</td>\n      <td>2.122050e-01</td>\n      <td>-5.689006e-02</td>\n      <td>-3.586889e-01</td>\n      <td>-2.520224e-01</td>\n      <td>4.926658e-01</td>\n      <td>-4.060439e-02</td>\n      <td>1.124230e-02</td>\n      <td>2.172241e-14</td>\n      <td>-4.564118e-01</td>\n      <td>2.536252e-01</td>\n    </tr>\n    <tr>\n      <td>1</td>\n      <td>While the Ontario government offered a partial...</td>\n      <td>3.251265e-01</td>\n      <td>-3.045537e-01</td>\n      <td>-4.457429e-01</td>\n      <td>-2.780163e-01</td>\n      <td>1.583704e-01</td>\n      <td>-6.354932e-02</td>\n      <td>2.703197e-01</td>\n      <td>-2.948216e-14</td>\n      <td>8.511480e-03</td>\n      <td>-1.706644e-02</td>\n    </tr>\n    <tr>\n      <td>2</td>\n      <td>The Ontario government’s late-afternoon announ...</td>\n      <td>2.498981e-01</td>\n      <td>-2.845500e-01</td>\n      <td>-3.005991e-01</td>\n      <td>-6.441886e-02</td>\n      <td>-2.800185e-01</td>\n      <td>1.884545e-01</td>\n      <td>1.320410e-01</td>\n      <td>-1.666623e-14</td>\n      <td>9.251740e-02</td>\n      <td>-3.320697e-01</td>\n    </tr>\n    <tr>\n      <td>3</td>\n      <td>Missing, however, were details of all services...</td>\n      <td>1.778134e-01</td>\n      <td>-6.339399e-02</td>\n      <td>-2.418580e-01</td>\n      <td>-1.358887e-02</td>\n      <td>-2.859783e-01</td>\n      <td>-1.154145e-01</td>\n      <td>1.217411e-01</td>\n      <td>-5.700460e-14</td>\n      <td>5.442687e-01</td>\n      <td>6.684633e-01</td>\n    </tr>\n    <tr>\n      <td>4</td>\n      <td>However, on Sunday, the Ministry of Health con...</td>\n      <td>4.933340e-01</td>\n      <td>5.457239e-01</td>\n      <td>-1.516730e-01</td>\n      <td>2.101868e-01</td>\n      <td>-9.260668e-02</td>\n      <td>-1.139804e-01</td>\n      <td>-5.998296e-02</td>\n      <td>6.331458e-15</td>\n      <td>-2.324718e-02</td>\n      <td>9.459912e-02</td>\n    </tr>\n    <tr>\n      <td>5</td>\n      <td>Regulated health professionals such as registe...</td>\n      <td>4.245538e-01</td>\n      <td>5.480899e-01</td>\n      <td>-1.479920e-01</td>\n      <td>2.085594e-01</td>\n      <td>6.538647e-02</td>\n      <td>-2.952794e-01</td>\n      <td>-8.397827e-02</td>\n      <td>1.158690e-14</td>\n      <td>3.125534e-02</td>\n      <td>-1.955789e-01</td>\n    </tr>\n    <tr>\n      <td>6</td>\n      <td>In Ontario’s first lockdown last spring, physi...</td>\n      <td>3.080669e-01</td>\n      <td>7.774877e-02</td>\n      <td>-2.027386e-01</td>\n      <td>-9.654630e-02</td>\n      <td>-2.934623e-01</td>\n      <td>3.960914e-01</td>\n      <td>-5.022268e-01</td>\n      <td>6.734486e-14</td>\n      <td>-3.051934e-01</td>\n      <td>1.896720e-01</td>\n    </tr>\n    <tr>\n      <td>7</td>\n      <td>“We have to continue to communicate with clien...</td>\n      <td>2.297365e-01</td>\n      <td>-7.188601e-02</td>\n      <td>3.553376e-01</td>\n      <td>-3.225288e-01</td>\n      <td>3.313360e-01</td>\n      <td>-3.115954e-01</td>\n      <td>-2.421170e-01</td>\n      <td>2.020956e-14</td>\n      <td>6.209495e-02</td>\n      <td>1.830396e-01</td>\n    </tr>\n    <tr>\n      <td>8</td>\n      <td>“It’s not like a haircut,” she said, adding th...</td>\n      <td>3.455652e-01</td>\n      <td>4.270226e-01</td>\n      <td>1.673223e-01</td>\n      <td>-7.361580e-02</td>\n      <td>1.607353e-01</td>\n      <td>2.307038e-01</td>\n      <td>2.743913e-01</td>\n      <td>-3.647758e-14</td>\n      <td>1.467646e-01</td>\n      <td>-1.413578e-01</td>\n    </tr>\n    <tr>\n      <td>9</td>\n      <td>To Armstrong, massage has been as important as...</td>\n      <td>1.741465e-01</td>\n      <td>1.298045e-01</td>\n      <td>8.735880e-02</td>\n      <td>-4.016126e-01</td>\n      <td>3.514651e-01</td>\n      <td>4.545098e-01</td>\n      <td>-7.794496e-02</td>\n      <td>-1.689133e-14</td>\n      <td>4.568746e-01</td>\n      <td>-1.138566e-01</td>\n    </tr>\n    <tr>\n      <td>10</td>\n      <td>“I see the fatigue setting in on everyone’s fa...</td>\n      <td>-2.408005e-20</td>\n      <td>-2.497499e-16</td>\n      <td>-3.937456e-16</td>\n      <td>1.305046e-15</td>\n      <td>-6.925000e-16</td>\n      <td>5.258455e-15</td>\n      <td>1.108404e-13</td>\n      <td>1.000000e+00</td>\n      <td>5.754303e-14</td>\n      <td>1.845049e-14</td>\n    </tr>\n    <tr>\n      <td>11</td>\n      <td>The stress is so high … right now, (with) peop...</td>\n      <td>1.460880e-01</td>\n      <td>1.582472e-01</td>\n      <td>2.995789e-01</td>\n      <td>-3.534955e-02</td>\n      <td>-1.389999e-01</td>\n      <td>2.360434e-01</td>\n      <td>6.713884e-01</td>\n      <td>-5.848331e-14</td>\n      <td>-3.486939e-01</td>\n      <td>2.538147e-01</td>\n    </tr>\n    <tr>\n      <td>12</td>\n      <td>It’s so important to have human touch.”  The O...</td>\n      <td>4.468655e-01</td>\n      <td>-1.511840e-01</td>\n      <td>2.571218e-01</td>\n      <td>-2.247812e-01</td>\n      <td>-3.399490e-01</td>\n      <td>2.099890e-01</td>\n      <td>-1.765357e-01</td>\n      <td>2.379454e-14</td>\n      <td>-7.280127e-02</td>\n      <td>-7.200567e-02</td>\n    </tr>\n    <tr>\n      <td>13</td>\n      <td>“We received direction from our respective col...</td>\n      <td>4.724253e-01</td>\n      <td>-3.991765e-01</td>\n      <td>4.285165e-02</td>\n      <td>4.389394e-01</td>\n      <td>1.627614e-01</td>\n      <td>8.028421e-02</td>\n      <td>-4.543278e-03</td>\n      <td>3.353029e-16</td>\n      <td>-7.742386e-03</td>\n      <td>-1.451648e-02</td>\n    </tr>\n    <tr>\n      <td>14</td>\n      <td>While Bhanji was able to confirm that Athlete’...</td>\n      <td>4.325320e-01</td>\n      <td>-2.498533e-01</td>\n      <td>5.194131e-01</td>\n      <td>-3.369556e-02</td>\n      <td>-9.301581e-02</td>\n      <td>-2.478586e-01</td>\n      <td>-5.069439e-02</td>\n      <td>7.888788e-15</td>\n      <td>-5.133434e-02</td>\n      <td>1.008949e-01</td>\n    </tr>\n    <tr>\n      <td>15</td>\n      <td>“It seems there was a fair bit of confusion in...</td>\n      <td>4.318511e-01</td>\n      <td>-2.713311e-01</td>\n      <td>-6.055332e-02</td>\n      <td>8.914884e-03</td>\n      <td>-6.946513e-02</td>\n      <td>-2.968779e-01</td>\n      <td>1.426296e-01</td>\n      <td>-8.653071e-15</td>\n      <td>4.599467e-02</td>\n      <td>-3.247026e-01</td>\n    </tr>\n    <tr>\n      <td>16</td>\n      <td>“... We are fortunate that our colleges and pr...</td>\n      <td>1.253625e-01</td>\n      <td>-2.216463e-01</td>\n      <td>5.733316e-02</td>\n      <td>6.248737e-01</td>\n      <td>3.653997e-01</td>\n      <td>3.521908e-01</td>\n      <td>-5.816720e-02</td>\n      <td>-4.239803e-15</td>\n      <td>9.039412e-02</td>\n      <td>1.511365e-01</td>\n    </tr>\n  </tbody>\n</table>\n</div>"
     },
     "metadata": {}
    },
    {
     "output_type": "stream",
     "name": "stdout",
     "text": [
      "----------------------------------------------------------\n[1.34140476 1.17559305 1.07635552 1.07191523 1.04617646 1.02389161\n 1.00825    1.         0.99087419 0.98976066]\n----------------------------------------------------------\n"
     ]
    },
    {
     "output_type": "display_data",
     "data": {
      "text/plain": "       Terms    topic1    topic2    topic3    topic4    topic5    topic6  \\\n0         01  0.036643 -0.044690 -0.078024 -0.049069  0.029344 -0.012293   \n1         12  0.036643 -0.044690 -0.078024 -0.049069  0.029344 -0.012293   \n2         19  0.036643 -0.044690 -0.078024 -0.049069  0.029344 -0.012293   \n3       able  0.172775  0.077704  0.166173 -0.003857 -0.124969  0.034739   \n4      acted  0.025809 -0.059410  0.018332  0.201459  0.123673  0.124447   \n..       ...       ...       ...       ...       ...       ...       ...   \n178      via  0.110120 -0.102794  0.106428  0.077074  0.013866 -0.035120   \n179  weekend  0.065728 -0.072308  0.009260  0.095635  0.037229  0.019172   \n180  whether  0.141052 -0.123791  0.012931 -0.042098 -0.010943 -0.132909   \n181  working  0.038733  0.065103 -0.020970  0.029797  0.009807 -0.046237   \n182    would  0.209518 -0.206529 -0.124721 -0.039881 -0.046922 -0.003498   \n\n       topic7        topic8    topic9   topic10  \n0    0.053926 -5.902458e-15  0.001758 -0.003533  \n1    0.053926 -5.869721e-15  0.001758 -0.003533  \n2    0.053926 -5.829481e-15  0.001758 -0.003533  \n3    0.154254 -1.110692e-14 -0.137313  0.109589  \n4   -0.021196 -1.720002e-15  0.034105  0.057151  \n..        ...           ...       ...       ...  \n178 -0.011916  1.792495e-15 -0.013192  0.019352  \n179 -0.001119  9.196698e-17 -0.001974 -0.003710  \n180  0.070457 -5.274450e-15  0.003789 -0.072353  \n181 -0.013561  1.883044e-15  0.005226 -0.032774  \n182  0.100834 -9.112910e-15  0.018611 -0.158292  \n\n[183 rows x 11 columns]",
      "text/html": "<div>\n<style scoped>\n    .dataframe tbody tr th:only-of-type {\n        vertical-align: middle;\n    }\n\n    .dataframe tbody tr th {\n        vertical-align: top;\n    }\n\n    .dataframe thead th {\n        text-align: right;\n    }\n</style>\n<table border=\"1\" class=\"dataframe\">\n  <thead>\n    <tr style=\"text-align: right;\">\n      <th></th>\n      <th>Terms</th>\n      <th>topic1</th>\n      <th>topic2</th>\n      <th>topic3</th>\n      <th>topic4</th>\n      <th>topic5</th>\n      <th>topic6</th>\n      <th>topic7</th>\n      <th>topic8</th>\n      <th>topic9</th>\n      <th>topic10</th>\n    </tr>\n  </thead>\n  <tbody>\n    <tr>\n      <td>0</td>\n      <td>01</td>\n      <td>0.036643</td>\n      <td>-0.044690</td>\n      <td>-0.078024</td>\n      <td>-0.049069</td>\n      <td>0.029344</td>\n      <td>-0.012293</td>\n      <td>0.053926</td>\n      <td>-5.902458e-15</td>\n      <td>0.001758</td>\n      <td>-0.003533</td>\n    </tr>\n    <tr>\n      <td>1</td>\n      <td>12</td>\n      <td>0.036643</td>\n      <td>-0.044690</td>\n      <td>-0.078024</td>\n      <td>-0.049069</td>\n      <td>0.029344</td>\n      <td>-0.012293</td>\n      <td>0.053926</td>\n      <td>-5.869721e-15</td>\n      <td>0.001758</td>\n      <td>-0.003533</td>\n    </tr>\n    <tr>\n      <td>2</td>\n      <td>19</td>\n      <td>0.036643</td>\n      <td>-0.044690</td>\n      <td>-0.078024</td>\n      <td>-0.049069</td>\n      <td>0.029344</td>\n      <td>-0.012293</td>\n      <td>0.053926</td>\n      <td>-5.829481e-15</td>\n      <td>0.001758</td>\n      <td>-0.003533</td>\n    </tr>\n    <tr>\n      <td>3</td>\n      <td>able</td>\n      <td>0.172775</td>\n      <td>0.077704</td>\n      <td>0.166173</td>\n      <td>-0.003857</td>\n      <td>-0.124969</td>\n      <td>0.034739</td>\n      <td>0.154254</td>\n      <td>-1.110692e-14</td>\n      <td>-0.137313</td>\n      <td>0.109589</td>\n    </tr>\n    <tr>\n      <td>4</td>\n      <td>acted</td>\n      <td>0.025809</td>\n      <td>-0.059410</td>\n      <td>0.018332</td>\n      <td>0.201459</td>\n      <td>0.123673</td>\n      <td>0.124447</td>\n      <td>-0.021196</td>\n      <td>-1.720002e-15</td>\n      <td>0.034105</td>\n      <td>0.057151</td>\n    </tr>\n    <tr>\n      <td>...</td>\n      <td>...</td>\n      <td>...</td>\n      <td>...</td>\n      <td>...</td>\n      <td>...</td>\n      <td>...</td>\n      <td>...</td>\n      <td>...</td>\n      <td>...</td>\n      <td>...</td>\n      <td>...</td>\n    </tr>\n    <tr>\n      <td>178</td>\n      <td>via</td>\n      <td>0.110120</td>\n      <td>-0.102794</td>\n      <td>0.106428</td>\n      <td>0.077074</td>\n      <td>0.013866</td>\n      <td>-0.035120</td>\n      <td>-0.011916</td>\n      <td>1.792495e-15</td>\n      <td>-0.013192</td>\n      <td>0.019352</td>\n    </tr>\n    <tr>\n      <td>179</td>\n      <td>weekend</td>\n      <td>0.065728</td>\n      <td>-0.072308</td>\n      <td>0.009260</td>\n      <td>0.095635</td>\n      <td>0.037229</td>\n      <td>0.019172</td>\n      <td>-0.001119</td>\n      <td>9.196698e-17</td>\n      <td>-0.001974</td>\n      <td>-0.003710</td>\n    </tr>\n    <tr>\n      <td>180</td>\n      <td>whether</td>\n      <td>0.141052</td>\n      <td>-0.123791</td>\n      <td>0.012931</td>\n      <td>-0.042098</td>\n      <td>-0.010943</td>\n      <td>-0.132909</td>\n      <td>0.070457</td>\n      <td>-5.274450e-15</td>\n      <td>0.003789</td>\n      <td>-0.072353</td>\n    </tr>\n    <tr>\n      <td>181</td>\n      <td>working</td>\n      <td>0.038733</td>\n      <td>0.065103</td>\n      <td>-0.020970</td>\n      <td>0.029797</td>\n      <td>0.009807</td>\n      <td>-0.046237</td>\n      <td>-0.013561</td>\n      <td>1.883044e-15</td>\n      <td>0.005226</td>\n      <td>-0.032774</td>\n    </tr>\n    <tr>\n      <td>182</td>\n      <td>would</td>\n      <td>0.209518</td>\n      <td>-0.206529</td>\n      <td>-0.124721</td>\n      <td>-0.039881</td>\n      <td>-0.046922</td>\n      <td>-0.003498</td>\n      <td>0.100834</td>\n      <td>-9.112910e-15</td>\n      <td>0.018611</td>\n      <td>-0.158292</td>\n    </tr>\n  </tbody>\n</table>\n<p>183 rows × 11 columns</p>\n</div>"
     },
     "metadata": {}
    },
    {
     "output_type": "display_data",
     "data": {
      "text/plain": "        Terms        topic1\n66     health  2.718219e-01\n150  services  2.334297e-01\n141      said  2.173264e-01\n182     would  2.095178e-01\n21     bhanji  1.896066e-01\n..        ...           ...\n151   setting -1.180641e-17\n146       see -1.180641e-17\n52   everyone -1.180641e-17\n54      faces -1.180641e-17\n57    fatigue -1.180641e-17\n\n[183 rows x 2 columns]",
      "text/html": "<div>\n<style scoped>\n    .dataframe tbody tr th:only-of-type {\n        vertical-align: middle;\n    }\n\n    .dataframe tbody tr th {\n        vertical-align: top;\n    }\n\n    .dataframe thead th {\n        text-align: right;\n    }\n</style>\n<table border=\"1\" class=\"dataframe\">\n  <thead>\n    <tr style=\"text-align: right;\">\n      <th></th>\n      <th>Terms</th>\n      <th>topic1</th>\n    </tr>\n  </thead>\n  <tbody>\n    <tr>\n      <td>66</td>\n      <td>health</td>\n      <td>2.718219e-01</td>\n    </tr>\n    <tr>\n      <td>150</td>\n      <td>services</td>\n      <td>2.334297e-01</td>\n    </tr>\n    <tr>\n      <td>141</td>\n      <td>said</td>\n      <td>2.173264e-01</td>\n    </tr>\n    <tr>\n      <td>182</td>\n      <td>would</td>\n      <td>2.095178e-01</td>\n    </tr>\n    <tr>\n      <td>21</td>\n      <td>bhanji</td>\n      <td>1.896066e-01</td>\n    </tr>\n    <tr>\n      <td>...</td>\n      <td>...</td>\n      <td>...</td>\n    </tr>\n    <tr>\n      <td>151</td>\n      <td>setting</td>\n      <td>-1.180641e-17</td>\n    </tr>\n    <tr>\n      <td>146</td>\n      <td>see</td>\n      <td>-1.180641e-17</td>\n    </tr>\n    <tr>\n      <td>52</td>\n      <td>everyone</td>\n      <td>-1.180641e-17</td>\n    </tr>\n    <tr>\n      <td>54</td>\n      <td>faces</td>\n      <td>-1.180641e-17</td>\n    </tr>\n    <tr>\n      <td>57</td>\n      <td>fatigue</td>\n      <td>-1.180641e-17</td>\n    </tr>\n  </tbody>\n</table>\n<p>183 rows × 2 columns</p>\n</div>"
     },
     "metadata": {}
    },
    {
     "output_type": "display_data",
     "data": {
      "text/plain": "             Terms    topic2\n66          health  0.428262\n129  professionals  0.169830\n137      regulated  0.169830\n168     therapists  0.163780\n88         massage  0.158429\n..             ...       ...\n60          friday -0.115597\n180        whether -0.123791\n21          bhanji -0.150247\n51           email -0.165932\n182          would -0.206529\n\n[183 rows x 2 columns]",
      "text/html": "<div>\n<style scoped>\n    .dataframe tbody tr th:only-of-type {\n        vertical-align: middle;\n    }\n\n    .dataframe tbody tr th {\n        vertical-align: top;\n    }\n\n    .dataframe thead th {\n        text-align: right;\n    }\n</style>\n<table border=\"1\" class=\"dataframe\">\n  <thead>\n    <tr style=\"text-align: right;\">\n      <th></th>\n      <th>Terms</th>\n      <th>topic2</th>\n    </tr>\n  </thead>\n  <tbody>\n    <tr>\n      <td>66</td>\n      <td>health</td>\n      <td>0.428262</td>\n    </tr>\n    <tr>\n      <td>129</td>\n      <td>professionals</td>\n      <td>0.169830</td>\n    </tr>\n    <tr>\n      <td>137</td>\n      <td>regulated</td>\n      <td>0.169830</td>\n    </tr>\n    <tr>\n      <td>168</td>\n      <td>therapists</td>\n      <td>0.163780</td>\n    </tr>\n    <tr>\n      <td>88</td>\n      <td>massage</td>\n      <td>0.158429</td>\n    </tr>\n    <tr>\n      <td>...</td>\n      <td>...</td>\n      <td>...</td>\n    </tr>\n    <tr>\n      <td>60</td>\n      <td>friday</td>\n      <td>-0.115597</td>\n    </tr>\n    <tr>\n      <td>180</td>\n      <td>whether</td>\n      <td>-0.123791</td>\n    </tr>\n    <tr>\n      <td>21</td>\n      <td>bhanji</td>\n      <td>-0.150247</td>\n    </tr>\n    <tr>\n      <td>51</td>\n      <td>email</td>\n      <td>-0.165932</td>\n    </tr>\n    <tr>\n      <td>182</td>\n      <td>would</td>\n      <td>-0.206529</td>\n    </tr>\n  </tbody>\n</table>\n<p>183 rows × 2 columns</p>\n</div>"
     },
     "metadata": {}
    },
    {
     "output_type": "display_data",
     "data": {
      "text/plain": "           Terms    topic3\n37   communicate  0.176537\n32       clients  0.176537\n3           able  0.166173\n43      continue  0.165356\n27          care  0.161612\n..           ...       ...\n84          list -0.137110\n115        owner -0.137110\n158          spa -0.137110\n154     shutdown -0.151285\n172      toronto -0.157997\n\n[183 rows x 2 columns]",
      "text/html": "<div>\n<style scoped>\n    .dataframe tbody tr th:only-of-type {\n        vertical-align: middle;\n    }\n\n    .dataframe tbody tr th {\n        vertical-align: top;\n    }\n\n    .dataframe thead th {\n        text-align: right;\n    }\n</style>\n<table border=\"1\" class=\"dataframe\">\n  <thead>\n    <tr style=\"text-align: right;\">\n      <th></th>\n      <th>Terms</th>\n      <th>topic3</th>\n    </tr>\n  </thead>\n  <tbody>\n    <tr>\n      <td>37</td>\n      <td>communicate</td>\n      <td>0.176537</td>\n    </tr>\n    <tr>\n      <td>32</td>\n      <td>clients</td>\n      <td>0.176537</td>\n    </tr>\n    <tr>\n      <td>3</td>\n      <td>able</td>\n      <td>0.166173</td>\n    </tr>\n    <tr>\n      <td>43</td>\n      <td>continue</td>\n      <td>0.165356</td>\n    </tr>\n    <tr>\n      <td>27</td>\n      <td>care</td>\n      <td>0.161612</td>\n    </tr>\n    <tr>\n      <td>...</td>\n      <td>...</td>\n      <td>...</td>\n    </tr>\n    <tr>\n      <td>84</td>\n      <td>list</td>\n      <td>-0.137110</td>\n    </tr>\n    <tr>\n      <td>115</td>\n      <td>owner</td>\n      <td>-0.137110</td>\n    </tr>\n    <tr>\n      <td>158</td>\n      <td>spa</td>\n      <td>-0.137110</td>\n    </tr>\n    <tr>\n      <td>154</td>\n      <td>shutdown</td>\n      <td>-0.151285</td>\n    </tr>\n    <tr>\n      <td>172</td>\n      <td>toronto</td>\n      <td>-0.157997</td>\n    </tr>\n  </tbody>\n</table>\n<p>183 rows × 2 columns</p>\n</div>"
     },
     "metadata": {}
    },
    {
     "output_type": "display_data",
     "data": {
      "text/plain": "            Terms    topic4\n16   associations  0.259417\n128  professional  0.259417\n36       colleges  0.259417\n4           acted  0.201459\n59      fortunate  0.201459\n..            ...       ...\n67     healthcare -0.127561\n117      pandemic -0.127561\n93         mental -0.128097\n72      important -0.150312\n13      armstrong -0.202527\n\n[183 rows x 2 columns]",
      "text/html": "<div>\n<style scoped>\n    .dataframe tbody tr th:only-of-type {\n        vertical-align: middle;\n    }\n\n    .dataframe tbody tr th {\n        vertical-align: top;\n    }\n\n    .dataframe thead th {\n        text-align: right;\n    }\n</style>\n<table border=\"1\" class=\"dataframe\">\n  <thead>\n    <tr style=\"text-align: right;\">\n      <th></th>\n      <th>Terms</th>\n      <th>topic4</th>\n    </tr>\n  </thead>\n  <tbody>\n    <tr>\n      <td>16</td>\n      <td>associations</td>\n      <td>0.259417</td>\n    </tr>\n    <tr>\n      <td>128</td>\n      <td>professional</td>\n      <td>0.259417</td>\n    </tr>\n    <tr>\n      <td>36</td>\n      <td>colleges</td>\n      <td>0.259417</td>\n    </tr>\n    <tr>\n      <td>4</td>\n      <td>acted</td>\n      <td>0.201459</td>\n    </tr>\n    <tr>\n      <td>59</td>\n      <td>fortunate</td>\n      <td>0.201459</td>\n    </tr>\n    <tr>\n      <td>...</td>\n      <td>...</td>\n      <td>...</td>\n    </tr>\n    <tr>\n      <td>67</td>\n      <td>healthcare</td>\n      <td>-0.127561</td>\n    </tr>\n    <tr>\n      <td>117</td>\n      <td>pandemic</td>\n      <td>-0.127561</td>\n    </tr>\n    <tr>\n      <td>93</td>\n      <td>mental</td>\n      <td>-0.128097</td>\n    </tr>\n    <tr>\n      <td>72</td>\n      <td>important</td>\n      <td>-0.150312</td>\n    </tr>\n    <tr>\n      <td>13</td>\n      <td>armstrong</td>\n      <td>-0.202527</td>\n    </tr>\n  </tbody>\n</table>\n<p>183 rows × 2 columns</p>\n</div>"
     },
     "metadata": {}
    },
    {
     "output_type": "display_data",
     "data": {
      "text/plain": "             Terms    topic5\n172        toronto  0.229712\n13       armstrong  0.183996\n96          monday  0.177470\n93          mental  0.140641\n16    associations  0.140496\n..             ...       ...\n95         missing -0.119196\n3             able -0.124969\n109        ontario -0.132532\n125  physiotherapy -0.184455\n150       services -0.187606\n\n[183 rows x 2 columns]",
      "text/html": "<div>\n<style scoped>\n    .dataframe tbody tr th:only-of-type {\n        vertical-align: middle;\n    }\n\n    .dataframe tbody tr th {\n        vertical-align: top;\n    }\n\n    .dataframe thead th {\n        text-align: right;\n    }\n</style>\n<table border=\"1\" class=\"dataframe\">\n  <thead>\n    <tr style=\"text-align: right;\">\n      <th></th>\n      <th>Terms</th>\n      <th>topic5</th>\n    </tr>\n  </thead>\n  <tbody>\n    <tr>\n      <td>172</td>\n      <td>toronto</td>\n      <td>0.229712</td>\n    </tr>\n    <tr>\n      <td>13</td>\n      <td>armstrong</td>\n      <td>0.183996</td>\n    </tr>\n    <tr>\n      <td>96</td>\n      <td>monday</td>\n      <td>0.177470</td>\n    </tr>\n    <tr>\n      <td>93</td>\n      <td>mental</td>\n      <td>0.140641</td>\n    </tr>\n    <tr>\n      <td>16</td>\n      <td>associations</td>\n      <td>0.140496</td>\n    </tr>\n    <tr>\n      <td>...</td>\n      <td>...</td>\n      <td>...</td>\n    </tr>\n    <tr>\n      <td>95</td>\n      <td>missing</td>\n      <td>-0.119196</td>\n    </tr>\n    <tr>\n      <td>3</td>\n      <td>able</td>\n      <td>-0.124969</td>\n    </tr>\n    <tr>\n      <td>109</td>\n      <td>ontario</td>\n      <td>-0.132532</td>\n    </tr>\n    <tr>\n      <td>125</td>\n      <td>physiotherapy</td>\n      <td>-0.184455</td>\n    </tr>\n    <tr>\n      <td>150</td>\n      <td>services</td>\n      <td>-0.187606</td>\n    </tr>\n  </tbody>\n</table>\n<p>183 rows × 2 columns</p>\n</div>"
     },
     "metadata": {}
    },
    {
     "output_type": "display_data",
     "data": {
      "text/plain": "             Terms    topic6\n93          mental  0.195562\n72       important  0.178015\n125  physiotherapy  0.165452\n108      ontarians  0.158222\n117       pandemic  0.158222\n..             ...       ...\n130         public -0.125957\n37     communicate -0.127636\n32         clients -0.127636\n180        whether -0.132909\n66          health -0.135217\n\n[183 rows x 2 columns]",
      "text/html": "<div>\n<style scoped>\n    .dataframe tbody tr th:only-of-type {\n        vertical-align: middle;\n    }\n\n    .dataframe tbody tr th {\n        vertical-align: top;\n    }\n\n    .dataframe thead th {\n        text-align: right;\n    }\n</style>\n<table border=\"1\" class=\"dataframe\">\n  <thead>\n    <tr style=\"text-align: right;\">\n      <th></th>\n      <th>Terms</th>\n      <th>topic6</th>\n    </tr>\n  </thead>\n  <tbody>\n    <tr>\n      <td>93</td>\n      <td>mental</td>\n      <td>0.195562</td>\n    </tr>\n    <tr>\n      <td>72</td>\n      <td>important</td>\n      <td>0.178015</td>\n    </tr>\n    <tr>\n      <td>125</td>\n      <td>physiotherapy</td>\n      <td>0.165452</td>\n    </tr>\n    <tr>\n      <td>108</td>\n      <td>ontarians</td>\n      <td>0.158222</td>\n    </tr>\n    <tr>\n      <td>117</td>\n      <td>pandemic</td>\n      <td>0.158222</td>\n    </tr>\n    <tr>\n      <td>...</td>\n      <td>...</td>\n      <td>...</td>\n    </tr>\n    <tr>\n      <td>130</td>\n      <td>public</td>\n      <td>-0.125957</td>\n    </tr>\n    <tr>\n      <td>37</td>\n      <td>communicate</td>\n      <td>-0.127636</td>\n    </tr>\n    <tr>\n      <td>32</td>\n      <td>clients</td>\n      <td>-0.127636</td>\n    </tr>\n    <tr>\n      <td>180</td>\n      <td>whether</td>\n      <td>-0.132909</td>\n    </tr>\n    <tr>\n      <td>66</td>\n      <td>health</td>\n      <td>-0.135217</td>\n    </tr>\n  </tbody>\n</table>\n<p>183 rows × 2 columns</p>\n</div>"
     },
     "metadata": {}
    },
    {
     "output_type": "display_data",
     "data": {
      "text/plain": "             Terms    topic7\n122         people  0.321587\n165         stress  0.287657\n68            high  0.287657\n140          right  0.287657\n56        families  0.287657\n..             ...       ...\n170           time -0.128392\n14          around -0.128392\n80            last -0.128392\n10           among -0.128392\n125  physiotherapy -0.181220\n\n[183 rows x 2 columns]",
      "text/html": "<div>\n<style scoped>\n    .dataframe tbody tr th:only-of-type {\n        vertical-align: middle;\n    }\n\n    .dataframe tbody tr th {\n        vertical-align: top;\n    }\n\n    .dataframe thead th {\n        text-align: right;\n    }\n</style>\n<table border=\"1\" class=\"dataframe\">\n  <thead>\n    <tr style=\"text-align: right;\">\n      <th></th>\n      <th>Terms</th>\n      <th>topic7</th>\n    </tr>\n  </thead>\n  <tbody>\n    <tr>\n      <td>122</td>\n      <td>people</td>\n      <td>0.321587</td>\n    </tr>\n    <tr>\n      <td>165</td>\n      <td>stress</td>\n      <td>0.287657</td>\n    </tr>\n    <tr>\n      <td>68</td>\n      <td>high</td>\n      <td>0.287657</td>\n    </tr>\n    <tr>\n      <td>140</td>\n      <td>right</td>\n      <td>0.287657</td>\n    </tr>\n    <tr>\n      <td>56</td>\n      <td>families</td>\n      <td>0.287657</td>\n    </tr>\n    <tr>\n      <td>...</td>\n      <td>...</td>\n      <td>...</td>\n    </tr>\n    <tr>\n      <td>170</td>\n      <td>time</td>\n      <td>-0.128392</td>\n    </tr>\n    <tr>\n      <td>14</td>\n      <td>around</td>\n      <td>-0.128392</td>\n    </tr>\n    <tr>\n      <td>80</td>\n      <td>last</td>\n      <td>-0.128392</td>\n    </tr>\n    <tr>\n      <td>10</td>\n      <td>among</td>\n      <td>-0.128392</td>\n    </tr>\n    <tr>\n      <td>125</td>\n      <td>physiotherapy</td>\n      <td>-0.181220</td>\n    </tr>\n  </tbody>\n</table>\n<p>183 rows × 2 columns</p>\n</div>"
     },
     "metadata": {}
    },
    {
     "output_type": "display_data",
     "data": {
      "text/plain": "        Terms        topic8\n52   everyone  4.472136e-01\n146       see  4.472136e-01\n54      faces  4.472136e-01\n57    fatigue  4.472136e-01\n151   setting  4.472136e-01\n..        ...           ...\n73   included -2.641267e-14\n95    missing -2.641267e-14\n47    details -2.641267e-14\n154  shutdown -2.820122e-14\n122    people -3.115047e-14\n\n[183 rows x 2 columns]",
      "text/html": "<div>\n<style scoped>\n    .dataframe tbody tr th:only-of-type {\n        vertical-align: middle;\n    }\n\n    .dataframe tbody tr th {\n        vertical-align: top;\n    }\n\n    .dataframe thead th {\n        text-align: right;\n    }\n</style>\n<table border=\"1\" class=\"dataframe\">\n  <thead>\n    <tr style=\"text-align: right;\">\n      <th></th>\n      <th>Terms</th>\n      <th>topic8</th>\n    </tr>\n  </thead>\n  <tbody>\n    <tr>\n      <td>52</td>\n      <td>everyone</td>\n      <td>4.472136e-01</td>\n    </tr>\n    <tr>\n      <td>146</td>\n      <td>see</td>\n      <td>4.472136e-01</td>\n    </tr>\n    <tr>\n      <td>54</td>\n      <td>faces</td>\n      <td>4.472136e-01</td>\n    </tr>\n    <tr>\n      <td>57</td>\n      <td>fatigue</td>\n      <td>4.472136e-01</td>\n    </tr>\n    <tr>\n      <td>151</td>\n      <td>setting</td>\n      <td>4.472136e-01</td>\n    </tr>\n    <tr>\n      <td>...</td>\n      <td>...</td>\n      <td>...</td>\n    </tr>\n    <tr>\n      <td>73</td>\n      <td>included</td>\n      <td>-2.641267e-14</td>\n    </tr>\n    <tr>\n      <td>95</td>\n      <td>missing</td>\n      <td>-2.641267e-14</td>\n    </tr>\n    <tr>\n      <td>47</td>\n      <td>details</td>\n      <td>-2.641267e-14</td>\n    </tr>\n    <tr>\n      <td>154</td>\n      <td>shutdown</td>\n      <td>-2.820122e-14</td>\n    </tr>\n    <tr>\n      <td>122</td>\n      <td>people</td>\n      <td>-3.115047e-14</td>\n    </tr>\n  </tbody>\n</table>\n<p>183 rows × 2 columns</p>\n</div>"
     },
     "metadata": {}
    },
    {
     "output_type": "display_data",
     "data": {
      "text/plain": "        Terms    topic9\n95    missing  0.252880\n47    details  0.252880\n73   included  0.252880\n154  shutdown  0.222345\n69    however  0.217423\n..        ...       ...\n56   families -0.154684\n68       high -0.154684\n165    stress -0.154684\n140     right -0.154684\n172   toronto -0.237226\n\n[183 rows x 2 columns]",
      "text/html": "<div>\n<style scoped>\n    .dataframe tbody tr th:only-of-type {\n        vertical-align: middle;\n    }\n\n    .dataframe tbody tr th {\n        vertical-align: top;\n    }\n\n    .dataframe thead th {\n        text-align: right;\n    }\n</style>\n<table border=\"1\" class=\"dataframe\">\n  <thead>\n    <tr style=\"text-align: right;\">\n      <th></th>\n      <th>Terms</th>\n      <th>topic9</th>\n    </tr>\n  </thead>\n  <tbody>\n    <tr>\n      <td>95</td>\n      <td>missing</td>\n      <td>0.252880</td>\n    </tr>\n    <tr>\n      <td>47</td>\n      <td>details</td>\n      <td>0.252880</td>\n    </tr>\n    <tr>\n      <td>73</td>\n      <td>included</td>\n      <td>0.252880</td>\n    </tr>\n    <tr>\n      <td>154</td>\n      <td>shutdown</td>\n      <td>0.222345</td>\n    </tr>\n    <tr>\n      <td>69</td>\n      <td>however</td>\n      <td>0.217423</td>\n    </tr>\n    <tr>\n      <td>...</td>\n      <td>...</td>\n      <td>...</td>\n    </tr>\n    <tr>\n      <td>56</td>\n      <td>families</td>\n      <td>-0.154684</td>\n    </tr>\n    <tr>\n      <td>68</td>\n      <td>high</td>\n      <td>-0.154684</td>\n    </tr>\n    <tr>\n      <td>165</td>\n      <td>stress</td>\n      <td>-0.154684</td>\n    </tr>\n    <tr>\n      <td>140</td>\n      <td>right</td>\n      <td>-0.154684</td>\n    </tr>\n    <tr>\n      <td>172</td>\n      <td>toronto</td>\n      <td>-0.237226</td>\n    </tr>\n  </tbody>\n</table>\n<p>183 rows × 2 columns</p>\n</div>"
     },
     "metadata": {}
    },
    {
     "output_type": "display_data",
     "data": {
      "text/plain": "         Terms   topic10\n95     missing  0.311283\n73    included  0.311283\n47     details  0.311283\n69     however  0.285622\n154   shutdown  0.268722\n..         ...       ...\n42   confusion -0.114720\n61     general -0.114720\n149      seems -0.114720\n130     public -0.128789\n182      would -0.158292\n\n[183 rows x 2 columns]",
      "text/html": "<div>\n<style scoped>\n    .dataframe tbody tr th:only-of-type {\n        vertical-align: middle;\n    }\n\n    .dataframe tbody tr th {\n        vertical-align: top;\n    }\n\n    .dataframe thead th {\n        text-align: right;\n    }\n</style>\n<table border=\"1\" class=\"dataframe\">\n  <thead>\n    <tr style=\"text-align: right;\">\n      <th></th>\n      <th>Terms</th>\n      <th>topic10</th>\n    </tr>\n  </thead>\n  <tbody>\n    <tr>\n      <td>95</td>\n      <td>missing</td>\n      <td>0.311283</td>\n    </tr>\n    <tr>\n      <td>73</td>\n      <td>included</td>\n      <td>0.311283</td>\n    </tr>\n    <tr>\n      <td>47</td>\n      <td>details</td>\n      <td>0.311283</td>\n    </tr>\n    <tr>\n      <td>69</td>\n      <td>however</td>\n      <td>0.285622</td>\n    </tr>\n    <tr>\n      <td>154</td>\n      <td>shutdown</td>\n      <td>0.268722</td>\n    </tr>\n    <tr>\n      <td>...</td>\n      <td>...</td>\n      <td>...</td>\n    </tr>\n    <tr>\n      <td>42</td>\n      <td>confusion</td>\n      <td>-0.114720</td>\n    </tr>\n    <tr>\n      <td>61</td>\n      <td>general</td>\n      <td>-0.114720</td>\n    </tr>\n    <tr>\n      <td>149</td>\n      <td>seems</td>\n      <td>-0.114720</td>\n    </tr>\n    <tr>\n      <td>130</td>\n      <td>public</td>\n      <td>-0.128789</td>\n    </tr>\n    <tr>\n      <td>182</td>\n      <td>would</td>\n      <td>-0.158292</td>\n    </tr>\n  </tbody>\n</table>\n<p>183 rows × 2 columns</p>\n</div>"
     },
     "metadata": {}
    },
    {
     "output_type": "stream",
     "name": "stdout",
     "text": [
      "----------------------------------------------------------\n"
     ]
    }
   ],
   "source": [
    "text = u'''\n",
    "The list of businesses impacted by a lockdown beginning Monday in Toronto and Peel Region were not clearly communicated, the owner of a Toronto massage spa says.\n",
    "\n",
    "While the Ontario government offered a partial list of what would remain open after the COVID-19 shutdown begins at 12:01 a.m., Kate Armstrong, owner and director of Bahn Thai Spa, told the Star she was unsure whether her business would be impacted.\n",
    "\n",
    "The Ontario government’s late-afternoon announcement on Friday stated that personal services, such as nail and hair salons, would now be closed. Missing, however, were details of all services included in the shutdown.\n",
    "\n",
    "However, on Sunday, the Ministry of Health confirmed to the Star that “regulated health professionals including dentists, optometrists, chiropractic services, ophthalmologists, physical and occupational therapists and podiatrists will be able to operate.”\n",
    "\n",
    "A spokesperson said that “under lockdown, regulated health professionals, including massage therapists, will be able to operate. Regulated health professionals such as registered massage therapists were not impacted and therefore not referenced.”\n",
    "\n",
    "Working “in partnership with the chief medical officer of health and our local medical officers of health, we continue to closely monitor the evolving situation to advise if and when public health measures need to be adjusted,” the spokesperson also said.\n",
    "\n",
    "In Ontario’s first lockdown last spring, physiotherapy, chiropractic services and massage therapists were among those to close their doors, which left some confused about what is happening this time around.\n",
    "\n",
    "“We have to continue to communicate with clients that are calling and saying, ‘Are we seeing you on Monday or not?’ We’re having to say we’ll call you as soon as we know something more,” Armstrong said.\n",
    "\n",
    "“It’s not like a haircut,” she said, adding that people are often seeking massage to treat physical pain or for mental health care.\n",
    "\n",
    "To Armstrong, massage has been as important as mental healthcare for Ontarians during the months-long pandemic. “I see the fatigue setting in on everyone’s faces ... The stress is so high … right now, (with) people not being able to be with their families. It’s so important to have human touch.”\n",
    "\n",
    "The Ontario Physiotherapy Association shared the news that physiotherapy services would be able to continue operations, said Shafiq Bhanji, president of Athlete’s Care Sports Medicine Centres.\n",
    "\n",
    "“We received direction from our respective colleges and professional associations on Friday and over the weekend via email indicating that our services would not be impacted the upcoming lockdown,” Bhanji said in an email to the Star.\n",
    "\n",
    "While Bhanji was able to confirm that Athlete’s Care could continue offering services and communicate that to clients via email, patients are still reaching out to verify whether they can keep their appointments.\n",
    "\n",
    "“It seems there was a fair bit of confusion in the general public about whether or not these services would be impacted,” Bhanji said. “... We are fortunate that our colleges and professional associations acted quickly to inform their members.”\n",
    "'''\n",
    "\n",
    "corpus = preProcess(text)\n",
    "display(corpus)\n",
    "tfidfVec, vocab = tfidf(corpus)\n",
    "wordToSentence = createWordToSentenceMap(corpus)\n",
    "print(vocab)\n",
    "print(wordToSentence)\n",
    "print(tfidfVec)\n",
    "print('----------------------------------------------------------')\n",
    "\n",
    "u, sigma, vt = svd(tfidfVec)\n",
    "numTopics = u.shape[1] + 1\n",
    "\n",
    "dfSVD = pd.DataFrame(u, columns=[f'topic{str(i)}' for i in range(1, numTopics)])\n",
    "docCol = pd.DataFrame({'Documents': corpus})\n",
    "dfSVD = pd.concat([docCol, dfSVD], axis = 1)\n",
    "\n",
    "display(dfSVD)\n",
    "print('----------------------------------------------------------')\n",
    "print(sigma)\n",
    "\n",
    "print('----------------------------------------------------------')\n",
    "\n",
    "dfVt = pd.DataFrame(vt, columns=[f'topic{str(i)}' for i in range(1, numTopics)])\n",
    "vocabCol = pd.DataFrame({'Terms': vocab})\n",
    "dfVt = pd.concat([vocabCol, dfVt], axis = 1)\n",
    "\n",
    "display(dfVt)\n",
    "\n",
    "for i in range(1, numTopics):\n",
    "    dfVtSort = dfVt.sort_values(by=f'topic{i}', ascending=False)\n",
    "    display(dfVtSort[['Terms', f'topic{i}']])\n",
    "print('----------------------------------------------------------')\n",
    "\n",
    "\n",
    "#df = pd.DataFrame()\n",
    "#print(df)"
   ]
  },
  {
   "cell_type": "code",
   "execution_count": 4,
   "metadata": {},
   "outputs": [
    {
     "output_type": "stream",
     "name": "stdout",
     "text": [
      "“I see the fatigue setting in on everyone’s faces ...\n\nMissing, however, were details of all services included in the shutdown.\n\nHowever, on Sunday, the Ministry of Health confirmed to the Star that “regulated health professionals including dentists, optometrists, chiropractic services, ophthalmologists, physical and occupational therapists and podiatrists will be able to operate.”  A spokesperson said that “under lockdown, regulated health professionals, including massage therapists, will be able to operate.\n\nRegulated health professionals such as registered massage therapists were not impacted and therefore not referenced.”  Working “in partnership with the chief medical officer of health and our local medical officers of health, we continue to closely monitor the evolving situation to advise if and when public health measures need to be adjusted,” the spokesperson also said.\n\nThe stress is so high … right now, (with) people not being able to be with their families.\n"
     ]
    }
   ],
   "source": [
    "sentences = extractSummary(u, sigma, 5, corpus)\n",
    "summary = '\\n\\n'.join(sentences)\n",
    "print(summary)\n"
   ]
  },
  {
   "cell_type": "code",
   "execution_count": null,
   "metadata": {},
   "outputs": [],
   "source": []
  }
 ],
 "metadata": {
  "kernelspec": {
   "display_name": "summarizerEnv",
   "language": "python",
   "name": "summarizerenv"
  },
  "language_info": {
   "codemirror_mode": {
    "name": "ipython",
    "version": 3
   },
   "file_extension": ".py",
   "mimetype": "text/x-python",
   "name": "python",
   "nbconvert_exporter": "python",
   "pygments_lexer": "ipython3",
   "version": "3.7.4-final"
  }
 },
 "nbformat": 4,
 "nbformat_minor": 2
}