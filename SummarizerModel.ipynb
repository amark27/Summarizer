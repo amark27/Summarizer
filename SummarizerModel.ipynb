{
 "cells": [
  {
   "cell_type": "code",
   "execution_count": 48,
   "metadata": {},
   "outputs": [],
   "source": [
    "from sklearn.feature_extraction.text import TfidfVectorizer, CountVectorizer\n",
    "from sklearn.decomposition import TruncatedSVD\n",
    "from nltk.corpus import stopwords\n",
    "from nltk.tokenize import word_tokenize, sent_tokenize\n",
    "\n",
    "import nltk\n",
    "import string\n",
    "import pandas as pd\n",
    "import numpy as np\n",
    "\n",
    "#download assets from nltk\n",
    "#nltk.download('stopwords')\n",
    "#nltk.download('punkt')\n",
    "\n",
    "def tfidf(corpus):\n",
    "    '''\n",
    "    Computes the TF-IDF (term frequency - inverse document frequency) matrix\n",
    "\n",
    "    Args\n",
    "    - corpus: a list of documents\n",
    "\n",
    "    Returns\n",
    "    - tfidfVec: an m x n matrix of the corpus. m = number of different terms used in the documents, n = number of documents \n",
    "    - vocab: all the unique words used in the corpus, excluding stop words\n",
    "    '''\n",
    "\n",
    "    vectorizer = TfidfVectorizer(stop_words = stopwords.words('english'))\n",
    "    #vectorizer = CountVectorizer(stop_words='english')\n",
    "    tfidfVec = vectorizer.fit_transform(corpus)\n",
    "    vocab = vectorizer.get_feature_names()\n",
    "        \n",
    "    return tfidfVec, vocab\n",
    "\n",
    "def svd(tfidfVec):\n",
    "    '''\n",
    "    Gives the singular value decomposition of an m x n matrix.\n",
    "    A = U * sigma * V^t\n",
    "    \n",
    "    Args\n",
    "    - tfidfVec: an m x n matrix. m = number of documents or sentences, n = number of terms\n",
    "\n",
    "    Returns\n",
    "    - U: an m x r matrix of left singular values (document-topic table). r = number of topics\n",
    "    - sigma: an r x r diagonal matrix of singular values in decreasing order across the diagonal\n",
    "    - V^t: an n x r matrix of right singular values (term-topic table)\n",
    "    '''\n",
    "\n",
    "    lsa = TruncatedSVD(n_components = 10, n_iter=20)\n",
    "    u = lsa.fit_transform(tfidfVec)\n",
    "    sigma = lsa.singular_values_\n",
    "    vt = lsa.components_.T\n",
    "\n",
    "    return u, sigma, vt\n",
    "\n",
    "def getImportantSentences(u, sigma):\n",
    "    '''\n",
    "    Uses the LSA enhancement described by Josef Steinberg, et al.\n",
    "    Take all topics that have singular values > half of the largest singular value\n",
    "\n",
    "    Compute sk = sqrt(sum(v_ki^2 * sigma_i^2) from i = 1 to n)\n",
    "    sk is the length of the vector of the kth sentence\n",
    "    n is the number of topics \n",
    "    '''\n",
    "    #look for the sigma value range that we need to consider using binary search\n",
    "    #sigma array is sorted in descending order and will never be empty\n",
    "    l, r, target = 0, len(sigma), sigma[0]/2\n",
    "    while l < r:\n",
    "        mid = l + (r-l)//2\n",
    "\n",
    "        if sigma[mid] < target:\n",
    "            r = mid\n",
    "        else:\n",
    "            l = mid + 1\n",
    "    sigmaBound = l\n",
    "\n",
    "    uSlice = u[:, :sigmaBound]\n",
    "    sigmaSlice = sigma[:sigmaBound]\n",
    "    uSq = np.square(uSlice)\n",
    "    sigSq = np.square(np.diag(sigmaSlice))\n",
    "    prod = np.matmul(uSq, sigSq)\n",
    "    result = np.sqrt(np.sum(prod, axis = 1)).T\n",
    "\n",
    "    return (-result).argsort()\n",
    "\n",
    "def createWordToSentenceMap(corpus):\n",
    "    wordToSentence = {}\n",
    "    stopWords = set(stopwords.words('english'))\n",
    "\n",
    "    for i, doc in enumerate(corpus):\n",
    "        #remove punctuation while preserving contractions in text\n",
    "        sanitizeText = doc.translate(str.maketrans('', '', string.punctuation))\n",
    "        tokenized = word_tokenize(sanitizeText)\n",
    "        #remove duplicate words\n",
    "        tokenized = list(set([word.lower() for word in tokenized]))\n",
    "\n",
    "        for word in tokenized:\n",
    "            if word not in stopWords:\n",
    "                if word not in wordToSentence:\n",
    "                    wordToSentence[word] = [i]\n",
    "                else:\n",
    "                    wordToSentence[word].append(i)\n",
    "    \n",
    "    return wordToSentence\n",
    "\n",
    "def extractSummary(u, sigma, k, corpus):\n",
    "    '''\n",
    "    Summary will be taken from the top k sentences from getImportantSentences()\n",
    "    for each topic.\n",
    "    '''\n",
    "    return [corpus[i] for i in getImportantSentences(u, sigma)[:k]]\n"
   ]
  },
  {
   "cell_type": "code",
   "execution_count": 49,
   "metadata": {},
   "outputs": [],
   "source": [
    "def preProcess(blockText):\n",
    "    return sent_tokenize(blockText)"
   ]
  },
  {
   "cell_type": "code",
   "execution_count": 54,
   "metadata": {},
   "outputs": [
    {
     "output_type": "stream",
     "name": "stdout",
     "text": [
      "['\\nFor the second time during his papacy, Pope Francis has announced a new group of bishops and archbishops set to become cardinals -- and they come from all over the world.', 'Pope Francis said Sunday that he would hold a meeting of cardinals on February 14 \"during which I will name 15 new Cardinals who, coming from 13 countries from every continent, manifest the indissoluble links between the Church of Rome and the particular Churches present in the world,\" according to Vatican Radio.', 'New cardinals are always important because they set the tone in the church and also elect the next pope, CNN Senior Vatican Analyst John L. Allen said.', 'They are sometimes referred to as the princes of the Catholic Church.', 'The new cardinals come from countries such as Ethiopia, New Zealand and Myanmar.', '\"This is a pope who very much wants to reach out to people on the margins, and you clearly see that in this set,\" Allen said.', '\"You\\'re talking about cardinals from typically overlooked places, like Cape Verde, the Pacific island of Tonga, Panama, Thailand, Uruguay.\"', \"But for the second time since Francis' election, no Americans made the list.\", '\"Francis\\' pattern is very clear: He wants to go to the geographical peripheries rather than places that are already top-heavy with cardinals,\" Allen said.', \"Christopher Bellitto, a professor of church history at Kean University in New Jersey, noted that Francis announced his new slate of cardinals on the Catholic Feast of the Epiphany, which commemorates the visit of the Magi to Jesus' birthplace in Bethlehem.\", '\"On feast of three wise men from far away, the Pope\\'s choices for cardinal say that every local church deserves a place at the big table.\"', \"In other words, Francis wants a more decentralized church and wants to hear reform ideas from small communities that sit far from Catholicism's power centers, Bellitto said.\", \"That doesn't mean Francis is the first pontiff to appoint cardinals from the developing world, though.\", 'Beginning in the 1920s, an increasing number of Latin American churchmen were named cardinals, and in the 1960s, St. John XXIII, whom Francis canonized last year, appointed the first cardinals from Japan, the Philippines and Africa.', 'In addition to the 15 new cardinals Francis named on Sunday, five retired archbishops and bishops will also be honored as cardinals.', 'Last year, Pope Francis appointed 19 new cardinals, including bishops from Haiti and Burkina Faso.', \"CNN's Daniel Burke and Christabelle Fombu contributed to this report hi@gmail.com.\"]\n['13', '14', '15', '19', '1920s', '1960s', 'according', 'addition', 'africa', 'allen', 'already', 'also', 'always', 'american', 'americans', 'analyst', 'announced', 'appoint', 'appointed', 'archbishops', 'away', 'become', 'beginning', 'bellitto', 'bethlehem', 'big', 'birthplace', 'bishops', 'burke', 'burkina', 'canonized', 'cape', 'cardinal', 'cardinals', 'catholic', 'catholicism', 'centers', 'choices', 'christabelle', 'christopher', 'church', 'churches', 'churchmen', 'clear', 'clearly', 'cnn', 'com', 'come', 'coming', 'commemorates', 'communities', 'continent', 'contributed', 'countries', 'daniel', 'decentralized', 'deserves', 'developing', 'elect', 'election', 'epiphany', 'ethiopia', 'every', 'far', 'faso', 'feast', 'february', 'first', 'five', 'fombu', 'francis', 'geographical', 'gmail', 'go', 'group', 'haiti', 'hear', 'heavy', 'hi', 'history', 'hold', 'honored', 'ideas', 'important', 'including', 'increasing', 'indissoluble', 'island', 'japan', 'jersey', 'jesus', 'john', 'kean', 'last', 'latin', 'like', 'links', 'list', 'local', 'made', 'magi', 'manifest', 'margins', 'mean', 'meeting', 'men', 'much', 'myanmar', 'name', 'named', 'new', 'next', 'noted', 'number', 'overlooked', 'pacific', 'panama', 'papacy', 'particular', 'pattern', 'people', 'peripheries', 'philippines', 'place', 'places', 'pontiff', 'pope', 'power', 'present', 'princes', 'professor', 'radio', 'rather', 'reach', 'referred', 'reform', 'report', 'retired', 'rome', 'said', 'say', 'second', 'see', 'senior', 'set', 'since', 'sit', 'slate', 'small', 'sometimes', 'st', 'sunday', 'table', 'talking', 'thailand', 'though', 'three', 'time', 'tone', 'tonga', 'top', 'typically', 'university', 'uruguay', 'vatican', 'verde', 'visit', 'wants', 'wise', 'words', 'world', 'would', 'xxiii', 'year', 'zealand']\n{'become': [0], 'time': [0, 7], 'second': [0, 7], 'papacy': [0], 'pope': [0, 1, 2, 5, 15], 'bishops': [0, 14, 15], 'announced': [0, 9], 'come': [0, 4], 'group': [0], 'cardinals': [0, 1, 2, 4, 6, 8, 9, 12, 13, 14, 15], 'world': [0, 1, 12], 'new': [0, 1, 2, 4, 9, 14, 15], 'archbishops': [0, 14], 'set': [0, 2, 5], 'francis': [0, 1, 7, 8, 9, 11, 12, 13, 14, 15], 'name': [1], 'present': [1], 'according': [1], 'sunday': [1, 14], 'radio': [1], 'february': [1], 'church': [1, 2, 3, 9, 10, 11], 'coming': [1], 'continent': [1], 'indissoluble': [1], '14': [1], 'said': [1, 2, 5, 8, 11], 'particular': [1], '15': [1, 14], 'rome': [1], 'every': [1, 10], '13': [1], 'churches': [1], 'vatican': [1, 2], 'would': [1], 'hold': [1], 'countries': [1, 4], 'links': [1], 'manifest': [1], 'meeting': [1], 'senior': [2], 'tone': [2], 'allen': [2, 5, 8], 'john': [2, 13], 'also': [2, 14], 'important': [2], 'cnn': [2], 'always': [2], 'l': [2], 'elect': [2], 'next': [2], 'analyst': [2], 'princes': [3], 'referred': [3], 'sometimes': [3], 'catholic': [3, 9], 'myanmar': [4], 'zealand': [4], 'ethiopia': [4], 'reach': [5], 'much': [5], 'see': [5], 'wants': [5, 8, 11], 'margins': [5], 'clearly': [5], 'people': [5], 'typically': [6], 'panama': [6], 'tonga': [6], 'cape': [6], 'overlooked': [6], 'pacific': [6], 'verde': [6], 'island': [6], 'talking': [6], 'like': [6], 'places': [6, 8], 'thailand': [6], 'uruguay': [6], 'youre': [6], 'since': [7], 'election': [7], 'made': [7], 'americans': [7], 'list': [7], 'rather': [8], 'geographical': [8], 'already': [8], 'go': [8], 'peripheries': [8], 'topheavy': [8], 'pattern': [8], 'clear': [8], 'history': [9], 'christopher': [9], 'magi': [9], 'commemorates': [9], 'slate': [9], 'epiphany': [9], 'birthplace': [9], 'jersey': [9], 'noted': [9], 'bethlehem': [9], 'feast': [9, 10], 'kean': [9], 'visit': [9], 'jesus': [9], 'bellitto': [9, 11], 'professor': [9], 'university': [9], 'say': [10], 'men': [10], 'far': [10, 11], 'wise': [10], 'choices': [10], 'deserves': [10], 'big': [10], 'three': [10], 'local': [10], 'place': [10], 'popes': [10], 'cardinal': [10], 'table': [10], 'away': [10], 'communities': [11], 'centers': [11], 'ideas': [11], 'sit': [11], 'words': [11], 'reform': [11], 'hear': [11], 'small': [11], 'power': [11], 'catholicisms': [11], 'decentralized': [11], 'developing': [12], 'doesnt': [12], 'pontiff': [12], 'appoint': [12], 'first': [12, 13], 'though': [12], 'mean': [12], '1960s': [13], 'churchmen': [13], 'increasing': [13], 'philippines': [13], 'canonized': [13], '1920s': [13], 'beginning': [13], 'last': [13, 15], 'japan': [13], 'latin': [13], 'appointed': [13, 15], 'st': [13], 'american': [13], 'africa': [13], 'xxiii': [13], 'number': [13], 'year': [13, 15], 'named': [13, 14], 'five': [14], 'addition': [14], 'retired': [14], 'honored': [14], 'burkina': [15], 'haiti': [15], 'faso': [15], '19': [15], 'including': [15], 'burke': [16], 'fombu': [16], 'report': [16], 'daniel': [16], 'higmailcom': [16], 'christabelle': [16], 'cnns': [16], 'contributed': [16]}\n  (0, 170)\t0.2507706568844244\n  (0, 47)\t0.2795805580382309\n  (0, 33)\t0.14075020558156986\n  (0, 21)\t0.3201858331127549\n  (0, 144)\t0.2507706568844244\n  (0, 19)\t0.2795805580382309\n  (0, 27)\t0.2507706568844244\n  (0, 74)\t0.3201858331127549\n  (0, 110)\t0.18135548065609386\n  (0, 16)\t0.2795805580382309\n  (0, 70)\t0.14946395388351874\n  (0, 126)\t0.19472797269098574\n  (0, 117)\t0.3201858331127549\n  (0, 157)\t0.2795805580382309\n  (0, 141)\t0.2795805580382309\n  (1, 131)\t0.20036938935742146\n  (1, 164)\t0.1749589766221792\n  (1, 6)\t0.20036938935742146\n  (1, 128)\t0.20036938935742146\n  (1, 41)\t0.20036938935742146\n  (1, 118)\t0.20036938935742146\n  (1, 138)\t0.20036938935742146\n  (1, 40)\t0.12185899856837594\n  (1, 96)\t0.20036938935742146\n  (1, 86)\t0.20036938935742146\n  :\t:\n  (14, 110)\t0.1815134660540328\n  (14, 70)\t0.14959415740505771\n  (15, 64)\t0.3332855106820108\n  (15, 29)\t0.3332855106820108\n  (15, 75)\t0.3332855106820108\n  (15, 84)\t0.3332855106820108\n  (15, 3)\t0.3332855106820108\n  (15, 18)\t0.2910189628212549\n  (15, 173)\t0.2910189628212549\n  (15, 93)\t0.2910189628212549\n  (15, 33)\t0.14650868119243723\n  (15, 27)\t0.261030369867602\n  (15, 110)\t0.1887752290531931\n  (15, 70)\t0.15557893275396342\n  (15, 126)\t0.2026948262871237\n  (16, 46)\t0.32005207961722854\n  (16, 72)\t0.32005207961722854\n  (16, 78)\t0.32005207961722854\n  (16, 136)\t0.32005207961722854\n  (16, 52)\t0.32005207961722854\n  (16, 69)\t0.32005207961722854\n  (16, 38)\t0.32005207961722854\n  (16, 28)\t0.32005207961722854\n  (16, 54)\t0.32005207961722854\n  (16, 45)\t0.27946376687181584\n----------------------------------------------------------\n"
     ]
    },
    {
     "output_type": "display_data",
     "data": {
      "text/plain": "                                            Documents    topic1    topic2  \\\n0   \\nFor the second time during his papacy, Pope ...  0.593150 -0.200822   \n1   Pope Francis said Sunday that he would hold a ...  0.459667  0.023715   \n2   New cardinals are always important because the...  0.449935  0.310885   \n3   They are sometimes referred to as the princes ...  0.097619  0.161203   \n4   The new cardinals come from countries such as ...  0.428025 -0.219335   \n5   \"This is a pope who very much wants to reach o...  0.268698  0.588904   \n6   \"You're talking about cardinals from typically...  0.100064  0.036001   \n7   But for the second time since Francis' electio...  0.192608 -0.134996   \n8   \"Francis' pattern is very clear: He wants to g...  0.269457  0.465943   \n9   Christopher Bellitto, a professor of church hi...  0.348890  0.003073   \n10  \"On feast of three wise men from far away, the...  0.141708  0.220280   \n11  In other words, Francis wants a more decentral...  0.203624  0.527076   \n12  That doesn't mean Francis is the first pontiff...  0.276014 -0.162335   \n13  Beginning in the 1920s, an increasing number o...  0.321911 -0.224524   \n14  In addition to the 15 new cardinals Francis na...  0.530303 -0.244946   \n15  Last year, Pope Francis appointed 19 new cardi...  0.464879 -0.235629   \n16  CNN's Daniel Burke and Christabelle Fombu cont...  0.030149  0.066248   \n\n      topic3    topic4    topic5    topic6    topic7    topic8    topic9  \\\n0   0.015477  0.461551  0.004958 -0.033750  0.003493 -0.034704  0.042379   \n1   0.144921 -0.102591  0.201304  0.133781 -0.138787  0.466273 -0.080927   \n2  -0.002873 -0.078796  0.369663 -0.184470  0.074091 -0.028117 -0.013942   \n3   0.534549 -0.180251 -0.292602 -0.021218  0.273854 -0.198314 -0.233401   \n4   0.228356  0.057098  0.332360  0.253816 -0.119868 -0.127033 -0.062954   \n5  -0.236137  0.151180  0.133828 -0.130595 -0.161936 -0.124921 -0.029821   \n6  -0.176279 -0.132891 -0.057790  0.672187  0.430196  0.010369  0.444586   \n7  -0.071122  0.701259 -0.347930 -0.147129  0.209871 -0.010323  0.157328   \n8  -0.338273  0.003167 -0.100263  0.279208  0.080132 -0.085668 -0.097935   \n9   0.522757 -0.056605 -0.182312  0.113772  0.115299 -0.261380 -0.105647   \n10  0.359308 -0.114157 -0.190167 -0.207930 -0.159579  0.441161  0.610438   \n11  0.023427  0.009492 -0.323780 -0.012907 -0.080377 -0.011124 -0.075552   \n12 -0.207356 -0.069427 -0.340283  0.028607  0.143406  0.541382 -0.456840   \n13 -0.346030 -0.469843 -0.297801 -0.260376  0.035364 -0.139705  0.041187   \n14 -0.048857 -0.075904  0.145213  0.081085 -0.058117  0.032035 -0.021060   \n15 -0.176374 -0.247629 -0.114597 -0.229542 -0.112497 -0.309116  0.250890   \n16 -0.001183 -0.048919  0.361568 -0.400686  0.740155  0.113994  0.026136   \n\n     topic10  \n0   0.026577  \n1   0.133955  \n2   0.343917  \n3   0.472860  \n4  -0.306114  \n5   0.165342  \n6   0.128649  \n7   0.137923  \n8  -0.118879  \n9  -0.270840  \n10 -0.055021  \n11 -0.453400  \n12 -0.035257  \n13  0.044502  \n14  0.062513  \n15 -0.070059  \n16 -0.318746  ",
      "text/html": "<div>\n<style scoped>\n    .dataframe tbody tr th:only-of-type {\n        vertical-align: middle;\n    }\n\n    .dataframe tbody tr th {\n        vertical-align: top;\n    }\n\n    .dataframe thead th {\n        text-align: right;\n    }\n</style>\n<table border=\"1\" class=\"dataframe\">\n  <thead>\n    <tr style=\"text-align: right;\">\n      <th></th>\n      <th>Documents</th>\n      <th>topic1</th>\n      <th>topic2</th>\n      <th>topic3</th>\n      <th>topic4</th>\n      <th>topic5</th>\n      <th>topic6</th>\n      <th>topic7</th>\n      <th>topic8</th>\n      <th>topic9</th>\n      <th>topic10</th>\n    </tr>\n  </thead>\n  <tbody>\n    <tr>\n      <td>0</td>\n      <td>\\nFor the second time during his papacy, Pope ...</td>\n      <td>0.593150</td>\n      <td>-0.200822</td>\n      <td>0.015477</td>\n      <td>0.461551</td>\n      <td>0.004958</td>\n      <td>-0.033750</td>\n      <td>0.003493</td>\n      <td>-0.034704</td>\n      <td>0.042379</td>\n      <td>0.026577</td>\n    </tr>\n    <tr>\n      <td>1</td>\n      <td>Pope Francis said Sunday that he would hold a ...</td>\n      <td>0.459667</td>\n      <td>0.023715</td>\n      <td>0.144921</td>\n      <td>-0.102591</td>\n      <td>0.201304</td>\n      <td>0.133781</td>\n      <td>-0.138787</td>\n      <td>0.466273</td>\n      <td>-0.080927</td>\n      <td>0.133955</td>\n    </tr>\n    <tr>\n      <td>2</td>\n      <td>New cardinals are always important because the...</td>\n      <td>0.449935</td>\n      <td>0.310885</td>\n      <td>-0.002873</td>\n      <td>-0.078796</td>\n      <td>0.369663</td>\n      <td>-0.184470</td>\n      <td>0.074091</td>\n      <td>-0.028117</td>\n      <td>-0.013942</td>\n      <td>0.343917</td>\n    </tr>\n    <tr>\n      <td>3</td>\n      <td>They are sometimes referred to as the princes ...</td>\n      <td>0.097619</td>\n      <td>0.161203</td>\n      <td>0.534549</td>\n      <td>-0.180251</td>\n      <td>-0.292602</td>\n      <td>-0.021218</td>\n      <td>0.273854</td>\n      <td>-0.198314</td>\n      <td>-0.233401</td>\n      <td>0.472860</td>\n    </tr>\n    <tr>\n      <td>4</td>\n      <td>The new cardinals come from countries such as ...</td>\n      <td>0.428025</td>\n      <td>-0.219335</td>\n      <td>0.228356</td>\n      <td>0.057098</td>\n      <td>0.332360</td>\n      <td>0.253816</td>\n      <td>-0.119868</td>\n      <td>-0.127033</td>\n      <td>-0.062954</td>\n      <td>-0.306114</td>\n    </tr>\n    <tr>\n      <td>5</td>\n      <td>\"This is a pope who very much wants to reach o...</td>\n      <td>0.268698</td>\n      <td>0.588904</td>\n      <td>-0.236137</td>\n      <td>0.151180</td>\n      <td>0.133828</td>\n      <td>-0.130595</td>\n      <td>-0.161936</td>\n      <td>-0.124921</td>\n      <td>-0.029821</td>\n      <td>0.165342</td>\n    </tr>\n    <tr>\n      <td>6</td>\n      <td>\"You're talking about cardinals from typically...</td>\n      <td>0.100064</td>\n      <td>0.036001</td>\n      <td>-0.176279</td>\n      <td>-0.132891</td>\n      <td>-0.057790</td>\n      <td>0.672187</td>\n      <td>0.430196</td>\n      <td>0.010369</td>\n      <td>0.444586</td>\n      <td>0.128649</td>\n    </tr>\n    <tr>\n      <td>7</td>\n      <td>But for the second time since Francis' electio...</td>\n      <td>0.192608</td>\n      <td>-0.134996</td>\n      <td>-0.071122</td>\n      <td>0.701259</td>\n      <td>-0.347930</td>\n      <td>-0.147129</td>\n      <td>0.209871</td>\n      <td>-0.010323</td>\n      <td>0.157328</td>\n      <td>0.137923</td>\n    </tr>\n    <tr>\n      <td>8</td>\n      <td>\"Francis' pattern is very clear: He wants to g...</td>\n      <td>0.269457</td>\n      <td>0.465943</td>\n      <td>-0.338273</td>\n      <td>0.003167</td>\n      <td>-0.100263</td>\n      <td>0.279208</td>\n      <td>0.080132</td>\n      <td>-0.085668</td>\n      <td>-0.097935</td>\n      <td>-0.118879</td>\n    </tr>\n    <tr>\n      <td>9</td>\n      <td>Christopher Bellitto, a professor of church hi...</td>\n      <td>0.348890</td>\n      <td>0.003073</td>\n      <td>0.522757</td>\n      <td>-0.056605</td>\n      <td>-0.182312</td>\n      <td>0.113772</td>\n      <td>0.115299</td>\n      <td>-0.261380</td>\n      <td>-0.105647</td>\n      <td>-0.270840</td>\n    </tr>\n    <tr>\n      <td>10</td>\n      <td>\"On feast of three wise men from far away, the...</td>\n      <td>0.141708</td>\n      <td>0.220280</td>\n      <td>0.359308</td>\n      <td>-0.114157</td>\n      <td>-0.190167</td>\n      <td>-0.207930</td>\n      <td>-0.159579</td>\n      <td>0.441161</td>\n      <td>0.610438</td>\n      <td>-0.055021</td>\n    </tr>\n    <tr>\n      <td>11</td>\n      <td>In other words, Francis wants a more decentral...</td>\n      <td>0.203624</td>\n      <td>0.527076</td>\n      <td>0.023427</td>\n      <td>0.009492</td>\n      <td>-0.323780</td>\n      <td>-0.012907</td>\n      <td>-0.080377</td>\n      <td>-0.011124</td>\n      <td>-0.075552</td>\n      <td>-0.453400</td>\n    </tr>\n    <tr>\n      <td>12</td>\n      <td>That doesn't mean Francis is the first pontiff...</td>\n      <td>0.276014</td>\n      <td>-0.162335</td>\n      <td>-0.207356</td>\n      <td>-0.069427</td>\n      <td>-0.340283</td>\n      <td>0.028607</td>\n      <td>0.143406</td>\n      <td>0.541382</td>\n      <td>-0.456840</td>\n      <td>-0.035257</td>\n    </tr>\n    <tr>\n      <td>13</td>\n      <td>Beginning in the 1920s, an increasing number o...</td>\n      <td>0.321911</td>\n      <td>-0.224524</td>\n      <td>-0.346030</td>\n      <td>-0.469843</td>\n      <td>-0.297801</td>\n      <td>-0.260376</td>\n      <td>0.035364</td>\n      <td>-0.139705</td>\n      <td>0.041187</td>\n      <td>0.044502</td>\n    </tr>\n    <tr>\n      <td>14</td>\n      <td>In addition to the 15 new cardinals Francis na...</td>\n      <td>0.530303</td>\n      <td>-0.244946</td>\n      <td>-0.048857</td>\n      <td>-0.075904</td>\n      <td>0.145213</td>\n      <td>0.081085</td>\n      <td>-0.058117</td>\n      <td>0.032035</td>\n      <td>-0.021060</td>\n      <td>0.062513</td>\n    </tr>\n    <tr>\n      <td>15</td>\n      <td>Last year, Pope Francis appointed 19 new cardi...</td>\n      <td>0.464879</td>\n      <td>-0.235629</td>\n      <td>-0.176374</td>\n      <td>-0.247629</td>\n      <td>-0.114597</td>\n      <td>-0.229542</td>\n      <td>-0.112497</td>\n      <td>-0.309116</td>\n      <td>0.250890</td>\n      <td>-0.070059</td>\n    </tr>\n    <tr>\n      <td>16</td>\n      <td>CNN's Daniel Burke and Christabelle Fombu cont...</td>\n      <td>0.030149</td>\n      <td>0.066248</td>\n      <td>-0.001183</td>\n      <td>-0.048919</td>\n      <td>0.361568</td>\n      <td>-0.400686</td>\n      <td>0.740155</td>\n      <td>0.113994</td>\n      <td>0.026136</td>\n      <td>-0.318746</td>\n    </tr>\n  </tbody>\n</table>\n</div>"
     },
     "metadata": {}
    },
    {
     "output_type": "stream",
     "name": "stdout",
     "text": [
      "----------------------------------------------------------\n[1.41828601 1.14807645 1.07917382 1.05317454 1.03406883 1.01548284\n 1.00338675 0.99160554 0.9817554  0.96273915]\n----------------------------------------------------------\n"
     ]
    },
    {
     "output_type": "display_data",
     "data": {
      "text/plain": "       Terms    topic1    topic2    topic3    topic4    topic5    topic6  \\\n0         13  0.045788  0.003605  0.024933 -0.018533  0.037721  0.025994   \n1         14  0.045788  0.003605  0.024933 -0.018533  0.037721  0.025994   \n2         15  0.113751 -0.048853  0.010032 -0.035332  0.070938  0.044701   \n3         19  0.077024 -0.059580 -0.050474 -0.074408 -0.035718 -0.074188   \n4      1920s  0.036180 -0.038510 -0.067171 -0.095765 -0.062962 -0.057083   \n..       ...       ...       ...       ...       ...       ...       ...   \n170    world  0.151058 -0.072410 -0.030666  0.071018 -0.064964  0.020491   \n171    would  0.045788  0.003605  0.024933 -0.018533  0.037721  0.025994   \n172    xxiii  0.036180 -0.038510 -0.067171 -0.095765 -0.062962 -0.057083   \n173     year  0.098848 -0.085651 -0.102726 -0.148592 -0.086166 -0.114624   \n174  zealand  0.086859 -0.067927  0.080039  0.021013  0.126877  0.100473   \n\n       topic7    topic8    topic9   topic10  \n0   -0.027621  0.095015 -0.016824  0.028958  \n1   -0.027621  0.095015 -0.016824  0.028958  \n2   -0.040271  0.092082 -0.020804  0.044159  \n3   -0.037241 -0.104776  0.086755 -0.025192  \n4    0.007941 -0.032121  0.009661  0.010855  \n..        ...       ...       ...       ...  \n170  0.022059  0.231090 -0.144643  0.018435  \n171 -0.027621  0.095015 -0.016824  0.028958  \n172  0.007941 -0.032121  0.009661  0.010855  \n173 -0.025584 -0.119535  0.084188 -0.012519  \n174 -0.048600 -0.052737 -0.026662 -0.134815  \n\n[175 rows x 11 columns]",
      "text/html": "<div>\n<style scoped>\n    .dataframe tbody tr th:only-of-type {\n        vertical-align: middle;\n    }\n\n    .dataframe tbody tr th {\n        vertical-align: top;\n    }\n\n    .dataframe thead th {\n        text-align: right;\n    }\n</style>\n<table border=\"1\" class=\"dataframe\">\n  <thead>\n    <tr style=\"text-align: right;\">\n      <th></th>\n      <th>Terms</th>\n      <th>topic1</th>\n      <th>topic2</th>\n      <th>topic3</th>\n      <th>topic4</th>\n      <th>topic5</th>\n      <th>topic6</th>\n      <th>topic7</th>\n      <th>topic8</th>\n      <th>topic9</th>\n      <th>topic10</th>\n    </tr>\n  </thead>\n  <tbody>\n    <tr>\n      <td>0</td>\n      <td>13</td>\n      <td>0.045788</td>\n      <td>0.003605</td>\n      <td>0.024933</td>\n      <td>-0.018533</td>\n      <td>0.037721</td>\n      <td>0.025994</td>\n      <td>-0.027621</td>\n      <td>0.095015</td>\n      <td>-0.016824</td>\n      <td>0.028958</td>\n    </tr>\n    <tr>\n      <td>1</td>\n      <td>14</td>\n      <td>0.045788</td>\n      <td>0.003605</td>\n      <td>0.024933</td>\n      <td>-0.018533</td>\n      <td>0.037721</td>\n      <td>0.025994</td>\n      <td>-0.027621</td>\n      <td>0.095015</td>\n      <td>-0.016824</td>\n      <td>0.028958</td>\n    </tr>\n    <tr>\n      <td>2</td>\n      <td>15</td>\n      <td>0.113751</td>\n      <td>-0.048853</td>\n      <td>0.010032</td>\n      <td>-0.035332</td>\n      <td>0.070938</td>\n      <td>0.044701</td>\n      <td>-0.040271</td>\n      <td>0.092082</td>\n      <td>-0.020804</td>\n      <td>0.044159</td>\n    </tr>\n    <tr>\n      <td>3</td>\n      <td>19</td>\n      <td>0.077024</td>\n      <td>-0.059580</td>\n      <td>-0.050474</td>\n      <td>-0.074408</td>\n      <td>-0.035718</td>\n      <td>-0.074188</td>\n      <td>-0.037241</td>\n      <td>-0.104776</td>\n      <td>0.086755</td>\n      <td>-0.025192</td>\n    </tr>\n    <tr>\n      <td>4</td>\n      <td>1920s</td>\n      <td>0.036180</td>\n      <td>-0.038510</td>\n      <td>-0.067171</td>\n      <td>-0.095765</td>\n      <td>-0.062962</td>\n      <td>-0.057083</td>\n      <td>0.007941</td>\n      <td>-0.032121</td>\n      <td>0.009661</td>\n      <td>0.010855</td>\n    </tr>\n    <tr>\n      <td>...</td>\n      <td>...</td>\n      <td>...</td>\n      <td>...</td>\n      <td>...</td>\n      <td>...</td>\n      <td>...</td>\n      <td>...</td>\n      <td>...</td>\n      <td>...</td>\n      <td>...</td>\n      <td>...</td>\n    </tr>\n    <tr>\n      <td>170</td>\n      <td>world</td>\n      <td>0.151058</td>\n      <td>-0.072410</td>\n      <td>-0.030666</td>\n      <td>0.071018</td>\n      <td>-0.064964</td>\n      <td>0.020491</td>\n      <td>0.022059</td>\n      <td>0.231090</td>\n      <td>-0.144643</td>\n      <td>0.018435</td>\n    </tr>\n    <tr>\n      <td>171</td>\n      <td>would</td>\n      <td>0.045788</td>\n      <td>0.003605</td>\n      <td>0.024933</td>\n      <td>-0.018533</td>\n      <td>0.037721</td>\n      <td>0.025994</td>\n      <td>-0.027621</td>\n      <td>0.095015</td>\n      <td>-0.016824</td>\n      <td>0.028958</td>\n    </tr>\n    <tr>\n      <td>172</td>\n      <td>xxiii</td>\n      <td>0.036180</td>\n      <td>-0.038510</td>\n      <td>-0.067171</td>\n      <td>-0.095765</td>\n      <td>-0.062962</td>\n      <td>-0.057083</td>\n      <td>0.007941</td>\n      <td>-0.032121</td>\n      <td>0.009661</td>\n      <td>0.010855</td>\n    </tr>\n    <tr>\n      <td>173</td>\n      <td>year</td>\n      <td>0.098848</td>\n      <td>-0.085651</td>\n      <td>-0.102726</td>\n      <td>-0.148592</td>\n      <td>-0.086166</td>\n      <td>-0.114624</td>\n      <td>-0.025584</td>\n      <td>-0.119535</td>\n      <td>0.084188</td>\n      <td>-0.012519</td>\n    </tr>\n    <tr>\n      <td>174</td>\n      <td>zealand</td>\n      <td>0.086859</td>\n      <td>-0.067927</td>\n      <td>0.080039</td>\n      <td>0.021013</td>\n      <td>0.126877</td>\n      <td>0.100473</td>\n      <td>-0.048600</td>\n      <td>-0.052737</td>\n      <td>-0.026662</td>\n      <td>-0.134815</td>\n    </tr>\n  </tbody>\n</table>\n<p>175 rows × 11 columns</p>\n</div>"
     },
     "metadata": {}
    },
    {
     "output_type": "display_data",
     "data": {
      "text/plain": "            Terms    topic1\n33      cardinals  0.350546\n110           new  0.348287\n70        francis  0.247575\n126          pope  0.208585\n27        bishops  0.200440\n..            ...       ...\n28          burke  0.004797\n136        report  0.004797\n46            com  0.004797\n38   christabelle  0.004797\n78             hi  0.004797\n\n[175 rows x 2 columns]",
      "text/html": "<div>\n<style scoped>\n    .dataframe tbody tr th:only-of-type {\n        vertical-align: middle;\n    }\n\n    .dataframe tbody tr th {\n        vertical-align: top;\n    }\n\n    .dataframe thead th {\n        text-align: right;\n    }\n</style>\n<table border=\"1\" class=\"dataframe\">\n  <thead>\n    <tr style=\"text-align: right;\">\n      <th></th>\n      <th>Terms</th>\n      <th>topic1</th>\n    </tr>\n  </thead>\n  <tbody>\n    <tr>\n      <td>33</td>\n      <td>cardinals</td>\n      <td>0.350546</td>\n    </tr>\n    <tr>\n      <td>110</td>\n      <td>new</td>\n      <td>0.348287</td>\n    </tr>\n    <tr>\n      <td>70</td>\n      <td>francis</td>\n      <td>0.247575</td>\n    </tr>\n    <tr>\n      <td>126</td>\n      <td>pope</td>\n      <td>0.208585</td>\n    </tr>\n    <tr>\n      <td>27</td>\n      <td>bishops</td>\n      <td>0.200440</td>\n    </tr>\n    <tr>\n      <td>...</td>\n      <td>...</td>\n      <td>...</td>\n    </tr>\n    <tr>\n      <td>28</td>\n      <td>burke</td>\n      <td>0.004797</td>\n    </tr>\n    <tr>\n      <td>136</td>\n      <td>report</td>\n      <td>0.004797</td>\n    </tr>\n    <tr>\n      <td>46</td>\n      <td>com</td>\n      <td>0.004797</td>\n    </tr>\n    <tr>\n      <td>38</td>\n      <td>christabelle</td>\n      <td>0.004797</td>\n    </tr>\n    <tr>\n      <td>78</td>\n      <td>hi</td>\n      <td>0.004797</td>\n    </tr>\n  </tbody>\n</table>\n<p>175 rows × 2 columns</p>\n</div>"
     },
     "metadata": {}
    },
    {
     "output_type": "display_data",
     "data": {
      "text/plain": "           Terms    topic2\n167        wants  0.356141\n139         said  0.278218\n9          allen  0.250844\n40        church  0.165966\n142          see  0.151992\n..           ...       ...\n19   archbishops -0.094598\n47          come -0.101909\n33     cardinals -0.103782\n27       bishops -0.131514\n110          new -0.132319\n\n[175 rows x 2 columns]",
      "text/html": "<div>\n<style scoped>\n    .dataframe tbody tr th:only-of-type {\n        vertical-align: middle;\n    }\n\n    .dataframe tbody tr th {\n        vertical-align: top;\n    }\n\n    .dataframe thead th {\n        text-align: right;\n    }\n</style>\n<table border=\"1\" class=\"dataframe\">\n  <thead>\n    <tr style=\"text-align: right;\">\n      <th></th>\n      <th>Terms</th>\n      <th>topic2</th>\n    </tr>\n  </thead>\n  <tbody>\n    <tr>\n      <td>167</td>\n      <td>wants</td>\n      <td>0.356141</td>\n    </tr>\n    <tr>\n      <td>139</td>\n      <td>said</td>\n      <td>0.278218</td>\n    </tr>\n    <tr>\n      <td>9</td>\n      <td>allen</td>\n      <td>0.250844</td>\n    </tr>\n    <tr>\n      <td>40</td>\n      <td>church</td>\n      <td>0.165966</td>\n    </tr>\n    <tr>\n      <td>142</td>\n      <td>see</td>\n      <td>0.151992</td>\n    </tr>\n    <tr>\n      <td>...</td>\n      <td>...</td>\n      <td>...</td>\n    </tr>\n    <tr>\n      <td>19</td>\n      <td>archbishops</td>\n      <td>-0.094598</td>\n    </tr>\n    <tr>\n      <td>47</td>\n      <td>come</td>\n      <td>-0.101909</td>\n    </tr>\n    <tr>\n      <td>33</td>\n      <td>cardinals</td>\n      <td>-0.103782</td>\n    </tr>\n    <tr>\n      <td>27</td>\n      <td>bishops</td>\n      <td>-0.131514</td>\n    </tr>\n    <tr>\n      <td>110</td>\n      <td>new</td>\n      <td>-0.132319</td>\n    </tr>\n  </tbody>\n</table>\n<p>175 rows × 2 columns</p>\n</div>"
     },
     "metadata": {}
    },
    {
     "output_type": "display_data",
     "data": {
      "text/plain": "         Terms    topic3\n34    catholic  0.284549\n40      church  0.264397\n149  sometimes  0.225792\n129    princes  0.225792\n134   referred  0.225792\n..         ...       ...\n18   appointed -0.102726\n124     places -0.110454\n167      wants -0.112282\n67       first -0.118329\n9        allen -0.120696\n\n[175 rows x 2 columns]",
      "text/html": "<div>\n<style scoped>\n    .dataframe tbody tr th:only-of-type {\n        vertical-align: middle;\n    }\n\n    .dataframe tbody tr th {\n        vertical-align: top;\n    }\n\n    .dataframe thead th {\n        text-align: right;\n    }\n</style>\n<table border=\"1\" class=\"dataframe\">\n  <thead>\n    <tr style=\"text-align: right;\">\n      <th></th>\n      <th>Terms</th>\n      <th>topic3</th>\n    </tr>\n  </thead>\n  <tbody>\n    <tr>\n      <td>34</td>\n      <td>catholic</td>\n      <td>0.284549</td>\n    </tr>\n    <tr>\n      <td>40</td>\n      <td>church</td>\n      <td>0.264397</td>\n    </tr>\n    <tr>\n      <td>149</td>\n      <td>sometimes</td>\n      <td>0.225792</td>\n    </tr>\n    <tr>\n      <td>129</td>\n      <td>princes</td>\n      <td>0.225792</td>\n    </tr>\n    <tr>\n      <td>134</td>\n      <td>referred</td>\n      <td>0.225792</td>\n    </tr>\n    <tr>\n      <td>...</td>\n      <td>...</td>\n      <td>...</td>\n    </tr>\n    <tr>\n      <td>18</td>\n      <td>appointed</td>\n      <td>-0.102726</td>\n    </tr>\n    <tr>\n      <td>124</td>\n      <td>places</td>\n      <td>-0.110454</td>\n    </tr>\n    <tr>\n      <td>167</td>\n      <td>wants</td>\n      <td>-0.112282</td>\n    </tr>\n    <tr>\n      <td>67</td>\n      <td>first</td>\n      <td>-0.118329</td>\n    </tr>\n    <tr>\n      <td>9</td>\n      <td>allen</td>\n      <td>-0.120696</td>\n    </tr>\n  </tbody>\n</table>\n<p>175 rows × 2 columns</p>\n</div>"
     },
     "metadata": {}
    },
    {
     "output_type": "display_data",
     "data": {
      "text/plain": "         Terms    topic4\n157       time  0.328939\n141     second  0.328939\n99        made  0.243477\n14   americans  0.243477\n97        list  0.243477\n..         ...       ...\n67       first -0.104600\n33   cardinals -0.123176\n93        last -0.148592\n173       year -0.148592\n18   appointed -0.148592\n\n[175 rows x 2 columns]",
      "text/html": "<div>\n<style scoped>\n    .dataframe tbody tr th:only-of-type {\n        vertical-align: middle;\n    }\n\n    .dataframe tbody tr th {\n        vertical-align: top;\n    }\n\n    .dataframe thead th {\n        text-align: right;\n    }\n</style>\n<table border=\"1\" class=\"dataframe\">\n  <thead>\n    <tr style=\"text-align: right;\">\n      <th></th>\n      <th>Terms</th>\n      <th>topic4</th>\n    </tr>\n  </thead>\n  <tbody>\n    <tr>\n      <td>157</td>\n      <td>time</td>\n      <td>0.328939</td>\n    </tr>\n    <tr>\n      <td>141</td>\n      <td>second</td>\n      <td>0.328939</td>\n    </tr>\n    <tr>\n      <td>99</td>\n      <td>made</td>\n      <td>0.243477</td>\n    </tr>\n    <tr>\n      <td>14</td>\n      <td>americans</td>\n      <td>0.243477</td>\n    </tr>\n    <tr>\n      <td>97</td>\n      <td>list</td>\n      <td>0.243477</td>\n    </tr>\n    <tr>\n      <td>...</td>\n      <td>...</td>\n      <td>...</td>\n    </tr>\n    <tr>\n      <td>67</td>\n      <td>first</td>\n      <td>-0.104600</td>\n    </tr>\n    <tr>\n      <td>33</td>\n      <td>cardinals</td>\n      <td>-0.123176</td>\n    </tr>\n    <tr>\n      <td>93</td>\n      <td>last</td>\n      <td>-0.148592</td>\n    </tr>\n    <tr>\n      <td>173</td>\n      <td>year</td>\n      <td>-0.148592</td>\n    </tr>\n    <tr>\n      <td>18</td>\n      <td>appointed</td>\n      <td>-0.148592</td>\n    </tr>\n  </tbody>\n</table>\n<p>175 rows × 2 columns</p>\n</div>"
     },
     "metadata": {}
    },
    {
     "output_type": "display_data",
     "data": {
      "text/plain": "         Terms    topic5\n110        new  0.181678\n45         cnn  0.178344\n53   countries  0.143724\n61    ethiopia  0.126877\n107    myanmar  0.126877\n..         ...       ...\n129    princes -0.134611\n149  sometimes -0.134611\n34    catholic -0.150735\n67       first -0.161639\n70     francis -0.188774\n\n[175 rows x 2 columns]",
      "text/html": "<div>\n<style scoped>\n    .dataframe tbody tr th:only-of-type {\n        vertical-align: middle;\n    }\n\n    .dataframe tbody tr th {\n        vertical-align: top;\n    }\n\n    .dataframe thead th {\n        text-align: right;\n    }\n</style>\n<table border=\"1\" class=\"dataframe\">\n  <thead>\n    <tr style=\"text-align: right;\">\n      <th></th>\n      <th>Terms</th>\n      <th>topic5</th>\n    </tr>\n  </thead>\n  <tbody>\n    <tr>\n      <td>110</td>\n      <td>new</td>\n      <td>0.181678</td>\n    </tr>\n    <tr>\n      <td>45</td>\n      <td>cnn</td>\n      <td>0.178344</td>\n    </tr>\n    <tr>\n      <td>53</td>\n      <td>countries</td>\n      <td>0.143724</td>\n    </tr>\n    <tr>\n      <td>61</td>\n      <td>ethiopia</td>\n      <td>0.126877</td>\n    </tr>\n    <tr>\n      <td>107</td>\n      <td>myanmar</td>\n      <td>0.126877</td>\n    </tr>\n    <tr>\n      <td>...</td>\n      <td>...</td>\n      <td>...</td>\n    </tr>\n    <tr>\n      <td>129</td>\n      <td>princes</td>\n      <td>-0.134611</td>\n    </tr>\n    <tr>\n      <td>149</td>\n      <td>sometimes</td>\n      <td>-0.134611</td>\n    </tr>\n    <tr>\n      <td>34</td>\n      <td>catholic</td>\n      <td>-0.150735</td>\n    </tr>\n    <tr>\n      <td>67</td>\n      <td>first</td>\n      <td>-0.161639</td>\n    </tr>\n    <tr>\n      <td>70</td>\n      <td>francis</td>\n      <td>-0.188774</td>\n    </tr>\n  </tbody>\n</table>\n<p>175 rows × 2 columns</p>\n</div>"
     },
     "metadata": {}
    },
    {
     "output_type": "display_data",
     "data": {
      "text/plain": "           Terms    topic6\n124       places  0.226866\n153      talking  0.181098\n95          like  0.181098\n114   overlooked  0.181098\n115      pacific  0.181098\n..           ...       ...\n69         fombu -0.124360\n54        daniel -0.124360\n52   contributed -0.124360\n46           com -0.124360\n45           cnn -0.151976\n\n[175 rows x 2 columns]",
      "text/html": "<div>\n<style scoped>\n    .dataframe tbody tr th:only-of-type {\n        vertical-align: middle;\n    }\n\n    .dataframe tbody tr th {\n        vertical-align: top;\n    }\n\n    .dataframe thead th {\n        text-align: right;\n    }\n</style>\n<table border=\"1\" class=\"dataframe\">\n  <thead>\n    <tr style=\"text-align: right;\">\n      <th></th>\n      <th>Terms</th>\n      <th>topic6</th>\n    </tr>\n  </thead>\n  <tbody>\n    <tr>\n      <td>124</td>\n      <td>places</td>\n      <td>0.226866</td>\n    </tr>\n    <tr>\n      <td>153</td>\n      <td>talking</td>\n      <td>0.181098</td>\n    </tr>\n    <tr>\n      <td>95</td>\n      <td>like</td>\n      <td>0.181098</td>\n    </tr>\n    <tr>\n      <td>114</td>\n      <td>overlooked</td>\n      <td>0.181098</td>\n    </tr>\n    <tr>\n      <td>115</td>\n      <td>pacific</td>\n      <td>0.181098</td>\n    </tr>\n    <tr>\n      <td>...</td>\n      <td>...</td>\n      <td>...</td>\n    </tr>\n    <tr>\n      <td>69</td>\n      <td>fombu</td>\n      <td>-0.124360</td>\n    </tr>\n    <tr>\n      <td>54</td>\n      <td>daniel</td>\n      <td>-0.124360</td>\n    </tr>\n    <tr>\n      <td>52</td>\n      <td>contributed</td>\n      <td>-0.124360</td>\n    </tr>\n    <tr>\n      <td>46</td>\n      <td>com</td>\n      <td>-0.124360</td>\n    </tr>\n    <tr>\n      <td>45</td>\n      <td>cnn</td>\n      <td>-0.151976</td>\n    </tr>\n  </tbody>\n</table>\n<p>175 rows × 2 columns</p>\n</div>"
     },
     "metadata": {}
    },
    {
     "output_type": "display_data",
     "data": {
      "text/plain": "            Terms    topic7\n78             hi  0.235292\n136        report  0.235292\n54         daniel  0.235292\n46            com  0.235292\n38   christabelle  0.235292\n..            ...       ...\n167         wants -0.055999\n62          every -0.059822\n110           new -0.061138\n53      countries -0.066555\n126          pope -0.084485\n\n[175 rows x 2 columns]",
      "text/html": "<div>\n<style scoped>\n    .dataframe tbody tr th:only-of-type {\n        vertical-align: middle;\n    }\n\n    .dataframe tbody tr th {\n        vertical-align: top;\n    }\n\n    .dataframe thead th {\n        text-align: right;\n    }\n</style>\n<table border=\"1\" class=\"dataframe\">\n  <thead>\n    <tr style=\"text-align: right;\">\n      <th></th>\n      <th>Terms</th>\n      <th>topic7</th>\n    </tr>\n  </thead>\n  <tbody>\n    <tr>\n      <td>78</td>\n      <td>hi</td>\n      <td>0.235292</td>\n    </tr>\n    <tr>\n      <td>136</td>\n      <td>report</td>\n      <td>0.235292</td>\n    </tr>\n    <tr>\n      <td>54</td>\n      <td>daniel</td>\n      <td>0.235292</td>\n    </tr>\n    <tr>\n      <td>46</td>\n      <td>com</td>\n      <td>0.235292</td>\n    </tr>\n    <tr>\n      <td>38</td>\n      <td>christabelle</td>\n      <td>0.235292</td>\n    </tr>\n    <tr>\n      <td>...</td>\n      <td>...</td>\n      <td>...</td>\n    </tr>\n    <tr>\n      <td>167</td>\n      <td>wants</td>\n      <td>-0.055999</td>\n    </tr>\n    <tr>\n      <td>62</td>\n      <td>every</td>\n      <td>-0.059822</td>\n    </tr>\n    <tr>\n      <td>110</td>\n      <td>new</td>\n      <td>-0.061138</td>\n    </tr>\n    <tr>\n      <td>53</td>\n      <td>countries</td>\n      <td>-0.066555</td>\n    </tr>\n    <tr>\n      <td>126</td>\n      <td>pope</td>\n      <td>-0.084485</td>\n    </tr>\n  </tbody>\n</table>\n<p>175 rows × 2 columns</p>\n</div>"
     },
     "metadata": {}
    },
    {
     "output_type": "display_data",
     "data": {
      "text/plain": "          Terms    topic8\n170       world  0.231090\n155      though  0.211343\n125     pontiff  0.211343\n17      appoint  0.211343\n57   developing  0.211343\n..          ...       ...\n18    appointed -0.119535\n93         last -0.119535\n173        year -0.119535\n110         new -0.137398\n34     catholic -0.138388\n\n[175 rows x 2 columns]",
      "text/html": "<div>\n<style scoped>\n    .dataframe tbody tr th:only-of-type {\n        vertical-align: middle;\n    }\n\n    .dataframe tbody tr th {\n        vertical-align: top;\n    }\n\n    .dataframe thead th {\n        text-align: right;\n    }\n</style>\n<table border=\"1\" class=\"dataframe\">\n  <thead>\n    <tr style=\"text-align: right;\">\n      <th></th>\n      <th>Terms</th>\n      <th>topic8</th>\n    </tr>\n  </thead>\n  <tbody>\n    <tr>\n      <td>170</td>\n      <td>world</td>\n      <td>0.231090</td>\n    </tr>\n    <tr>\n      <td>155</td>\n      <td>though</td>\n      <td>0.211343</td>\n    </tr>\n    <tr>\n      <td>125</td>\n      <td>pontiff</td>\n      <td>0.211343</td>\n    </tr>\n    <tr>\n      <td>17</td>\n      <td>appoint</td>\n      <td>0.211343</td>\n    </tr>\n    <tr>\n      <td>57</td>\n      <td>developing</td>\n      <td>0.211343</td>\n    </tr>\n    <tr>\n      <td>...</td>\n      <td>...</td>\n      <td>...</td>\n    </tr>\n    <tr>\n      <td>18</td>\n      <td>appointed</td>\n      <td>-0.119535</td>\n    </tr>\n    <tr>\n      <td>93</td>\n      <td>last</td>\n      <td>-0.119535</td>\n    </tr>\n    <tr>\n      <td>173</td>\n      <td>year</td>\n      <td>-0.119535</td>\n    </tr>\n    <tr>\n      <td>110</td>\n      <td>new</td>\n      <td>-0.137398</td>\n    </tr>\n    <tr>\n      <td>34</td>\n      <td>catholic</td>\n      <td>-0.138388</td>\n    </tr>\n  </tbody>\n</table>\n<p>175 rows × 2 columns</p>\n</div>"
     },
     "metadata": {}
    },
    {
     "output_type": "display_data",
     "data": {
      "text/plain": "          Terms    topic9\n98        local  0.163380\n105         men  0.163380\n123       place  0.163380\n25          big  0.163380\n32     cardinal  0.163380\n..          ...       ...\n57   developing -0.181936\n125     pontiff -0.181936\n17      appoint -0.181936\n103        mean -0.181936\n155      though -0.181936\n\n[175 rows x 2 columns]",
      "text/html": "<div>\n<style scoped>\n    .dataframe tbody tr th:only-of-type {\n        vertical-align: middle;\n    }\n\n    .dataframe tbody tr th {\n        vertical-align: top;\n    }\n\n    .dataframe thead th {\n        text-align: right;\n    }\n</style>\n<table border=\"1\" class=\"dataframe\">\n  <thead>\n    <tr style=\"text-align: right;\">\n      <th></th>\n      <th>Terms</th>\n      <th>topic9</th>\n    </tr>\n  </thead>\n  <tbody>\n    <tr>\n      <td>98</td>\n      <td>local</td>\n      <td>0.163380</td>\n    </tr>\n    <tr>\n      <td>105</td>\n      <td>men</td>\n      <td>0.163380</td>\n    </tr>\n    <tr>\n      <td>123</td>\n      <td>place</td>\n      <td>0.163380</td>\n    </tr>\n    <tr>\n      <td>25</td>\n      <td>big</td>\n      <td>0.163380</td>\n    </tr>\n    <tr>\n      <td>32</td>\n      <td>cardinal</td>\n      <td>0.163380</td>\n    </tr>\n    <tr>\n      <td>...</td>\n      <td>...</td>\n      <td>...</td>\n    </tr>\n    <tr>\n      <td>57</td>\n      <td>developing</td>\n      <td>-0.181936</td>\n    </tr>\n    <tr>\n      <td>125</td>\n      <td>pontiff</td>\n      <td>-0.181936</td>\n    </tr>\n    <tr>\n      <td>17</td>\n      <td>appoint</td>\n      <td>-0.181936</td>\n    </tr>\n    <tr>\n      <td>103</td>\n      <td>mean</td>\n      <td>-0.181936</td>\n    </tr>\n    <tr>\n      <td>155</td>\n      <td>though</td>\n      <td>-0.181936</td>\n    </tr>\n  </tbody>\n</table>\n<p>175 rows × 2 columns</p>\n</div>"
     },
     "metadata": {}
    },
    {
     "output_type": "display_data",
     "data": {
      "text/plain": "         Terms   topic10\n149  sometimes  0.250968\n129    princes  0.250968\n134   referred  0.250968\n34    catholic  0.162249\n144        set  0.135441\n..         ...       ...\n107    myanmar -0.134815\n174    zealand -0.134815\n110        new -0.148576\n23    bellitto -0.163686\n167      wants -0.173254\n\n[175 rows x 2 columns]",
      "text/html": "<div>\n<style scoped>\n    .dataframe tbody tr th:only-of-type {\n        vertical-align: middle;\n    }\n\n    .dataframe tbody tr th {\n        vertical-align: top;\n    }\n\n    .dataframe thead th {\n        text-align: right;\n    }\n</style>\n<table border=\"1\" class=\"dataframe\">\n  <thead>\n    <tr style=\"text-align: right;\">\n      <th></th>\n      <th>Terms</th>\n      <th>topic10</th>\n    </tr>\n  </thead>\n  <tbody>\n    <tr>\n      <td>149</td>\n      <td>sometimes</td>\n      <td>0.250968</td>\n    </tr>\n    <tr>\n      <td>129</td>\n      <td>princes</td>\n      <td>0.250968</td>\n    </tr>\n    <tr>\n      <td>134</td>\n      <td>referred</td>\n      <td>0.250968</td>\n    </tr>\n    <tr>\n      <td>34</td>\n      <td>catholic</td>\n      <td>0.162249</td>\n    </tr>\n    <tr>\n      <td>144</td>\n      <td>set</td>\n      <td>0.135441</td>\n    </tr>\n    <tr>\n      <td>...</td>\n      <td>...</td>\n      <td>...</td>\n    </tr>\n    <tr>\n      <td>107</td>\n      <td>myanmar</td>\n      <td>-0.134815</td>\n    </tr>\n    <tr>\n      <td>174</td>\n      <td>zealand</td>\n      <td>-0.134815</td>\n    </tr>\n    <tr>\n      <td>110</td>\n      <td>new</td>\n      <td>-0.148576</td>\n    </tr>\n    <tr>\n      <td>23</td>\n      <td>bellitto</td>\n      <td>-0.163686</td>\n    </tr>\n    <tr>\n      <td>167</td>\n      <td>wants</td>\n      <td>-0.173254</td>\n    </tr>\n  </tbody>\n</table>\n<p>175 rows × 2 columns</p>\n</div>"
     },
     "metadata": {}
    },
    {
     "output_type": "stream",
     "name": "stdout",
     "text": [
      "----------------------------------------------------------\n"
     ]
    }
   ],
   "source": [
    "text = '''\n",
    "For the second time during his papacy, Pope Francis has announced a new group of bishops and archbishops set to become cardinals -- and they come from all over the world.\n",
    "\n",
    "Pope Francis said Sunday that he would hold a meeting of cardinals on February 14 \"during which I will name 15 new Cardinals who, coming from 13 countries from every continent, manifest the indissoluble links between the Church of Rome and the particular Churches present in the world,\" according to Vatican Radio.\n",
    "\n",
    "New cardinals are always important because they set the tone in the church and also elect the next pope, CNN Senior Vatican Analyst John L. Allen said. They are sometimes referred to as the princes of the Catholic Church.\n",
    "\n",
    "The new cardinals come from countries such as Ethiopia, New Zealand and Myanmar.\n",
    "\n",
    "\"This is a pope who very much wants to reach out to people on the margins, and you clearly see that in this set,\" Allen said. \"You're talking about cardinals from typically overlooked places, like Cape Verde, the Pacific island of Tonga, Panama, Thailand, Uruguay.\"\n",
    "\n",
    "But for the second time since Francis' election, no Americans made the list.\n",
    "\n",
    "\"Francis' pattern is very clear: He wants to go to the geographical peripheries rather than places that are already top-heavy with cardinals,\" Allen said.\n",
    "\n",
    "Christopher Bellitto, a professor of church history at Kean University in New Jersey, noted that Francis announced his new slate of cardinals on the Catholic Feast of the Epiphany, which commemorates the visit of the Magi to Jesus' birthplace in Bethlehem.\n",
    "\n",
    "\"On feast of three wise men from far away, the Pope's choices for cardinal say that every local church deserves a place at the big table.\"\n",
    "\n",
    "In other words, Francis wants a more decentralized church and wants to hear reform ideas from small communities that sit far from Catholicism's power centers, Bellitto said.\n",
    "\n",
    "That doesn't mean Francis is the first pontiff to appoint cardinals from the developing world, though. Beginning in the 1920s, an increasing number of Latin American churchmen were named cardinals, and in the 1960s, St. John XXIII, whom Francis canonized last year, appointed the first cardinals from Japan, the Philippines and Africa.\n",
    "\n",
    "In addition to the 15 new cardinals Francis named on Sunday, five retired archbishops and bishops will also be honored as cardinals.\n",
    "\n",
    "Last year, Pope Francis appointed 19 new cardinals, including bishops from Haiti and Burkina Faso.\n",
    "\n",
    "CNN's Daniel Burke and Christabelle Fombu contributed to this report hi@gmail.com.\n",
    "'''\n",
    "\n",
    "corpus = preProcess(text)\n",
    "print(corpus)\n",
    "\n",
    "tfidfVec, vocab = tfidf(corpus)\n",
    "wordToSentence = createWordToSentenceMap(corpus)\n",
    "print(vocab)\n",
    "print(wordToSentence)\n",
    "print(tfidfVec)\n",
    "print('----------------------------------------------------------')\n",
    "\n",
    "u, sigma, vt = svd(tfidfVec)\n",
    "numTopics = u.shape[1] + 1\n",
    "\n",
    "dfSVD = pd.DataFrame(u, columns=[f'topic{str(i)}' for i in range(1, numTopics)])\n",
    "docCol = pd.DataFrame({'Documents': corpus})\n",
    "dfSVD = pd.concat([docCol, dfSVD], axis = 1)\n",
    "\n",
    "display(dfSVD)\n",
    "print('----------------------------------------------------------')\n",
    "print(sigma)\n",
    "\n",
    "print('----------------------------------------------------------')\n",
    "\n",
    "dfVt = pd.DataFrame(vt, columns=[f'topic{str(i)}' for i in range(1, numTopics)])\n",
    "vocabCol = pd.DataFrame({'Terms': vocab})\n",
    "dfVt = pd.concat([vocabCol, dfVt], axis = 1)\n",
    "\n",
    "display(dfVt)\n",
    "\n",
    "for i in range(1, numTopics):\n",
    "    dfVtSort = dfVt.sort_values(by=f'topic{i}', ascending=False)\n",
    "    display(dfVtSort[['Terms', f'topic{i}']])\n",
    "print('----------------------------------------------------------')\n",
    "\n",
    "\n",
    "#df = pd.DataFrame()\n",
    "#print(df)"
   ]
  },
  {
   "cell_type": "code",
   "execution_count": 51,
   "metadata": {},
   "outputs": [
    {
     "output_type": "stream",
     "name": "stdout",
     "text": [
      "\nFor the second time during his papacy, Pope Francis has announced a new group of bishops and archbishops set to become cardinals -- and they come from all over the world.\nCNN's Daniel Burke and Christabelle Fombu contributed to this report.\n\"You're talking about cardinals from typically overlooked places, like Cape Verde, the Pacific island of Tonga, Panama, Thailand, Uruguay.\"\n\"On feast of three wise men from far away, the Pope's choices for cardinal say that every local church deserves a place at the big table.\"\nThey are sometimes referred to as the princes of the Catholic Church.\n"
     ]
    }
   ],
   "source": [
    "summary = '\\n'.join(extractSummary(u, sigma, 5, corpus))\n",
    "print(summary)\n"
   ]
  }
 ],
 "metadata": {
  "kernelspec": {
   "display_name": "summarizerEnv",
   "language": "python",
   "name": "summarizerenv"
  },
  "language_info": {
   "codemirror_mode": {
    "name": "ipython",
    "version": 3
   },
   "file_extension": ".py",
   "mimetype": "text/x-python",
   "name": "python",
   "nbconvert_exporter": "python",
   "pygments_lexer": "ipython3",
   "version": "3.7.4-final"
  }
 },
 "nbformat": 4,
 "nbformat_minor": 2
}