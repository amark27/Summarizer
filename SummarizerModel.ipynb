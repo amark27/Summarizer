{
 "cells": [
  {
   "cell_type": "code",
   "execution_count": 25,
   "metadata": {},
   "outputs": [],
   "source": [
    "from sklearn.feature_extraction.text import TfidfVectorizer, CountVectorizer\n",
    "from sklearn.decomposition import TruncatedSVD\n",
    "import pandas as pd\n",
    "\n",
    "def tfidf(corpus):\n",
    "    '''\n",
    "    Computes the TF-IDF (term frequency - inverse document frequency) matrix\n",
    "\n",
    "    Args\n",
    "    - corpus: a list of documents\n",
    "\n",
    "    Returns\n",
    "    - tfidfVec: an m x n matrix of the corpus. m = number of documents, n = number of different terms used in the documents\n",
    "    - vocab: all the unique words used in the corpus, excluding stop words\n",
    "    '''\n",
    "\n",
    "    vectorizer = TfidfVectorizer(stop_words='english')\n",
    "    #vectorizer = CountVectorizer(stop_words='english')\n",
    "    tfidfVec = vectorizer.fit_transform(corpus)\n",
    "    vocab = vectorizer.get_feature_names()\n",
    "    return tfidfVec, vocab\n",
    "\n",
    "def svd(tfidfVec):\n",
    "    '''\n",
    "    Gives the singular value decomposition of an m x n matrix.\n",
    "    A = U * sigma * V^t\n",
    "    \n",
    "    Args\n",
    "    - tfidfVec: an m x n matrix. m = number of documents or sentences, n = number of terms\n",
    "\n",
    "    Returns\n",
    "    - u: an m x r matrix of left singular values (document-topic table). r = number of topics\n",
    "    - sigma: an r x r diagonal matrix of singular values in decreasing order across the diagonal\n",
    "    - V^t: an n x r matrix of right singular values (term-topic table)\n",
    "    '''\n",
    "\n",
    "    lsa = TruncatedSVD(n_components=10, n_iter=20)\n",
    "    u = lsa.fit_transform(tfidfVec)\n",
    "    sigma = lsa.singular_values_\n",
    "    vt = lsa.components_.T\n",
    "\n",
    "    return u, sigma, vt"
   ]
  },
  {
   "cell_type": "code",
   "execution_count": 26,
   "metadata": {},
   "outputs": [
    {
     "output_type": "stream",
     "name": "stdout",
     "text": [
      "  (0, 4)\t0.26084107346995766\n  (0, 14)\t0.26084107346995766\n  (0, 26)\t0.1540569399192421\n  (0, 5)\t0.26084107346995766\n  (0, 19)\t0.26084107346995766\n  (0, 29)\t0.26084107346995766\n  (0, 1)\t0.26084107346995766\n  (0, 13)\t0.1540569399192421\n  (0, 30)\t0.26084107346995766\n  (0, 33)\t0.5216821469399153\n  (0, 6)\t0.26084107346995766\n  (0, 16)\t0.26084107346995766\n  (0, 15)\t0.26084107346995766\n  (1, 2)\t0.20542217148685335\n  (1, 31)\t0.20542217148685335\n  (1, 9)\t0.20542217148685335\n  (1, 24)\t0.20542217148685335\n  (1, 8)\t0.20542217148685335\n  (1, 32)\t0.20542217148685335\n  (1, 0)\t0.20542217148685335\n  (1, 23)\t0.20542217148685335\n  (1, 11)\t0.20542217148685335\n  (1, 21)\t0.20542217148685335\n  (1, 20)\t0.20542217148685335\n  (1, 25)\t0.20542217148685335\n  (1, 17)\t0.20542217148685335\n  (1, 10)\t0.20542217148685335\n  (1, 27)\t0.20542217148685335\n  (1, 34)\t0.4108443429737067\n  (1, 12)\t0.4108443429737067\n  (1, 26)\t0.1213256436566357\n  (1, 13)\t0.1213256436566357\n  (2, 3)\t0.4189401020758947\n  (2, 18)\t0.4189401020758947\n  (2, 7)\t0.4189401020758947\n  (2, 22)\t0.4189401020758947\n  (2, 28)\t0.4189401020758947\n  (2, 26)\t0.24743277305481848\n  (2, 13)\t0.24743277305481848\n35\n----------------------------------------------------------\n"
     ]
    },
    {
     "output_type": "display_data",
     "data": {
      "text/plain": "                                           Documents    topic1    topic2  \\\n0  In this paper, we propose two generic text sum...  0.610244 -0.566882   \n1  The first method uses standard IR methods to r...  0.539674  0.792453   \n2  Both methods strive to select sentences that a...  0.673459 -0.121359   \n\n     topic3  \n0 -0.553396  \n1 -0.284201  \n2  0.729194  ",
      "text/html": "<div>\n<style scoped>\n    .dataframe tbody tr th:only-of-type {\n        vertical-align: middle;\n    }\n\n    .dataframe tbody tr th {\n        vertical-align: top;\n    }\n\n    .dataframe thead th {\n        text-align: right;\n    }\n</style>\n<table border=\"1\" class=\"dataframe\">\n  <thead>\n    <tr style=\"text-align: right;\">\n      <th></th>\n      <th>Documents</th>\n      <th>topic1</th>\n      <th>topic2</th>\n      <th>topic3</th>\n    </tr>\n  </thead>\n  <tbody>\n    <tr>\n      <td>0</td>\n      <td>In this paper, we propose two generic text sum...</td>\n      <td>0.610244</td>\n      <td>-0.566882</td>\n      <td>-0.553396</td>\n    </tr>\n    <tr>\n      <td>1</td>\n      <td>The first method uses standard IR methods to r...</td>\n      <td>0.539674</td>\n      <td>0.792453</td>\n      <td>-0.284201</td>\n    </tr>\n    <tr>\n      <td>2</td>\n      <td>Both methods strive to select sentences that a...</td>\n      <td>0.673459</td>\n      <td>-0.121359</td>\n      <td>0.729194</td>\n    </tr>\n  </tbody>\n</table>\n</div>"
     },
     "metadata": {}
    },
    {
     "output_type": "stream",
     "name": "stdout",
     "text": [
      "----------------------------------------------------------\n[1.05697402 0.9818676  0.95851027]\n----------------------------------------------------------\n"
     ]
    },
    {
     "output_type": "display_data",
     "data": {
      "text/plain": "            Terms    topic1    topic2    topic3\n0        analysis  0.099232  0.168855 -0.063545\n1          create  0.142479 -0.153378 -0.157115\n2       creations  0.099232  0.168855 -0.063545\n3       different  0.252543 -0.052737  0.332508\n4       documents  0.142479 -0.153378 -0.157115\n5      extracting  0.142479 -0.153378 -0.157115\n6         generic  0.142479 -0.153378 -0.157115\n7          highly  0.252543 -0.052737  0.332508\n8        identify  0.099232  0.168855 -0.063545\n9       important  0.099232  0.168855 -0.063545\n10             ir  0.099232  0.168855 -0.063545\n11         latent  0.099232  0.168855 -0.063545\n12         method  0.198463  0.337711 -0.127089\n13        methods  0.291914 -0.022006  0.066059\n14       original  0.142479 -0.153378 -0.157115\n15          paper  0.142479 -0.153378 -0.157115\n16        propose  0.142479 -0.153378 -0.157115\n17           rank  0.099232  0.168855 -0.063545\n18         ranked  0.252543 -0.052737  0.332508\n19        ranking  0.142479 -0.153378 -0.157115\n20     relevances  0.099232  0.168855 -0.063545\n21         second  0.099232  0.168855 -0.063545\n22         select  0.252543 -0.052737  0.332508\n23       semantic  0.099232  0.168855 -0.063545\n24   semantically  0.099232  0.168855 -0.063545\n25       sentence  0.099232  0.168855 -0.063545\n26      sentences  0.291914 -0.022006  0.066059\n27       standard  0.099232  0.168855 -0.063545\n28         strive  0.252543 -0.052737  0.332508\n29      summaries  0.142479 -0.153378 -0.157115\n30  summarization  0.142479 -0.153378 -0.157115\n31        summary  0.099232  0.168855 -0.063545\n32      technique  0.099232  0.168855 -0.063545\n33           text  0.284958 -0.306756 -0.314231\n34           uses  0.198463  0.337711 -0.127089",
      "text/html": "<div>\n<style scoped>\n    .dataframe tbody tr th:only-of-type {\n        vertical-align: middle;\n    }\n\n    .dataframe tbody tr th {\n        vertical-align: top;\n    }\n\n    .dataframe thead th {\n        text-align: right;\n    }\n</style>\n<table border=\"1\" class=\"dataframe\">\n  <thead>\n    <tr style=\"text-align: right;\">\n      <th></th>\n      <th>Terms</th>\n      <th>topic1</th>\n      <th>topic2</th>\n      <th>topic3</th>\n    </tr>\n  </thead>\n  <tbody>\n    <tr>\n      <td>0</td>\n      <td>analysis</td>\n      <td>0.099232</td>\n      <td>0.168855</td>\n      <td>-0.063545</td>\n    </tr>\n    <tr>\n      <td>1</td>\n      <td>create</td>\n      <td>0.142479</td>\n      <td>-0.153378</td>\n      <td>-0.157115</td>\n    </tr>\n    <tr>\n      <td>2</td>\n      <td>creations</td>\n      <td>0.099232</td>\n      <td>0.168855</td>\n      <td>-0.063545</td>\n    </tr>\n    <tr>\n      <td>3</td>\n      <td>different</td>\n      <td>0.252543</td>\n      <td>-0.052737</td>\n      <td>0.332508</td>\n    </tr>\n    <tr>\n      <td>4</td>\n      <td>documents</td>\n      <td>0.142479</td>\n      <td>-0.153378</td>\n      <td>-0.157115</td>\n    </tr>\n    <tr>\n      <td>5</td>\n      <td>extracting</td>\n      <td>0.142479</td>\n      <td>-0.153378</td>\n      <td>-0.157115</td>\n    </tr>\n    <tr>\n      <td>6</td>\n      <td>generic</td>\n      <td>0.142479</td>\n      <td>-0.153378</td>\n      <td>-0.157115</td>\n    </tr>\n    <tr>\n      <td>7</td>\n      <td>highly</td>\n      <td>0.252543</td>\n      <td>-0.052737</td>\n      <td>0.332508</td>\n    </tr>\n    <tr>\n      <td>8</td>\n      <td>identify</td>\n      <td>0.099232</td>\n      <td>0.168855</td>\n      <td>-0.063545</td>\n    </tr>\n    <tr>\n      <td>9</td>\n      <td>important</td>\n      <td>0.099232</td>\n      <td>0.168855</td>\n      <td>-0.063545</td>\n    </tr>\n    <tr>\n      <td>10</td>\n      <td>ir</td>\n      <td>0.099232</td>\n      <td>0.168855</td>\n      <td>-0.063545</td>\n    </tr>\n    <tr>\n      <td>11</td>\n      <td>latent</td>\n      <td>0.099232</td>\n      <td>0.168855</td>\n      <td>-0.063545</td>\n    </tr>\n    <tr>\n      <td>12</td>\n      <td>method</td>\n      <td>0.198463</td>\n      <td>0.337711</td>\n      <td>-0.127089</td>\n    </tr>\n    <tr>\n      <td>13</td>\n      <td>methods</td>\n      <td>0.291914</td>\n      <td>-0.022006</td>\n      <td>0.066059</td>\n    </tr>\n    <tr>\n      <td>14</td>\n      <td>original</td>\n      <td>0.142479</td>\n      <td>-0.153378</td>\n      <td>-0.157115</td>\n    </tr>\n    <tr>\n      <td>15</td>\n      <td>paper</td>\n      <td>0.142479</td>\n      <td>-0.153378</td>\n      <td>-0.157115</td>\n    </tr>\n    <tr>\n      <td>16</td>\n      <td>propose</td>\n      <td>0.142479</td>\n      <td>-0.153378</td>\n      <td>-0.157115</td>\n    </tr>\n    <tr>\n      <td>17</td>\n      <td>rank</td>\n      <td>0.099232</td>\n      <td>0.168855</td>\n      <td>-0.063545</td>\n    </tr>\n    <tr>\n      <td>18</td>\n      <td>ranked</td>\n      <td>0.252543</td>\n      <td>-0.052737</td>\n      <td>0.332508</td>\n    </tr>\n    <tr>\n      <td>19</td>\n      <td>ranking</td>\n      <td>0.142479</td>\n      <td>-0.153378</td>\n      <td>-0.157115</td>\n    </tr>\n    <tr>\n      <td>20</td>\n      <td>relevances</td>\n      <td>0.099232</td>\n      <td>0.168855</td>\n      <td>-0.063545</td>\n    </tr>\n    <tr>\n      <td>21</td>\n      <td>second</td>\n      <td>0.099232</td>\n      <td>0.168855</td>\n      <td>-0.063545</td>\n    </tr>\n    <tr>\n      <td>22</td>\n      <td>select</td>\n      <td>0.252543</td>\n      <td>-0.052737</td>\n      <td>0.332508</td>\n    </tr>\n    <tr>\n      <td>23</td>\n      <td>semantic</td>\n      <td>0.099232</td>\n      <td>0.168855</td>\n      <td>-0.063545</td>\n    </tr>\n    <tr>\n      <td>24</td>\n      <td>semantically</td>\n      <td>0.099232</td>\n      <td>0.168855</td>\n      <td>-0.063545</td>\n    </tr>\n    <tr>\n      <td>25</td>\n      <td>sentence</td>\n      <td>0.099232</td>\n      <td>0.168855</td>\n      <td>-0.063545</td>\n    </tr>\n    <tr>\n      <td>26</td>\n      <td>sentences</td>\n      <td>0.291914</td>\n      <td>-0.022006</td>\n      <td>0.066059</td>\n    </tr>\n    <tr>\n      <td>27</td>\n      <td>standard</td>\n      <td>0.099232</td>\n      <td>0.168855</td>\n      <td>-0.063545</td>\n    </tr>\n    <tr>\n      <td>28</td>\n      <td>strive</td>\n      <td>0.252543</td>\n      <td>-0.052737</td>\n      <td>0.332508</td>\n    </tr>\n    <tr>\n      <td>29</td>\n      <td>summaries</td>\n      <td>0.142479</td>\n      <td>-0.153378</td>\n      <td>-0.157115</td>\n    </tr>\n    <tr>\n      <td>30</td>\n      <td>summarization</td>\n      <td>0.142479</td>\n      <td>-0.153378</td>\n      <td>-0.157115</td>\n    </tr>\n    <tr>\n      <td>31</td>\n      <td>summary</td>\n      <td>0.099232</td>\n      <td>0.168855</td>\n      <td>-0.063545</td>\n    </tr>\n    <tr>\n      <td>32</td>\n      <td>technique</td>\n      <td>0.099232</td>\n      <td>0.168855</td>\n      <td>-0.063545</td>\n    </tr>\n    <tr>\n      <td>33</td>\n      <td>text</td>\n      <td>0.284958</td>\n      <td>-0.306756</td>\n      <td>-0.314231</td>\n    </tr>\n    <tr>\n      <td>34</td>\n      <td>uses</td>\n      <td>0.198463</td>\n      <td>0.337711</td>\n      <td>-0.127089</td>\n    </tr>\n  </tbody>\n</table>\n</div>"
     },
     "metadata": {}
    },
    {
     "output_type": "display_data",
     "data": {
      "text/plain": "            Terms    topic1\n26      sentences  0.291914\n13        methods  0.291914\n33           text  0.284958\n3       different  0.252543\n22         select  0.252543\n28         strive  0.252543\n18         ranked  0.252543\n7          highly  0.252543\n34           uses  0.198463\n12         method  0.198463\n30  summarization  0.142479\n29      summaries  0.142479\n14       original  0.142479\n15          paper  0.142479\n16        propose  0.142479\n1          create  0.142479\n6         generic  0.142479\n19        ranking  0.142479\n5      extracting  0.142479\n4       documents  0.142479\n31        summary  0.099232\n25       sentence  0.099232\n32      technique  0.099232\n27       standard  0.099232\n17           rank  0.099232\n24   semantically  0.099232\n23       semantic  0.099232\n21         second  0.099232\n20     relevances  0.099232\n11         latent  0.099232\n10             ir  0.099232\n9       important  0.099232\n8        identify  0.099232\n2       creations  0.099232\n0        analysis  0.099232",
      "text/html": "<div>\n<style scoped>\n    .dataframe tbody tr th:only-of-type {\n        vertical-align: middle;\n    }\n\n    .dataframe tbody tr th {\n        vertical-align: top;\n    }\n\n    .dataframe thead th {\n        text-align: right;\n    }\n</style>\n<table border=\"1\" class=\"dataframe\">\n  <thead>\n    <tr style=\"text-align: right;\">\n      <th></th>\n      <th>Terms</th>\n      <th>topic1</th>\n    </tr>\n  </thead>\n  <tbody>\n    <tr>\n      <td>26</td>\n      <td>sentences</td>\n      <td>0.291914</td>\n    </tr>\n    <tr>\n      <td>13</td>\n      <td>methods</td>\n      <td>0.291914</td>\n    </tr>\n    <tr>\n      <td>33</td>\n      <td>text</td>\n      <td>0.284958</td>\n    </tr>\n    <tr>\n      <td>3</td>\n      <td>different</td>\n      <td>0.252543</td>\n    </tr>\n    <tr>\n      <td>22</td>\n      <td>select</td>\n      <td>0.252543</td>\n    </tr>\n    <tr>\n      <td>28</td>\n      <td>strive</td>\n      <td>0.252543</td>\n    </tr>\n    <tr>\n      <td>18</td>\n      <td>ranked</td>\n      <td>0.252543</td>\n    </tr>\n    <tr>\n      <td>7</td>\n      <td>highly</td>\n      <td>0.252543</td>\n    </tr>\n    <tr>\n      <td>34</td>\n      <td>uses</td>\n      <td>0.198463</td>\n    </tr>\n    <tr>\n      <td>12</td>\n      <td>method</td>\n      <td>0.198463</td>\n    </tr>\n    <tr>\n      <td>30</td>\n      <td>summarization</td>\n      <td>0.142479</td>\n    </tr>\n    <tr>\n      <td>29</td>\n      <td>summaries</td>\n      <td>0.142479</td>\n    </tr>\n    <tr>\n      <td>14</td>\n      <td>original</td>\n      <td>0.142479</td>\n    </tr>\n    <tr>\n      <td>15</td>\n      <td>paper</td>\n      <td>0.142479</td>\n    </tr>\n    <tr>\n      <td>16</td>\n      <td>propose</td>\n      <td>0.142479</td>\n    </tr>\n    <tr>\n      <td>1</td>\n      <td>create</td>\n      <td>0.142479</td>\n    </tr>\n    <tr>\n      <td>6</td>\n      <td>generic</td>\n      <td>0.142479</td>\n    </tr>\n    <tr>\n      <td>19</td>\n      <td>ranking</td>\n      <td>0.142479</td>\n    </tr>\n    <tr>\n      <td>5</td>\n      <td>extracting</td>\n      <td>0.142479</td>\n    </tr>\n    <tr>\n      <td>4</td>\n      <td>documents</td>\n      <td>0.142479</td>\n    </tr>\n    <tr>\n      <td>31</td>\n      <td>summary</td>\n      <td>0.099232</td>\n    </tr>\n    <tr>\n      <td>25</td>\n      <td>sentence</td>\n      <td>0.099232</td>\n    </tr>\n    <tr>\n      <td>32</td>\n      <td>technique</td>\n      <td>0.099232</td>\n    </tr>\n    <tr>\n      <td>27</td>\n      <td>standard</td>\n      <td>0.099232</td>\n    </tr>\n    <tr>\n      <td>17</td>\n      <td>rank</td>\n      <td>0.099232</td>\n    </tr>\n    <tr>\n      <td>24</td>\n      <td>semantically</td>\n      <td>0.099232</td>\n    </tr>\n    <tr>\n      <td>23</td>\n      <td>semantic</td>\n      <td>0.099232</td>\n    </tr>\n    <tr>\n      <td>21</td>\n      <td>second</td>\n      <td>0.099232</td>\n    </tr>\n    <tr>\n      <td>20</td>\n      <td>relevances</td>\n      <td>0.099232</td>\n    </tr>\n    <tr>\n      <td>11</td>\n      <td>latent</td>\n      <td>0.099232</td>\n    </tr>\n    <tr>\n      <td>10</td>\n      <td>ir</td>\n      <td>0.099232</td>\n    </tr>\n    <tr>\n      <td>9</td>\n      <td>important</td>\n      <td>0.099232</td>\n    </tr>\n    <tr>\n      <td>8</td>\n      <td>identify</td>\n      <td>0.099232</td>\n    </tr>\n    <tr>\n      <td>2</td>\n      <td>creations</td>\n      <td>0.099232</td>\n    </tr>\n    <tr>\n      <td>0</td>\n      <td>analysis</td>\n      <td>0.099232</td>\n    </tr>\n  </tbody>\n</table>\n</div>"
     },
     "metadata": {}
    },
    {
     "output_type": "display_data",
     "data": {
      "text/plain": "            Terms    topic2\n34           uses  0.337711\n12         method  0.337711\n11         latent  0.168855\n32      technique  0.168855\n31        summary  0.168855\n27       standard  0.168855\n25       sentence  0.168855\n24   semantically  0.168855\n23       semantic  0.168855\n21         second  0.168855\n20     relevances  0.168855\n17           rank  0.168855\n10             ir  0.168855\n9       important  0.168855\n2       creations  0.168855\n8        identify  0.168855\n0        analysis  0.168855\n26      sentences -0.022006\n13        methods -0.022006\n3       different -0.052737\n28         strive -0.052737\n18         ranked -0.052737\n7          highly -0.052737\n22         select -0.052737\n6         generic -0.153378\n5      extracting -0.153378\n15          paper -0.153378\n4       documents -0.153378\n16        propose -0.153378\n29      summaries -0.153378\n30  summarization -0.153378\n19        ranking -0.153378\n14       original -0.153378\n1          create -0.153378\n33           text -0.306756",
      "text/html": "<div>\n<style scoped>\n    .dataframe tbody tr th:only-of-type {\n        vertical-align: middle;\n    }\n\n    .dataframe tbody tr th {\n        vertical-align: top;\n    }\n\n    .dataframe thead th {\n        text-align: right;\n    }\n</style>\n<table border=\"1\" class=\"dataframe\">\n  <thead>\n    <tr style=\"text-align: right;\">\n      <th></th>\n      <th>Terms</th>\n      <th>topic2</th>\n    </tr>\n  </thead>\n  <tbody>\n    <tr>\n      <td>34</td>\n      <td>uses</td>\n      <td>0.337711</td>\n    </tr>\n    <tr>\n      <td>12</td>\n      <td>method</td>\n      <td>0.337711</td>\n    </tr>\n    <tr>\n      <td>11</td>\n      <td>latent</td>\n      <td>0.168855</td>\n    </tr>\n    <tr>\n      <td>32</td>\n      <td>technique</td>\n      <td>0.168855</td>\n    </tr>\n    <tr>\n      <td>31</td>\n      <td>summary</td>\n      <td>0.168855</td>\n    </tr>\n    <tr>\n      <td>27</td>\n      <td>standard</td>\n      <td>0.168855</td>\n    </tr>\n    <tr>\n      <td>25</td>\n      <td>sentence</td>\n      <td>0.168855</td>\n    </tr>\n    <tr>\n      <td>24</td>\n      <td>semantically</td>\n      <td>0.168855</td>\n    </tr>\n    <tr>\n      <td>23</td>\n      <td>semantic</td>\n      <td>0.168855</td>\n    </tr>\n    <tr>\n      <td>21</td>\n      <td>second</td>\n      <td>0.168855</td>\n    </tr>\n    <tr>\n      <td>20</td>\n      <td>relevances</td>\n      <td>0.168855</td>\n    </tr>\n    <tr>\n      <td>17</td>\n      <td>rank</td>\n      <td>0.168855</td>\n    </tr>\n    <tr>\n      <td>10</td>\n      <td>ir</td>\n      <td>0.168855</td>\n    </tr>\n    <tr>\n      <td>9</td>\n      <td>important</td>\n      <td>0.168855</td>\n    </tr>\n    <tr>\n      <td>2</td>\n      <td>creations</td>\n      <td>0.168855</td>\n    </tr>\n    <tr>\n      <td>8</td>\n      <td>identify</td>\n      <td>0.168855</td>\n    </tr>\n    <tr>\n      <td>0</td>\n      <td>analysis</td>\n      <td>0.168855</td>\n    </tr>\n    <tr>\n      <td>26</td>\n      <td>sentences</td>\n      <td>-0.022006</td>\n    </tr>\n    <tr>\n      <td>13</td>\n      <td>methods</td>\n      <td>-0.022006</td>\n    </tr>\n    <tr>\n      <td>3</td>\n      <td>different</td>\n      <td>-0.052737</td>\n    </tr>\n    <tr>\n      <td>28</td>\n      <td>strive</td>\n      <td>-0.052737</td>\n    </tr>\n    <tr>\n      <td>18</td>\n      <td>ranked</td>\n      <td>-0.052737</td>\n    </tr>\n    <tr>\n      <td>7</td>\n      <td>highly</td>\n      <td>-0.052737</td>\n    </tr>\n    <tr>\n      <td>22</td>\n      <td>select</td>\n      <td>-0.052737</td>\n    </tr>\n    <tr>\n      <td>6</td>\n      <td>generic</td>\n      <td>-0.153378</td>\n    </tr>\n    <tr>\n      <td>5</td>\n      <td>extracting</td>\n      <td>-0.153378</td>\n    </tr>\n    <tr>\n      <td>15</td>\n      <td>paper</td>\n      <td>-0.153378</td>\n    </tr>\n    <tr>\n      <td>4</td>\n      <td>documents</td>\n      <td>-0.153378</td>\n    </tr>\n    <tr>\n      <td>16</td>\n      <td>propose</td>\n      <td>-0.153378</td>\n    </tr>\n    <tr>\n      <td>29</td>\n      <td>summaries</td>\n      <td>-0.153378</td>\n    </tr>\n    <tr>\n      <td>30</td>\n      <td>summarization</td>\n      <td>-0.153378</td>\n    </tr>\n    <tr>\n      <td>19</td>\n      <td>ranking</td>\n      <td>-0.153378</td>\n    </tr>\n    <tr>\n      <td>14</td>\n      <td>original</td>\n      <td>-0.153378</td>\n    </tr>\n    <tr>\n      <td>1</td>\n      <td>create</td>\n      <td>-0.153378</td>\n    </tr>\n    <tr>\n      <td>33</td>\n      <td>text</td>\n      <td>-0.306756</td>\n    </tr>\n  </tbody>\n</table>\n</div>"
     },
     "metadata": {}
    },
    {
     "output_type": "display_data",
     "data": {
      "text/plain": "            Terms    topic3\n18         ranked  0.332508\n3       different  0.332508\n28         strive  0.332508\n7          highly  0.332508\n22         select  0.332508\n26      sentences  0.066059\n13        methods  0.066059\n0        analysis -0.063545\n32      technique -0.063545\n31        summary -0.063545\n27       standard -0.063545\n25       sentence -0.063545\n24   semantically -0.063545\n23       semantic -0.063545\n21         second -0.063545\n20     relevances -0.063545\n17           rank -0.063545\n8        identify -0.063545\n11         latent -0.063545\n9       important -0.063545\n10             ir -0.063545\n2       creations -0.063545\n34           uses -0.127089\n12         method -0.127089\n14       original -0.157115\n15          paper -0.157115\n16        propose -0.157115\n6         generic -0.157115\n5      extracting -0.157115\n29      summaries -0.157115\n30  summarization -0.157115\n4       documents -0.157115\n19        ranking -0.157115\n1          create -0.157115\n33           text -0.314231",
      "text/html": "<div>\n<style scoped>\n    .dataframe tbody tr th:only-of-type {\n        vertical-align: middle;\n    }\n\n    .dataframe tbody tr th {\n        vertical-align: top;\n    }\n\n    .dataframe thead th {\n        text-align: right;\n    }\n</style>\n<table border=\"1\" class=\"dataframe\">\n  <thead>\n    <tr style=\"text-align: right;\">\n      <th></th>\n      <th>Terms</th>\n      <th>topic3</th>\n    </tr>\n  </thead>\n  <tbody>\n    <tr>\n      <td>18</td>\n      <td>ranked</td>\n      <td>0.332508</td>\n    </tr>\n    <tr>\n      <td>3</td>\n      <td>different</td>\n      <td>0.332508</td>\n    </tr>\n    <tr>\n      <td>28</td>\n      <td>strive</td>\n      <td>0.332508</td>\n    </tr>\n    <tr>\n      <td>7</td>\n      <td>highly</td>\n      <td>0.332508</td>\n    </tr>\n    <tr>\n      <td>22</td>\n      <td>select</td>\n      <td>0.332508</td>\n    </tr>\n    <tr>\n      <td>26</td>\n      <td>sentences</td>\n      <td>0.066059</td>\n    </tr>\n    <tr>\n      <td>13</td>\n      <td>methods</td>\n      <td>0.066059</td>\n    </tr>\n    <tr>\n      <td>0</td>\n      <td>analysis</td>\n      <td>-0.063545</td>\n    </tr>\n    <tr>\n      <td>32</td>\n      <td>technique</td>\n      <td>-0.063545</td>\n    </tr>\n    <tr>\n      <td>31</td>\n      <td>summary</td>\n      <td>-0.063545</td>\n    </tr>\n    <tr>\n      <td>27</td>\n      <td>standard</td>\n      <td>-0.063545</td>\n    </tr>\n    <tr>\n      <td>25</td>\n      <td>sentence</td>\n      <td>-0.063545</td>\n    </tr>\n    <tr>\n      <td>24</td>\n      <td>semantically</td>\n      <td>-0.063545</td>\n    </tr>\n    <tr>\n      <td>23</td>\n      <td>semantic</td>\n      <td>-0.063545</td>\n    </tr>\n    <tr>\n      <td>21</td>\n      <td>second</td>\n      <td>-0.063545</td>\n    </tr>\n    <tr>\n      <td>20</td>\n      <td>relevances</td>\n      <td>-0.063545</td>\n    </tr>\n    <tr>\n      <td>17</td>\n      <td>rank</td>\n      <td>-0.063545</td>\n    </tr>\n    <tr>\n      <td>8</td>\n      <td>identify</td>\n      <td>-0.063545</td>\n    </tr>\n    <tr>\n      <td>11</td>\n      <td>latent</td>\n      <td>-0.063545</td>\n    </tr>\n    <tr>\n      <td>9</td>\n      <td>important</td>\n      <td>-0.063545</td>\n    </tr>\n    <tr>\n      <td>10</td>\n      <td>ir</td>\n      <td>-0.063545</td>\n    </tr>\n    <tr>\n      <td>2</td>\n      <td>creations</td>\n      <td>-0.063545</td>\n    </tr>\n    <tr>\n      <td>34</td>\n      <td>uses</td>\n      <td>-0.127089</td>\n    </tr>\n    <tr>\n      <td>12</td>\n      <td>method</td>\n      <td>-0.127089</td>\n    </tr>\n    <tr>\n      <td>14</td>\n      <td>original</td>\n      <td>-0.157115</td>\n    </tr>\n    <tr>\n      <td>15</td>\n      <td>paper</td>\n      <td>-0.157115</td>\n    </tr>\n    <tr>\n      <td>16</td>\n      <td>propose</td>\n      <td>-0.157115</td>\n    </tr>\n    <tr>\n      <td>6</td>\n      <td>generic</td>\n      <td>-0.157115</td>\n    </tr>\n    <tr>\n      <td>5</td>\n      <td>extracting</td>\n      <td>-0.157115</td>\n    </tr>\n    <tr>\n      <td>29</td>\n      <td>summaries</td>\n      <td>-0.157115</td>\n    </tr>\n    <tr>\n      <td>30</td>\n      <td>summarization</td>\n      <td>-0.157115</td>\n    </tr>\n    <tr>\n      <td>4</td>\n      <td>documents</td>\n      <td>-0.157115</td>\n    </tr>\n    <tr>\n      <td>19</td>\n      <td>ranking</td>\n      <td>-0.157115</td>\n    </tr>\n    <tr>\n      <td>1</td>\n      <td>create</td>\n      <td>-0.157115</td>\n    </tr>\n    <tr>\n      <td>33</td>\n      <td>text</td>\n      <td>-0.314231</td>\n    </tr>\n  </tbody>\n</table>\n</div>"
     },
     "metadata": {}
    },
    {
     "output_type": "stream",
     "name": "stdout",
     "text": [
      "----------------------------------------------------------\n"
     ]
    }
   ],
   "source": [
    "corpus = [\n",
    "    'In this paper, we propose two generic text summarization methods that create text summaries by ranking and extracting sentences from the original documents.',\n",
    "    'The first method uses standard IR methods to rank sentence relevances, while the second method uses the latent semantic analysis technique to identify semantically important sentences, for summary creations.',\n",
    "    'Both methods strive to select sentences that are highly ranked and different from each other.'\n",
    "]\n",
    "\n",
    "tfidfVec, vocab = tfidf(corpus)\n",
    "print(tfidfVec)\n",
    "print(len(vocab))\n",
    "print('----------------------------------------------------------')\n",
    "\n",
    "svdVec, sigma, vt = svd(tfidfVec)\n",
    "numTopics = svdVec.shape[1] + 1\n",
    "\n",
    "df = pd.DataFrame(svdVec, columns=[f'topic{str(i)}' for i in range(1, numTopics)])\n",
    "docCol = pd.DataFrame({'Documents': corpus})\n",
    "df = pd.concat([docCol, df], axis = 1)\n",
    "\n",
    "display(df)\n",
    "print('----------------------------------------------------------')\n",
    "print(sigma)\n",
    "\n",
    "print('----------------------------------------------------------')\n",
    "\n",
    "dfVt = pd.DataFrame(vt, columns=[f'topic{str(i)}' for i in range(1, numTopics)])\n",
    "vocabCol = pd.DataFrame({'Terms': vocab})\n",
    "dfVt = pd.concat([vocabCol, dfVt], axis = 1)\n",
    "\n",
    "display(dfVt)\n",
    "\n",
    "for i in range(1, numTopics):\n",
    "    dfVtSort = dfVt.sort_values(by=f'topic{i}', ascending=False)\n",
    "    display(dfVtSort[['Terms', f'topic{i}']])\n",
    "print('----------------------------------------------------------')\n",
    "\n",
    "\n",
    "#df = pd.DataFrame()\n",
    "#print(df)"
   ]
  },
  {
   "cell_type": "code",
   "execution_count": null,
   "metadata": {},
   "outputs": [],
   "source": []
  }
 ],
 "metadata": {
  "kernelspec": {
   "display_name": "summarizerEnv",
   "language": "python",
   "name": "summarizerenv"
  },
  "language_info": {
   "codemirror_mode": {
    "name": "ipython",
    "version": 3
   },
   "file_extension": ".py",
   "mimetype": "text/x-python",
   "name": "python",
   "nbconvert_exporter": "python",
   "pygments_lexer": "ipython3",
   "version": "3.7.4-final"
  }
 },
 "nbformat": 4,
 "nbformat_minor": 2
}